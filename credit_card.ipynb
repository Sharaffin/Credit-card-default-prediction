{
  "nbformat": 4,
  "nbformat_minor": 0,
  "metadata": {
    "colab": {
      "name": "credit card.ipynb",
      "provenance": [],
      "include_colab_link": true
    },
    "kernelspec": {
      "name": "python3",
      "display_name": "Python 3"
    },
    "language_info": {
      "name": "python"
    }
  },
  "cells": [
    {
      "cell_type": "markdown",
      "metadata": {
        "id": "view-in-github",
        "colab_type": "text"
      },
      "source": [
        "<a href=\"https://colab.research.google.com/github/Sharaffin/Credit-card-default-prediction/blob/main/credit_card.ipynb\" target=\"_parent\"><img src=\"https://colab.research.google.com/assets/colab-badge.svg\" alt=\"Open In Colab\"/></a>"
      ]
    },
    {
      "cell_type": "markdown",
      "metadata": {
        "id": "tOGC-qoyhJeX"
      },
      "source": [
        "# <b><u> Project Title : Predicting whether a customer will default on his/her credit card </u></b>"
      ]
    },
    {
      "cell_type": "markdown",
      "metadata": {
        "id": "Y06xIdG26kRF"
      },
      "source": [
        "## <b> Problem Description </b>\n",
        "\n",
        "### This project is aimed at predicting the case of customers default payments in Taiwan. From the perspective of risk management, the result of predictive accuracy of the estimated probability of default will be more valuable than the binary result of classification - credible or not credible clients. We can use the [K-S chart](https://www.listendata.com/2019/07/KS-Statistics-Python.html) to evaluate which customers will default on their credit card payments\n"
      ]
    },
    {
      "cell_type": "markdown",
      "metadata": {
        "id": "AlLxAtlziMbP"
      },
      "source": [
        "## <b> Data Description </b>\n",
        "\n",
        "### <b>Attribute Information: </b>\n",
        "\n",
        "### This research employed a binary variable, default payment (Yes = 1, No = 0), as the response variable. This study reviewed the literature and used the following 23 variables as explanatory variables:\n",
        "* ### X1: Amount of the given credit (NT dollar): it includes both the individual consumer credit and his/her family (supplementary) credit.\n",
        "* ### X2: Gender (1 = male; 2 = female).\n",
        "* ### X3: Education (1 = graduate school; 2 = university; 3 = high school; 4 = others).\n",
        "* ### X4: Marital status (1 = married; 2 = single; 3 = others).\n",
        "* ### X5: Age (year).\n",
        "* ### X6 - X11: History of past payment. We tracked the past monthly payment records (from April to September, 2005) as follows: X6 = the repayment status in September, 2005; X7 = the repayment status in August, 2005; . . .;X11 = the repayment status in April, 2005. The measurement scale for the repayment status is: -1 = pay duly; 1 = payment delay for one month; 2 = payment delay for two months; . . .; 8 = payment delay for eight months; 9 = payment delay for nine months and above.\n",
        "* ### X12-X17: Amount of bill statement (NT dollar). X12 = amount of bill statement in September, 2005; X13 = amount of bill statement in August, 2005; . . .; X17 = amount of bill statement in April, 2005.\n",
        "* ### X18-X23: Amount of previous payment (NT dollar). X18 = amount paid in September, 2005; X19 = amount paid in August, 2005; . . .;X23 = amount paid in April, 2005."
      ]
    },
    {
      "cell_type": "code",
      "execution_count": null,
      "metadata": {
        "id": "D9rF70U0OK7g"
      },
      "outputs": [],
      "source": [
        "import pandas as pd\n",
        "import numpy as np\n",
        "from matplotlib import pyplot as plt\n",
        "import seaborn as sns\n",
        "import statistics as stats\n",
        "from sklearn import preprocessing\n"
      ]
    },
    {
      "cell_type": "code",
      "source": [
        "from google.colab import drive\n",
        "drive.mount('/content/drive')"
      ],
      "metadata": {
        "colab": {
          "base_uri": "https://localhost:8080/"
        },
        "id": "Sn5aq026ykwG",
        "outputId": "a7e05fdd-2685-4912-c1f3-a22cc3f3c9dd"
      },
      "execution_count": null,
      "outputs": [
        {
          "output_type": "stream",
          "name": "stdout",
          "text": [
            "Mounted at /content/drive\n"
          ]
        }
      ]
    },
    {
      "cell_type": "code",
      "source": [
        "path = \"/content/drive/MyDrive/ALMABETTER/ML 2nd proj/default of credit card clients.csv\"\n",
        "df = pd.read_csv(path)\n",
        "\n",
        "df.head()"
      ],
      "metadata": {
        "colab": {
          "base_uri": "https://localhost:8080/",
          "height": 369
        },
        "id": "Wm2Q2VzhOyYu",
        "outputId": "9a7d1152-ac03-48be-e404-f3627e59aa88"
      },
      "execution_count": null,
      "outputs": [
        {
          "output_type": "execute_result",
          "data": {
            "text/plain": [
              "  Unnamed: 0         X1   X2         X3        X4   X5     X6     X7     X8  \\\n",
              "0         ID  LIMIT_BAL  SEX  EDUCATION  MARRIAGE  AGE  PAY_0  PAY_2  PAY_3   \n",
              "1          1      20000    2          2         1   24      2      2     -1   \n",
              "2          2     120000    2          2         2   26     -1      2      0   \n",
              "3          3      90000    2          2         2   34      0      0      0   \n",
              "4          4      50000    2          2         1   37      0      0      0   \n",
              "\n",
              "      X9  ...        X15        X16        X17       X18       X19       X20  \\\n",
              "0  PAY_4  ...  BILL_AMT4  BILL_AMT5  BILL_AMT6  PAY_AMT1  PAY_AMT2  PAY_AMT3   \n",
              "1     -1  ...          0          0          0         0       689         0   \n",
              "2      0  ...       3272       3455       3261         0      1000      1000   \n",
              "3      0  ...      14331      14948      15549      1518      1500      1000   \n",
              "4      0  ...      28314      28959      29547      2000      2019      1200   \n",
              "\n",
              "        X21       X22       X23                           Y  \n",
              "0  PAY_AMT4  PAY_AMT5  PAY_AMT6  default payment next month  \n",
              "1         0         0         0                           1  \n",
              "2      1000         0      2000                           1  \n",
              "3      1000      1000      5000                           0  \n",
              "4      1100      1069      1000                           0  \n",
              "\n",
              "[5 rows x 25 columns]"
            ],
            "text/html": [
              "\n",
              "  <div id=\"df-5dbf52a6-9c0c-45eb-938a-e3a6c1f94b32\">\n",
              "    <div class=\"colab-df-container\">\n",
              "      <div>\n",
              "<style scoped>\n",
              "    .dataframe tbody tr th:only-of-type {\n",
              "        vertical-align: middle;\n",
              "    }\n",
              "\n",
              "    .dataframe tbody tr th {\n",
              "        vertical-align: top;\n",
              "    }\n",
              "\n",
              "    .dataframe thead th {\n",
              "        text-align: right;\n",
              "    }\n",
              "</style>\n",
              "<table border=\"1\" class=\"dataframe\">\n",
              "  <thead>\n",
              "    <tr style=\"text-align: right;\">\n",
              "      <th></th>\n",
              "      <th>Unnamed: 0</th>\n",
              "      <th>X1</th>\n",
              "      <th>X2</th>\n",
              "      <th>X3</th>\n",
              "      <th>X4</th>\n",
              "      <th>X5</th>\n",
              "      <th>X6</th>\n",
              "      <th>X7</th>\n",
              "      <th>X8</th>\n",
              "      <th>X9</th>\n",
              "      <th>...</th>\n",
              "      <th>X15</th>\n",
              "      <th>X16</th>\n",
              "      <th>X17</th>\n",
              "      <th>X18</th>\n",
              "      <th>X19</th>\n",
              "      <th>X20</th>\n",
              "      <th>X21</th>\n",
              "      <th>X22</th>\n",
              "      <th>X23</th>\n",
              "      <th>Y</th>\n",
              "    </tr>\n",
              "  </thead>\n",
              "  <tbody>\n",
              "    <tr>\n",
              "      <th>0</th>\n",
              "      <td>ID</td>\n",
              "      <td>LIMIT_BAL</td>\n",
              "      <td>SEX</td>\n",
              "      <td>EDUCATION</td>\n",
              "      <td>MARRIAGE</td>\n",
              "      <td>AGE</td>\n",
              "      <td>PAY_0</td>\n",
              "      <td>PAY_2</td>\n",
              "      <td>PAY_3</td>\n",
              "      <td>PAY_4</td>\n",
              "      <td>...</td>\n",
              "      <td>BILL_AMT4</td>\n",
              "      <td>BILL_AMT5</td>\n",
              "      <td>BILL_AMT6</td>\n",
              "      <td>PAY_AMT1</td>\n",
              "      <td>PAY_AMT2</td>\n",
              "      <td>PAY_AMT3</td>\n",
              "      <td>PAY_AMT4</td>\n",
              "      <td>PAY_AMT5</td>\n",
              "      <td>PAY_AMT6</td>\n",
              "      <td>default payment next month</td>\n",
              "    </tr>\n",
              "    <tr>\n",
              "      <th>1</th>\n",
              "      <td>1</td>\n",
              "      <td>20000</td>\n",
              "      <td>2</td>\n",
              "      <td>2</td>\n",
              "      <td>1</td>\n",
              "      <td>24</td>\n",
              "      <td>2</td>\n",
              "      <td>2</td>\n",
              "      <td>-1</td>\n",
              "      <td>-1</td>\n",
              "      <td>...</td>\n",
              "      <td>0</td>\n",
              "      <td>0</td>\n",
              "      <td>0</td>\n",
              "      <td>0</td>\n",
              "      <td>689</td>\n",
              "      <td>0</td>\n",
              "      <td>0</td>\n",
              "      <td>0</td>\n",
              "      <td>0</td>\n",
              "      <td>1</td>\n",
              "    </tr>\n",
              "    <tr>\n",
              "      <th>2</th>\n",
              "      <td>2</td>\n",
              "      <td>120000</td>\n",
              "      <td>2</td>\n",
              "      <td>2</td>\n",
              "      <td>2</td>\n",
              "      <td>26</td>\n",
              "      <td>-1</td>\n",
              "      <td>2</td>\n",
              "      <td>0</td>\n",
              "      <td>0</td>\n",
              "      <td>...</td>\n",
              "      <td>3272</td>\n",
              "      <td>3455</td>\n",
              "      <td>3261</td>\n",
              "      <td>0</td>\n",
              "      <td>1000</td>\n",
              "      <td>1000</td>\n",
              "      <td>1000</td>\n",
              "      <td>0</td>\n",
              "      <td>2000</td>\n",
              "      <td>1</td>\n",
              "    </tr>\n",
              "    <tr>\n",
              "      <th>3</th>\n",
              "      <td>3</td>\n",
              "      <td>90000</td>\n",
              "      <td>2</td>\n",
              "      <td>2</td>\n",
              "      <td>2</td>\n",
              "      <td>34</td>\n",
              "      <td>0</td>\n",
              "      <td>0</td>\n",
              "      <td>0</td>\n",
              "      <td>0</td>\n",
              "      <td>...</td>\n",
              "      <td>14331</td>\n",
              "      <td>14948</td>\n",
              "      <td>15549</td>\n",
              "      <td>1518</td>\n",
              "      <td>1500</td>\n",
              "      <td>1000</td>\n",
              "      <td>1000</td>\n",
              "      <td>1000</td>\n",
              "      <td>5000</td>\n",
              "      <td>0</td>\n",
              "    </tr>\n",
              "    <tr>\n",
              "      <th>4</th>\n",
              "      <td>4</td>\n",
              "      <td>50000</td>\n",
              "      <td>2</td>\n",
              "      <td>2</td>\n",
              "      <td>1</td>\n",
              "      <td>37</td>\n",
              "      <td>0</td>\n",
              "      <td>0</td>\n",
              "      <td>0</td>\n",
              "      <td>0</td>\n",
              "      <td>...</td>\n",
              "      <td>28314</td>\n",
              "      <td>28959</td>\n",
              "      <td>29547</td>\n",
              "      <td>2000</td>\n",
              "      <td>2019</td>\n",
              "      <td>1200</td>\n",
              "      <td>1100</td>\n",
              "      <td>1069</td>\n",
              "      <td>1000</td>\n",
              "      <td>0</td>\n",
              "    </tr>\n",
              "  </tbody>\n",
              "</table>\n",
              "<p>5 rows × 25 columns</p>\n",
              "</div>\n",
              "      <button class=\"colab-df-convert\" onclick=\"convertToInteractive('df-5dbf52a6-9c0c-45eb-938a-e3a6c1f94b32')\"\n",
              "              title=\"Convert this dataframe to an interactive table.\"\n",
              "              style=\"display:none;\">\n",
              "        \n",
              "  <svg xmlns=\"http://www.w3.org/2000/svg\" height=\"24px\"viewBox=\"0 0 24 24\"\n",
              "       width=\"24px\">\n",
              "    <path d=\"M0 0h24v24H0V0z\" fill=\"none\"/>\n",
              "    <path d=\"M18.56 5.44l.94 2.06.94-2.06 2.06-.94-2.06-.94-.94-2.06-.94 2.06-2.06.94zm-11 1L8.5 8.5l.94-2.06 2.06-.94-2.06-.94L8.5 2.5l-.94 2.06-2.06.94zm10 10l.94 2.06.94-2.06 2.06-.94-2.06-.94-.94-2.06-.94 2.06-2.06.94z\"/><path d=\"M17.41 7.96l-1.37-1.37c-.4-.4-.92-.59-1.43-.59-.52 0-1.04.2-1.43.59L10.3 9.45l-7.72 7.72c-.78.78-.78 2.05 0 2.83L4 21.41c.39.39.9.59 1.41.59.51 0 1.02-.2 1.41-.59l7.78-7.78 2.81-2.81c.8-.78.8-2.07 0-2.86zM5.41 20L4 18.59l7.72-7.72 1.47 1.35L5.41 20z\"/>\n",
              "  </svg>\n",
              "      </button>\n",
              "      \n",
              "  <style>\n",
              "    .colab-df-container {\n",
              "      display:flex;\n",
              "      flex-wrap:wrap;\n",
              "      gap: 12px;\n",
              "    }\n",
              "\n",
              "    .colab-df-convert {\n",
              "      background-color: #E8F0FE;\n",
              "      border: none;\n",
              "      border-radius: 50%;\n",
              "      cursor: pointer;\n",
              "      display: none;\n",
              "      fill: #1967D2;\n",
              "      height: 32px;\n",
              "      padding: 0 0 0 0;\n",
              "      width: 32px;\n",
              "    }\n",
              "\n",
              "    .colab-df-convert:hover {\n",
              "      background-color: #E2EBFA;\n",
              "      box-shadow: 0px 1px 2px rgba(60, 64, 67, 0.3), 0px 1px 3px 1px rgba(60, 64, 67, 0.15);\n",
              "      fill: #174EA6;\n",
              "    }\n",
              "\n",
              "    [theme=dark] .colab-df-convert {\n",
              "      background-color: #3B4455;\n",
              "      fill: #D2E3FC;\n",
              "    }\n",
              "\n",
              "    [theme=dark] .colab-df-convert:hover {\n",
              "      background-color: #434B5C;\n",
              "      box-shadow: 0px 1px 3px 1px rgba(0, 0, 0, 0.15);\n",
              "      filter: drop-shadow(0px 1px 2px rgba(0, 0, 0, 0.3));\n",
              "      fill: #FFFFFF;\n",
              "    }\n",
              "  </style>\n",
              "\n",
              "      <script>\n",
              "        const buttonEl =\n",
              "          document.querySelector('#df-5dbf52a6-9c0c-45eb-938a-e3a6c1f94b32 button.colab-df-convert');\n",
              "        buttonEl.style.display =\n",
              "          google.colab.kernel.accessAllowed ? 'block' : 'none';\n",
              "\n",
              "        async function convertToInteractive(key) {\n",
              "          const element = document.querySelector('#df-5dbf52a6-9c0c-45eb-938a-e3a6c1f94b32');\n",
              "          const dataTable =\n",
              "            await google.colab.kernel.invokeFunction('convertToInteractive',\n",
              "                                                     [key], {});\n",
              "          if (!dataTable) return;\n",
              "\n",
              "          const docLinkHtml = 'Like what you see? Visit the ' +\n",
              "            '<a target=\"_blank\" href=https://colab.research.google.com/notebooks/data_table.ipynb>data table notebook</a>'\n",
              "            + ' to learn more about interactive tables.';\n",
              "          element.innerHTML = '';\n",
              "          dataTable['output_type'] = 'display_data';\n",
              "          await google.colab.output.renderOutput(dataTable, element);\n",
              "          const docLink = document.createElement('div');\n",
              "          docLink.innerHTML = docLinkHtml;\n",
              "          element.appendChild(docLink);\n",
              "        }\n",
              "      </script>\n",
              "    </div>\n",
              "  </div>\n",
              "  "
            ]
          },
          "metadata": {},
          "execution_count": 3
        }
      ]
    },
    {
      "cell_type": "code",
      "source": [
        "df.columns = df.iloc[0,:]"
      ],
      "metadata": {
        "id": "LpaVwOI-PFn9"
      },
      "execution_count": null,
      "outputs": []
    },
    {
      "cell_type": "code",
      "source": [
        "df = df.iloc[1:,1:]"
      ],
      "metadata": {
        "id": "d8onrSpfQHDw"
      },
      "execution_count": null,
      "outputs": []
    },
    {
      "cell_type": "code",
      "source": [
        "df.head()"
      ],
      "metadata": {
        "colab": {
          "base_uri": "https://localhost:8080/",
          "height": 332
        },
        "id": "RMXe_SBSQIjG",
        "outputId": "fa0fddc5-0a20-4eb6-86c0-f4690e4e22b2"
      },
      "execution_count": null,
      "outputs": [
        {
          "output_type": "execute_result",
          "data": {
            "text/plain": [
              "0 LIMIT_BAL SEX EDUCATION MARRIAGE AGE PAY_0 PAY_2 PAY_3 PAY_4 PAY_5  ...  \\\n",
              "1     20000   2         2        1  24     2     2    -1    -1    -2  ...   \n",
              "2    120000   2         2        2  26    -1     2     0     0     0  ...   \n",
              "3     90000   2         2        2  34     0     0     0     0     0  ...   \n",
              "4     50000   2         2        1  37     0     0     0     0     0  ...   \n",
              "5     50000   1         2        1  57    -1     0    -1     0     0  ...   \n",
              "\n",
              "0 BILL_AMT4 BILL_AMT5 BILL_AMT6 PAY_AMT1 PAY_AMT2 PAY_AMT3 PAY_AMT4 PAY_AMT5  \\\n",
              "1         0         0         0        0      689        0        0        0   \n",
              "2      3272      3455      3261        0     1000     1000     1000        0   \n",
              "3     14331     14948     15549     1518     1500     1000     1000     1000   \n",
              "4     28314     28959     29547     2000     2019     1200     1100     1069   \n",
              "5     20940     19146     19131     2000    36681    10000     9000      689   \n",
              "\n",
              "0 PAY_AMT6 default payment next month  \n",
              "1        0                          1  \n",
              "2     2000                          1  \n",
              "3     5000                          0  \n",
              "4     1000                          0  \n",
              "5      679                          0  \n",
              "\n",
              "[5 rows x 24 columns]"
            ],
            "text/html": [
              "\n",
              "  <div id=\"df-3b5cab12-4803-425e-a0ec-0496e91306b2\">\n",
              "    <div class=\"colab-df-container\">\n",
              "      <div>\n",
              "<style scoped>\n",
              "    .dataframe tbody tr th:only-of-type {\n",
              "        vertical-align: middle;\n",
              "    }\n",
              "\n",
              "    .dataframe tbody tr th {\n",
              "        vertical-align: top;\n",
              "    }\n",
              "\n",
              "    .dataframe thead th {\n",
              "        text-align: right;\n",
              "    }\n",
              "</style>\n",
              "<table border=\"1\" class=\"dataframe\">\n",
              "  <thead>\n",
              "    <tr style=\"text-align: right;\">\n",
              "      <th></th>\n",
              "      <th>LIMIT_BAL</th>\n",
              "      <th>SEX</th>\n",
              "      <th>EDUCATION</th>\n",
              "      <th>MARRIAGE</th>\n",
              "      <th>AGE</th>\n",
              "      <th>PAY_0</th>\n",
              "      <th>PAY_2</th>\n",
              "      <th>PAY_3</th>\n",
              "      <th>PAY_4</th>\n",
              "      <th>PAY_5</th>\n",
              "      <th>...</th>\n",
              "      <th>BILL_AMT4</th>\n",
              "      <th>BILL_AMT5</th>\n",
              "      <th>BILL_AMT6</th>\n",
              "      <th>PAY_AMT1</th>\n",
              "      <th>PAY_AMT2</th>\n",
              "      <th>PAY_AMT3</th>\n",
              "      <th>PAY_AMT4</th>\n",
              "      <th>PAY_AMT5</th>\n",
              "      <th>PAY_AMT6</th>\n",
              "      <th>default payment next month</th>\n",
              "    </tr>\n",
              "  </thead>\n",
              "  <tbody>\n",
              "    <tr>\n",
              "      <th>1</th>\n",
              "      <td>20000</td>\n",
              "      <td>2</td>\n",
              "      <td>2</td>\n",
              "      <td>1</td>\n",
              "      <td>24</td>\n",
              "      <td>2</td>\n",
              "      <td>2</td>\n",
              "      <td>-1</td>\n",
              "      <td>-1</td>\n",
              "      <td>-2</td>\n",
              "      <td>...</td>\n",
              "      <td>0</td>\n",
              "      <td>0</td>\n",
              "      <td>0</td>\n",
              "      <td>0</td>\n",
              "      <td>689</td>\n",
              "      <td>0</td>\n",
              "      <td>0</td>\n",
              "      <td>0</td>\n",
              "      <td>0</td>\n",
              "      <td>1</td>\n",
              "    </tr>\n",
              "    <tr>\n",
              "      <th>2</th>\n",
              "      <td>120000</td>\n",
              "      <td>2</td>\n",
              "      <td>2</td>\n",
              "      <td>2</td>\n",
              "      <td>26</td>\n",
              "      <td>-1</td>\n",
              "      <td>2</td>\n",
              "      <td>0</td>\n",
              "      <td>0</td>\n",
              "      <td>0</td>\n",
              "      <td>...</td>\n",
              "      <td>3272</td>\n",
              "      <td>3455</td>\n",
              "      <td>3261</td>\n",
              "      <td>0</td>\n",
              "      <td>1000</td>\n",
              "      <td>1000</td>\n",
              "      <td>1000</td>\n",
              "      <td>0</td>\n",
              "      <td>2000</td>\n",
              "      <td>1</td>\n",
              "    </tr>\n",
              "    <tr>\n",
              "      <th>3</th>\n",
              "      <td>90000</td>\n",
              "      <td>2</td>\n",
              "      <td>2</td>\n",
              "      <td>2</td>\n",
              "      <td>34</td>\n",
              "      <td>0</td>\n",
              "      <td>0</td>\n",
              "      <td>0</td>\n",
              "      <td>0</td>\n",
              "      <td>0</td>\n",
              "      <td>...</td>\n",
              "      <td>14331</td>\n",
              "      <td>14948</td>\n",
              "      <td>15549</td>\n",
              "      <td>1518</td>\n",
              "      <td>1500</td>\n",
              "      <td>1000</td>\n",
              "      <td>1000</td>\n",
              "      <td>1000</td>\n",
              "      <td>5000</td>\n",
              "      <td>0</td>\n",
              "    </tr>\n",
              "    <tr>\n",
              "      <th>4</th>\n",
              "      <td>50000</td>\n",
              "      <td>2</td>\n",
              "      <td>2</td>\n",
              "      <td>1</td>\n",
              "      <td>37</td>\n",
              "      <td>0</td>\n",
              "      <td>0</td>\n",
              "      <td>0</td>\n",
              "      <td>0</td>\n",
              "      <td>0</td>\n",
              "      <td>...</td>\n",
              "      <td>28314</td>\n",
              "      <td>28959</td>\n",
              "      <td>29547</td>\n",
              "      <td>2000</td>\n",
              "      <td>2019</td>\n",
              "      <td>1200</td>\n",
              "      <td>1100</td>\n",
              "      <td>1069</td>\n",
              "      <td>1000</td>\n",
              "      <td>0</td>\n",
              "    </tr>\n",
              "    <tr>\n",
              "      <th>5</th>\n",
              "      <td>50000</td>\n",
              "      <td>1</td>\n",
              "      <td>2</td>\n",
              "      <td>1</td>\n",
              "      <td>57</td>\n",
              "      <td>-1</td>\n",
              "      <td>0</td>\n",
              "      <td>-1</td>\n",
              "      <td>0</td>\n",
              "      <td>0</td>\n",
              "      <td>...</td>\n",
              "      <td>20940</td>\n",
              "      <td>19146</td>\n",
              "      <td>19131</td>\n",
              "      <td>2000</td>\n",
              "      <td>36681</td>\n",
              "      <td>10000</td>\n",
              "      <td>9000</td>\n",
              "      <td>689</td>\n",
              "      <td>679</td>\n",
              "      <td>0</td>\n",
              "    </tr>\n",
              "  </tbody>\n",
              "</table>\n",
              "<p>5 rows × 24 columns</p>\n",
              "</div>\n",
              "      <button class=\"colab-df-convert\" onclick=\"convertToInteractive('df-3b5cab12-4803-425e-a0ec-0496e91306b2')\"\n",
              "              title=\"Convert this dataframe to an interactive table.\"\n",
              "              style=\"display:none;\">\n",
              "        \n",
              "  <svg xmlns=\"http://www.w3.org/2000/svg\" height=\"24px\"viewBox=\"0 0 24 24\"\n",
              "       width=\"24px\">\n",
              "    <path d=\"M0 0h24v24H0V0z\" fill=\"none\"/>\n",
              "    <path d=\"M18.56 5.44l.94 2.06.94-2.06 2.06-.94-2.06-.94-.94-2.06-.94 2.06-2.06.94zm-11 1L8.5 8.5l.94-2.06 2.06-.94-2.06-.94L8.5 2.5l-.94 2.06-2.06.94zm10 10l.94 2.06.94-2.06 2.06-.94-2.06-.94-.94-2.06-.94 2.06-2.06.94z\"/><path d=\"M17.41 7.96l-1.37-1.37c-.4-.4-.92-.59-1.43-.59-.52 0-1.04.2-1.43.59L10.3 9.45l-7.72 7.72c-.78.78-.78 2.05 0 2.83L4 21.41c.39.39.9.59 1.41.59.51 0 1.02-.2 1.41-.59l7.78-7.78 2.81-2.81c.8-.78.8-2.07 0-2.86zM5.41 20L4 18.59l7.72-7.72 1.47 1.35L5.41 20z\"/>\n",
              "  </svg>\n",
              "      </button>\n",
              "      \n",
              "  <style>\n",
              "    .colab-df-container {\n",
              "      display:flex;\n",
              "      flex-wrap:wrap;\n",
              "      gap: 12px;\n",
              "    }\n",
              "\n",
              "    .colab-df-convert {\n",
              "      background-color: #E8F0FE;\n",
              "      border: none;\n",
              "      border-radius: 50%;\n",
              "      cursor: pointer;\n",
              "      display: none;\n",
              "      fill: #1967D2;\n",
              "      height: 32px;\n",
              "      padding: 0 0 0 0;\n",
              "      width: 32px;\n",
              "    }\n",
              "\n",
              "    .colab-df-convert:hover {\n",
              "      background-color: #E2EBFA;\n",
              "      box-shadow: 0px 1px 2px rgba(60, 64, 67, 0.3), 0px 1px 3px 1px rgba(60, 64, 67, 0.15);\n",
              "      fill: #174EA6;\n",
              "    }\n",
              "\n",
              "    [theme=dark] .colab-df-convert {\n",
              "      background-color: #3B4455;\n",
              "      fill: #D2E3FC;\n",
              "    }\n",
              "\n",
              "    [theme=dark] .colab-df-convert:hover {\n",
              "      background-color: #434B5C;\n",
              "      box-shadow: 0px 1px 3px 1px rgba(0, 0, 0, 0.15);\n",
              "      filter: drop-shadow(0px 1px 2px rgba(0, 0, 0, 0.3));\n",
              "      fill: #FFFFFF;\n",
              "    }\n",
              "  </style>\n",
              "\n",
              "      <script>\n",
              "        const buttonEl =\n",
              "          document.querySelector('#df-3b5cab12-4803-425e-a0ec-0496e91306b2 button.colab-df-convert');\n",
              "        buttonEl.style.display =\n",
              "          google.colab.kernel.accessAllowed ? 'block' : 'none';\n",
              "\n",
              "        async function convertToInteractive(key) {\n",
              "          const element = document.querySelector('#df-3b5cab12-4803-425e-a0ec-0496e91306b2');\n",
              "          const dataTable =\n",
              "            await google.colab.kernel.invokeFunction('convertToInteractive',\n",
              "                                                     [key], {});\n",
              "          if (!dataTable) return;\n",
              "\n",
              "          const docLinkHtml = 'Like what you see? Visit the ' +\n",
              "            '<a target=\"_blank\" href=https://colab.research.google.com/notebooks/data_table.ipynb>data table notebook</a>'\n",
              "            + ' to learn more about interactive tables.';\n",
              "          element.innerHTML = '';\n",
              "          dataTable['output_type'] = 'display_data';\n",
              "          await google.colab.output.renderOutput(dataTable, element);\n",
              "          const docLink = document.createElement('div');\n",
              "          docLink.innerHTML = docLinkHtml;\n",
              "          element.appendChild(docLink);\n",
              "        }\n",
              "      </script>\n",
              "    </div>\n",
              "  </div>\n",
              "  "
            ]
          },
          "metadata": {},
          "execution_count": 6
        }
      ]
    },
    {
      "cell_type": "code",
      "source": [
        "df.T"
      ],
      "metadata": {
        "colab": {
          "base_uri": "https://localhost:8080/",
          "height": 862
        },
        "id": "YVTQEu47QrOl",
        "outputId": "cb6621e6-c752-4f4c-d89c-360bdf900125"
      },
      "execution_count": null,
      "outputs": [
        {
          "output_type": "execute_result",
          "data": {
            "text/plain": [
              "                            1       2      3      4      5      6       7      \\\n",
              "0                                                                               \n",
              "LIMIT_BAL                   20000  120000  90000  50000  50000  50000  500000   \n",
              "SEX                             2       2      2      2      1      1       1   \n",
              "EDUCATION                       2       2      2      2      2      1       1   \n",
              "MARRIAGE                        1       2      2      1      1      2       2   \n",
              "AGE                            24      26     34     37     57     37      29   \n",
              "PAY_0                           2      -1      0      0     -1      0       0   \n",
              "PAY_2                           2       2      0      0      0      0       0   \n",
              "PAY_3                          -1       0      0      0     -1      0       0   \n",
              "PAY_4                          -1       0      0      0      0      0       0   \n",
              "PAY_5                          -2       0      0      0      0      0       0   \n",
              "PAY_6                          -2       2      0      0      0      0       0   \n",
              "BILL_AMT1                    3913    2682  29239  46990   8617  64400  367965   \n",
              "BILL_AMT2                    3102    1725  14027  48233   5670  57069  412023   \n",
              "BILL_AMT3                     689    2682  13559  49291  35835  57608  445007   \n",
              "BILL_AMT4                       0    3272  14331  28314  20940  19394  542653   \n",
              "BILL_AMT5                       0    3455  14948  28959  19146  19619  483003   \n",
              "BILL_AMT6                       0    3261  15549  29547  19131  20024  473944   \n",
              "PAY_AMT1                        0       0   1518   2000   2000   2500   55000   \n",
              "PAY_AMT2                      689    1000   1500   2019  36681   1815   40000   \n",
              "PAY_AMT3                        0    1000   1000   1200  10000    657   38000   \n",
              "PAY_AMT4                        0    1000   1000   1100   9000   1000   20239   \n",
              "PAY_AMT5                        0       0   1000   1069    689   1000   13750   \n",
              "PAY_AMT6                        0    2000   5000   1000    679    800   13770   \n",
              "default payment next month      1       1      0      0      0      0       0   \n",
              "\n",
              "                             8       9      10     ...   29991   29992  29993  \\\n",
              "0                                                  ...                          \n",
              "LIMIT_BAL                   100000  140000  20000  ...  140000  210000  10000   \n",
              "SEX                              2       2      1  ...       1       1      1   \n",
              "EDUCATION                        2       3      3  ...       2       2      3   \n",
              "MARRIAGE                         2       1      2  ...       1       1      1   \n",
              "AGE                             23      28     35  ...      41      34     43   \n",
              "PAY_0                            0       0     -2  ...       0       3      0   \n",
              "PAY_2                           -1       0     -2  ...       0       2      0   \n",
              "PAY_3                           -1       2     -2  ...       0       2      0   \n",
              "PAY_4                            0       0     -2  ...       0       2     -2   \n",
              "PAY_5                            0       0     -1  ...       0       2     -2   \n",
              "PAY_6                           -1       0     -1  ...       0       2     -2   \n",
              "BILL_AMT1                    11876   11285      0  ...  138325    2500   8802   \n",
              "BILL_AMT2                      380   14096      0  ...  137142    2500  10400   \n",
              "BILL_AMT3                      601   12108      0  ...  139110    2500      0   \n",
              "BILL_AMT4                      221   12211      0  ...  138262    2500      0   \n",
              "BILL_AMT5                     -159   11793  13007  ...   49675    2500      0   \n",
              "BILL_AMT6                      567    3719  13912  ...   46121    2500      0   \n",
              "PAY_AMT1                       380    3329      0  ...    6000       0   2000   \n",
              "PAY_AMT2                       601       0      0  ...    7000       0      0   \n",
              "PAY_AMT3                         0     432      0  ...    4228       0      0   \n",
              "PAY_AMT4                       581    1000  13007  ...    1505       0      0   \n",
              "PAY_AMT5                      1687    1000   1122  ...    2000       0      0   \n",
              "PAY_AMT6                      1542    1000      0  ...    2000       0      0   \n",
              "default payment next month       0       0      0  ...       0       1      0   \n",
              "\n",
              "                             29994  29995   29996   29997  29998  29999  30000  \n",
              "0                                                                               \n",
              "LIMIT_BAL                   100000  80000  220000  150000  30000  80000  50000  \n",
              "SEX                              1      1       1       1      1      1      1  \n",
              "EDUCATION                        1      2       3       3      2      3      2  \n",
              "MARRIAGE                         2      2       1       2      2      1      1  \n",
              "AGE                             38     34      39      43     37     41     46  \n",
              "PAY_0                            0      2       0      -1      4      1      0  \n",
              "PAY_2                           -1      2       0      -1      3     -1      0  \n",
              "PAY_3                           -1      2       0      -1      2      0      0  \n",
              "PAY_4                            0      2       0      -1     -1      0      0  \n",
              "PAY_5                            0      2       0       0      0      0      0  \n",
              "PAY_6                            0      2       0       0      0     -1      0  \n",
              "BILL_AMT1                     3042  72557  188948    1683   3565  -1645  47929  \n",
              "BILL_AMT2                     1427  77708  192815    1828   3356  78379  48905  \n",
              "BILL_AMT3                   102996  79384  208365    3502   2758  76304  49764  \n",
              "BILL_AMT4                    70626  77519   88004    8979  20878  52774  36535  \n",
              "BILL_AMT5                    69473  82607   31237    5190  20582  11855  32428  \n",
              "BILL_AMT6                    55004  81158   15980       0  19357  48944  15313  \n",
              "PAY_AMT1                      2000   7000    8500    1837      0  85900   2078  \n",
              "PAY_AMT2                    111784   3500   20000    3526      0   3409   1800  \n",
              "PAY_AMT3                      4000      0    5003    8998  22000   1178   1430  \n",
              "PAY_AMT4                      3000   7000    3047     129   4200   1926   1000  \n",
              "PAY_AMT5                      2000      0    5000       0   2000  52964   1000  \n",
              "PAY_AMT6                      2000   4000    1000       0   3100   1804   1000  \n",
              "default payment next month       0      1       0       0      1      1      1  \n",
              "\n",
              "[24 rows x 30000 columns]"
            ],
            "text/html": [
              "\n",
              "  <div id=\"df-688402d9-ddd4-4774-bb2b-d55aa4ee8d58\">\n",
              "    <div class=\"colab-df-container\">\n",
              "      <div>\n",
              "<style scoped>\n",
              "    .dataframe tbody tr th:only-of-type {\n",
              "        vertical-align: middle;\n",
              "    }\n",
              "\n",
              "    .dataframe tbody tr th {\n",
              "        vertical-align: top;\n",
              "    }\n",
              "\n",
              "    .dataframe thead th {\n",
              "        text-align: right;\n",
              "    }\n",
              "</style>\n",
              "<table border=\"1\" class=\"dataframe\">\n",
              "  <thead>\n",
              "    <tr style=\"text-align: right;\">\n",
              "      <th></th>\n",
              "      <th>1</th>\n",
              "      <th>2</th>\n",
              "      <th>3</th>\n",
              "      <th>4</th>\n",
              "      <th>5</th>\n",
              "      <th>6</th>\n",
              "      <th>7</th>\n",
              "      <th>8</th>\n",
              "      <th>9</th>\n",
              "      <th>10</th>\n",
              "      <th>...</th>\n",
              "      <th>29991</th>\n",
              "      <th>29992</th>\n",
              "      <th>29993</th>\n",
              "      <th>29994</th>\n",
              "      <th>29995</th>\n",
              "      <th>29996</th>\n",
              "      <th>29997</th>\n",
              "      <th>29998</th>\n",
              "      <th>29999</th>\n",
              "      <th>30000</th>\n",
              "    </tr>\n",
              "    <tr>\n",
              "      <th>0</th>\n",
              "      <th></th>\n",
              "      <th></th>\n",
              "      <th></th>\n",
              "      <th></th>\n",
              "      <th></th>\n",
              "      <th></th>\n",
              "      <th></th>\n",
              "      <th></th>\n",
              "      <th></th>\n",
              "      <th></th>\n",
              "      <th></th>\n",
              "      <th></th>\n",
              "      <th></th>\n",
              "      <th></th>\n",
              "      <th></th>\n",
              "      <th></th>\n",
              "      <th></th>\n",
              "      <th></th>\n",
              "      <th></th>\n",
              "      <th></th>\n",
              "      <th></th>\n",
              "    </tr>\n",
              "  </thead>\n",
              "  <tbody>\n",
              "    <tr>\n",
              "      <th>LIMIT_BAL</th>\n",
              "      <td>20000</td>\n",
              "      <td>120000</td>\n",
              "      <td>90000</td>\n",
              "      <td>50000</td>\n",
              "      <td>50000</td>\n",
              "      <td>50000</td>\n",
              "      <td>500000</td>\n",
              "      <td>100000</td>\n",
              "      <td>140000</td>\n",
              "      <td>20000</td>\n",
              "      <td>...</td>\n",
              "      <td>140000</td>\n",
              "      <td>210000</td>\n",
              "      <td>10000</td>\n",
              "      <td>100000</td>\n",
              "      <td>80000</td>\n",
              "      <td>220000</td>\n",
              "      <td>150000</td>\n",
              "      <td>30000</td>\n",
              "      <td>80000</td>\n",
              "      <td>50000</td>\n",
              "    </tr>\n",
              "    <tr>\n",
              "      <th>SEX</th>\n",
              "      <td>2</td>\n",
              "      <td>2</td>\n",
              "      <td>2</td>\n",
              "      <td>2</td>\n",
              "      <td>1</td>\n",
              "      <td>1</td>\n",
              "      <td>1</td>\n",
              "      <td>2</td>\n",
              "      <td>2</td>\n",
              "      <td>1</td>\n",
              "      <td>...</td>\n",
              "      <td>1</td>\n",
              "      <td>1</td>\n",
              "      <td>1</td>\n",
              "      <td>1</td>\n",
              "      <td>1</td>\n",
              "      <td>1</td>\n",
              "      <td>1</td>\n",
              "      <td>1</td>\n",
              "      <td>1</td>\n",
              "      <td>1</td>\n",
              "    </tr>\n",
              "    <tr>\n",
              "      <th>EDUCATION</th>\n",
              "      <td>2</td>\n",
              "      <td>2</td>\n",
              "      <td>2</td>\n",
              "      <td>2</td>\n",
              "      <td>2</td>\n",
              "      <td>1</td>\n",
              "      <td>1</td>\n",
              "      <td>2</td>\n",
              "      <td>3</td>\n",
              "      <td>3</td>\n",
              "      <td>...</td>\n",
              "      <td>2</td>\n",
              "      <td>2</td>\n",
              "      <td>3</td>\n",
              "      <td>1</td>\n",
              "      <td>2</td>\n",
              "      <td>3</td>\n",
              "      <td>3</td>\n",
              "      <td>2</td>\n",
              "      <td>3</td>\n",
              "      <td>2</td>\n",
              "    </tr>\n",
              "    <tr>\n",
              "      <th>MARRIAGE</th>\n",
              "      <td>1</td>\n",
              "      <td>2</td>\n",
              "      <td>2</td>\n",
              "      <td>1</td>\n",
              "      <td>1</td>\n",
              "      <td>2</td>\n",
              "      <td>2</td>\n",
              "      <td>2</td>\n",
              "      <td>1</td>\n",
              "      <td>2</td>\n",
              "      <td>...</td>\n",
              "      <td>1</td>\n",
              "      <td>1</td>\n",
              "      <td>1</td>\n",
              "      <td>2</td>\n",
              "      <td>2</td>\n",
              "      <td>1</td>\n",
              "      <td>2</td>\n",
              "      <td>2</td>\n",
              "      <td>1</td>\n",
              "      <td>1</td>\n",
              "    </tr>\n",
              "    <tr>\n",
              "      <th>AGE</th>\n",
              "      <td>24</td>\n",
              "      <td>26</td>\n",
              "      <td>34</td>\n",
              "      <td>37</td>\n",
              "      <td>57</td>\n",
              "      <td>37</td>\n",
              "      <td>29</td>\n",
              "      <td>23</td>\n",
              "      <td>28</td>\n",
              "      <td>35</td>\n",
              "      <td>...</td>\n",
              "      <td>41</td>\n",
              "      <td>34</td>\n",
              "      <td>43</td>\n",
              "      <td>38</td>\n",
              "      <td>34</td>\n",
              "      <td>39</td>\n",
              "      <td>43</td>\n",
              "      <td>37</td>\n",
              "      <td>41</td>\n",
              "      <td>46</td>\n",
              "    </tr>\n",
              "    <tr>\n",
              "      <th>PAY_0</th>\n",
              "      <td>2</td>\n",
              "      <td>-1</td>\n",
              "      <td>0</td>\n",
              "      <td>0</td>\n",
              "      <td>-1</td>\n",
              "      <td>0</td>\n",
              "      <td>0</td>\n",
              "      <td>0</td>\n",
              "      <td>0</td>\n",
              "      <td>-2</td>\n",
              "      <td>...</td>\n",
              "      <td>0</td>\n",
              "      <td>3</td>\n",
              "      <td>0</td>\n",
              "      <td>0</td>\n",
              "      <td>2</td>\n",
              "      <td>0</td>\n",
              "      <td>-1</td>\n",
              "      <td>4</td>\n",
              "      <td>1</td>\n",
              "      <td>0</td>\n",
              "    </tr>\n",
              "    <tr>\n",
              "      <th>PAY_2</th>\n",
              "      <td>2</td>\n",
              "      <td>2</td>\n",
              "      <td>0</td>\n",
              "      <td>0</td>\n",
              "      <td>0</td>\n",
              "      <td>0</td>\n",
              "      <td>0</td>\n",
              "      <td>-1</td>\n",
              "      <td>0</td>\n",
              "      <td>-2</td>\n",
              "      <td>...</td>\n",
              "      <td>0</td>\n",
              "      <td>2</td>\n",
              "      <td>0</td>\n",
              "      <td>-1</td>\n",
              "      <td>2</td>\n",
              "      <td>0</td>\n",
              "      <td>-1</td>\n",
              "      <td>3</td>\n",
              "      <td>-1</td>\n",
              "      <td>0</td>\n",
              "    </tr>\n",
              "    <tr>\n",
              "      <th>PAY_3</th>\n",
              "      <td>-1</td>\n",
              "      <td>0</td>\n",
              "      <td>0</td>\n",
              "      <td>0</td>\n",
              "      <td>-1</td>\n",
              "      <td>0</td>\n",
              "      <td>0</td>\n",
              "      <td>-1</td>\n",
              "      <td>2</td>\n",
              "      <td>-2</td>\n",
              "      <td>...</td>\n",
              "      <td>0</td>\n",
              "      <td>2</td>\n",
              "      <td>0</td>\n",
              "      <td>-1</td>\n",
              "      <td>2</td>\n",
              "      <td>0</td>\n",
              "      <td>-1</td>\n",
              "      <td>2</td>\n",
              "      <td>0</td>\n",
              "      <td>0</td>\n",
              "    </tr>\n",
              "    <tr>\n",
              "      <th>PAY_4</th>\n",
              "      <td>-1</td>\n",
              "      <td>0</td>\n",
              "      <td>0</td>\n",
              "      <td>0</td>\n",
              "      <td>0</td>\n",
              "      <td>0</td>\n",
              "      <td>0</td>\n",
              "      <td>0</td>\n",
              "      <td>0</td>\n",
              "      <td>-2</td>\n",
              "      <td>...</td>\n",
              "      <td>0</td>\n",
              "      <td>2</td>\n",
              "      <td>-2</td>\n",
              "      <td>0</td>\n",
              "      <td>2</td>\n",
              "      <td>0</td>\n",
              "      <td>-1</td>\n",
              "      <td>-1</td>\n",
              "      <td>0</td>\n",
              "      <td>0</td>\n",
              "    </tr>\n",
              "    <tr>\n",
              "      <th>PAY_5</th>\n",
              "      <td>-2</td>\n",
              "      <td>0</td>\n",
              "      <td>0</td>\n",
              "      <td>0</td>\n",
              "      <td>0</td>\n",
              "      <td>0</td>\n",
              "      <td>0</td>\n",
              "      <td>0</td>\n",
              "      <td>0</td>\n",
              "      <td>-1</td>\n",
              "      <td>...</td>\n",
              "      <td>0</td>\n",
              "      <td>2</td>\n",
              "      <td>-2</td>\n",
              "      <td>0</td>\n",
              "      <td>2</td>\n",
              "      <td>0</td>\n",
              "      <td>0</td>\n",
              "      <td>0</td>\n",
              "      <td>0</td>\n",
              "      <td>0</td>\n",
              "    </tr>\n",
              "    <tr>\n",
              "      <th>PAY_6</th>\n",
              "      <td>-2</td>\n",
              "      <td>2</td>\n",
              "      <td>0</td>\n",
              "      <td>0</td>\n",
              "      <td>0</td>\n",
              "      <td>0</td>\n",
              "      <td>0</td>\n",
              "      <td>-1</td>\n",
              "      <td>0</td>\n",
              "      <td>-1</td>\n",
              "      <td>...</td>\n",
              "      <td>0</td>\n",
              "      <td>2</td>\n",
              "      <td>-2</td>\n",
              "      <td>0</td>\n",
              "      <td>2</td>\n",
              "      <td>0</td>\n",
              "      <td>0</td>\n",
              "      <td>0</td>\n",
              "      <td>-1</td>\n",
              "      <td>0</td>\n",
              "    </tr>\n",
              "    <tr>\n",
              "      <th>BILL_AMT1</th>\n",
              "      <td>3913</td>\n",
              "      <td>2682</td>\n",
              "      <td>29239</td>\n",
              "      <td>46990</td>\n",
              "      <td>8617</td>\n",
              "      <td>64400</td>\n",
              "      <td>367965</td>\n",
              "      <td>11876</td>\n",
              "      <td>11285</td>\n",
              "      <td>0</td>\n",
              "      <td>...</td>\n",
              "      <td>138325</td>\n",
              "      <td>2500</td>\n",
              "      <td>8802</td>\n",
              "      <td>3042</td>\n",
              "      <td>72557</td>\n",
              "      <td>188948</td>\n",
              "      <td>1683</td>\n",
              "      <td>3565</td>\n",
              "      <td>-1645</td>\n",
              "      <td>47929</td>\n",
              "    </tr>\n",
              "    <tr>\n",
              "      <th>BILL_AMT2</th>\n",
              "      <td>3102</td>\n",
              "      <td>1725</td>\n",
              "      <td>14027</td>\n",
              "      <td>48233</td>\n",
              "      <td>5670</td>\n",
              "      <td>57069</td>\n",
              "      <td>412023</td>\n",
              "      <td>380</td>\n",
              "      <td>14096</td>\n",
              "      <td>0</td>\n",
              "      <td>...</td>\n",
              "      <td>137142</td>\n",
              "      <td>2500</td>\n",
              "      <td>10400</td>\n",
              "      <td>1427</td>\n",
              "      <td>77708</td>\n",
              "      <td>192815</td>\n",
              "      <td>1828</td>\n",
              "      <td>3356</td>\n",
              "      <td>78379</td>\n",
              "      <td>48905</td>\n",
              "    </tr>\n",
              "    <tr>\n",
              "      <th>BILL_AMT3</th>\n",
              "      <td>689</td>\n",
              "      <td>2682</td>\n",
              "      <td>13559</td>\n",
              "      <td>49291</td>\n",
              "      <td>35835</td>\n",
              "      <td>57608</td>\n",
              "      <td>445007</td>\n",
              "      <td>601</td>\n",
              "      <td>12108</td>\n",
              "      <td>0</td>\n",
              "      <td>...</td>\n",
              "      <td>139110</td>\n",
              "      <td>2500</td>\n",
              "      <td>0</td>\n",
              "      <td>102996</td>\n",
              "      <td>79384</td>\n",
              "      <td>208365</td>\n",
              "      <td>3502</td>\n",
              "      <td>2758</td>\n",
              "      <td>76304</td>\n",
              "      <td>49764</td>\n",
              "    </tr>\n",
              "    <tr>\n",
              "      <th>BILL_AMT4</th>\n",
              "      <td>0</td>\n",
              "      <td>3272</td>\n",
              "      <td>14331</td>\n",
              "      <td>28314</td>\n",
              "      <td>20940</td>\n",
              "      <td>19394</td>\n",
              "      <td>542653</td>\n",
              "      <td>221</td>\n",
              "      <td>12211</td>\n",
              "      <td>0</td>\n",
              "      <td>...</td>\n",
              "      <td>138262</td>\n",
              "      <td>2500</td>\n",
              "      <td>0</td>\n",
              "      <td>70626</td>\n",
              "      <td>77519</td>\n",
              "      <td>88004</td>\n",
              "      <td>8979</td>\n",
              "      <td>20878</td>\n",
              "      <td>52774</td>\n",
              "      <td>36535</td>\n",
              "    </tr>\n",
              "    <tr>\n",
              "      <th>BILL_AMT5</th>\n",
              "      <td>0</td>\n",
              "      <td>3455</td>\n",
              "      <td>14948</td>\n",
              "      <td>28959</td>\n",
              "      <td>19146</td>\n",
              "      <td>19619</td>\n",
              "      <td>483003</td>\n",
              "      <td>-159</td>\n",
              "      <td>11793</td>\n",
              "      <td>13007</td>\n",
              "      <td>...</td>\n",
              "      <td>49675</td>\n",
              "      <td>2500</td>\n",
              "      <td>0</td>\n",
              "      <td>69473</td>\n",
              "      <td>82607</td>\n",
              "      <td>31237</td>\n",
              "      <td>5190</td>\n",
              "      <td>20582</td>\n",
              "      <td>11855</td>\n",
              "      <td>32428</td>\n",
              "    </tr>\n",
              "    <tr>\n",
              "      <th>BILL_AMT6</th>\n",
              "      <td>0</td>\n",
              "      <td>3261</td>\n",
              "      <td>15549</td>\n",
              "      <td>29547</td>\n",
              "      <td>19131</td>\n",
              "      <td>20024</td>\n",
              "      <td>473944</td>\n",
              "      <td>567</td>\n",
              "      <td>3719</td>\n",
              "      <td>13912</td>\n",
              "      <td>...</td>\n",
              "      <td>46121</td>\n",
              "      <td>2500</td>\n",
              "      <td>0</td>\n",
              "      <td>55004</td>\n",
              "      <td>81158</td>\n",
              "      <td>15980</td>\n",
              "      <td>0</td>\n",
              "      <td>19357</td>\n",
              "      <td>48944</td>\n",
              "      <td>15313</td>\n",
              "    </tr>\n",
              "    <tr>\n",
              "      <th>PAY_AMT1</th>\n",
              "      <td>0</td>\n",
              "      <td>0</td>\n",
              "      <td>1518</td>\n",
              "      <td>2000</td>\n",
              "      <td>2000</td>\n",
              "      <td>2500</td>\n",
              "      <td>55000</td>\n",
              "      <td>380</td>\n",
              "      <td>3329</td>\n",
              "      <td>0</td>\n",
              "      <td>...</td>\n",
              "      <td>6000</td>\n",
              "      <td>0</td>\n",
              "      <td>2000</td>\n",
              "      <td>2000</td>\n",
              "      <td>7000</td>\n",
              "      <td>8500</td>\n",
              "      <td>1837</td>\n",
              "      <td>0</td>\n",
              "      <td>85900</td>\n",
              "      <td>2078</td>\n",
              "    </tr>\n",
              "    <tr>\n",
              "      <th>PAY_AMT2</th>\n",
              "      <td>689</td>\n",
              "      <td>1000</td>\n",
              "      <td>1500</td>\n",
              "      <td>2019</td>\n",
              "      <td>36681</td>\n",
              "      <td>1815</td>\n",
              "      <td>40000</td>\n",
              "      <td>601</td>\n",
              "      <td>0</td>\n",
              "      <td>0</td>\n",
              "      <td>...</td>\n",
              "      <td>7000</td>\n",
              "      <td>0</td>\n",
              "      <td>0</td>\n",
              "      <td>111784</td>\n",
              "      <td>3500</td>\n",
              "      <td>20000</td>\n",
              "      <td>3526</td>\n",
              "      <td>0</td>\n",
              "      <td>3409</td>\n",
              "      <td>1800</td>\n",
              "    </tr>\n",
              "    <tr>\n",
              "      <th>PAY_AMT3</th>\n",
              "      <td>0</td>\n",
              "      <td>1000</td>\n",
              "      <td>1000</td>\n",
              "      <td>1200</td>\n",
              "      <td>10000</td>\n",
              "      <td>657</td>\n",
              "      <td>38000</td>\n",
              "      <td>0</td>\n",
              "      <td>432</td>\n",
              "      <td>0</td>\n",
              "      <td>...</td>\n",
              "      <td>4228</td>\n",
              "      <td>0</td>\n",
              "      <td>0</td>\n",
              "      <td>4000</td>\n",
              "      <td>0</td>\n",
              "      <td>5003</td>\n",
              "      <td>8998</td>\n",
              "      <td>22000</td>\n",
              "      <td>1178</td>\n",
              "      <td>1430</td>\n",
              "    </tr>\n",
              "    <tr>\n",
              "      <th>PAY_AMT4</th>\n",
              "      <td>0</td>\n",
              "      <td>1000</td>\n",
              "      <td>1000</td>\n",
              "      <td>1100</td>\n",
              "      <td>9000</td>\n",
              "      <td>1000</td>\n",
              "      <td>20239</td>\n",
              "      <td>581</td>\n",
              "      <td>1000</td>\n",
              "      <td>13007</td>\n",
              "      <td>...</td>\n",
              "      <td>1505</td>\n",
              "      <td>0</td>\n",
              "      <td>0</td>\n",
              "      <td>3000</td>\n",
              "      <td>7000</td>\n",
              "      <td>3047</td>\n",
              "      <td>129</td>\n",
              "      <td>4200</td>\n",
              "      <td>1926</td>\n",
              "      <td>1000</td>\n",
              "    </tr>\n",
              "    <tr>\n",
              "      <th>PAY_AMT5</th>\n",
              "      <td>0</td>\n",
              "      <td>0</td>\n",
              "      <td>1000</td>\n",
              "      <td>1069</td>\n",
              "      <td>689</td>\n",
              "      <td>1000</td>\n",
              "      <td>13750</td>\n",
              "      <td>1687</td>\n",
              "      <td>1000</td>\n",
              "      <td>1122</td>\n",
              "      <td>...</td>\n",
              "      <td>2000</td>\n",
              "      <td>0</td>\n",
              "      <td>0</td>\n",
              "      <td>2000</td>\n",
              "      <td>0</td>\n",
              "      <td>5000</td>\n",
              "      <td>0</td>\n",
              "      <td>2000</td>\n",
              "      <td>52964</td>\n",
              "      <td>1000</td>\n",
              "    </tr>\n",
              "    <tr>\n",
              "      <th>PAY_AMT6</th>\n",
              "      <td>0</td>\n",
              "      <td>2000</td>\n",
              "      <td>5000</td>\n",
              "      <td>1000</td>\n",
              "      <td>679</td>\n",
              "      <td>800</td>\n",
              "      <td>13770</td>\n",
              "      <td>1542</td>\n",
              "      <td>1000</td>\n",
              "      <td>0</td>\n",
              "      <td>...</td>\n",
              "      <td>2000</td>\n",
              "      <td>0</td>\n",
              "      <td>0</td>\n",
              "      <td>2000</td>\n",
              "      <td>4000</td>\n",
              "      <td>1000</td>\n",
              "      <td>0</td>\n",
              "      <td>3100</td>\n",
              "      <td>1804</td>\n",
              "      <td>1000</td>\n",
              "    </tr>\n",
              "    <tr>\n",
              "      <th>default payment next month</th>\n",
              "      <td>1</td>\n",
              "      <td>1</td>\n",
              "      <td>0</td>\n",
              "      <td>0</td>\n",
              "      <td>0</td>\n",
              "      <td>0</td>\n",
              "      <td>0</td>\n",
              "      <td>0</td>\n",
              "      <td>0</td>\n",
              "      <td>0</td>\n",
              "      <td>...</td>\n",
              "      <td>0</td>\n",
              "      <td>1</td>\n",
              "      <td>0</td>\n",
              "      <td>0</td>\n",
              "      <td>1</td>\n",
              "      <td>0</td>\n",
              "      <td>0</td>\n",
              "      <td>1</td>\n",
              "      <td>1</td>\n",
              "      <td>1</td>\n",
              "    </tr>\n",
              "  </tbody>\n",
              "</table>\n",
              "<p>24 rows × 30000 columns</p>\n",
              "</div>\n",
              "      <button class=\"colab-df-convert\" onclick=\"convertToInteractive('df-688402d9-ddd4-4774-bb2b-d55aa4ee8d58')\"\n",
              "              title=\"Convert this dataframe to an interactive table.\"\n",
              "              style=\"display:none;\">\n",
              "        \n",
              "  <svg xmlns=\"http://www.w3.org/2000/svg\" height=\"24px\"viewBox=\"0 0 24 24\"\n",
              "       width=\"24px\">\n",
              "    <path d=\"M0 0h24v24H0V0z\" fill=\"none\"/>\n",
              "    <path d=\"M18.56 5.44l.94 2.06.94-2.06 2.06-.94-2.06-.94-.94-2.06-.94 2.06-2.06.94zm-11 1L8.5 8.5l.94-2.06 2.06-.94-2.06-.94L8.5 2.5l-.94 2.06-2.06.94zm10 10l.94 2.06.94-2.06 2.06-.94-2.06-.94-.94-2.06-.94 2.06-2.06.94z\"/><path d=\"M17.41 7.96l-1.37-1.37c-.4-.4-.92-.59-1.43-.59-.52 0-1.04.2-1.43.59L10.3 9.45l-7.72 7.72c-.78.78-.78 2.05 0 2.83L4 21.41c.39.39.9.59 1.41.59.51 0 1.02-.2 1.41-.59l7.78-7.78 2.81-2.81c.8-.78.8-2.07 0-2.86zM5.41 20L4 18.59l7.72-7.72 1.47 1.35L5.41 20z\"/>\n",
              "  </svg>\n",
              "      </button>\n",
              "      \n",
              "  <style>\n",
              "    .colab-df-container {\n",
              "      display:flex;\n",
              "      flex-wrap:wrap;\n",
              "      gap: 12px;\n",
              "    }\n",
              "\n",
              "    .colab-df-convert {\n",
              "      background-color: #E8F0FE;\n",
              "      border: none;\n",
              "      border-radius: 50%;\n",
              "      cursor: pointer;\n",
              "      display: none;\n",
              "      fill: #1967D2;\n",
              "      height: 32px;\n",
              "      padding: 0 0 0 0;\n",
              "      width: 32px;\n",
              "    }\n",
              "\n",
              "    .colab-df-convert:hover {\n",
              "      background-color: #E2EBFA;\n",
              "      box-shadow: 0px 1px 2px rgba(60, 64, 67, 0.3), 0px 1px 3px 1px rgba(60, 64, 67, 0.15);\n",
              "      fill: #174EA6;\n",
              "    }\n",
              "\n",
              "    [theme=dark] .colab-df-convert {\n",
              "      background-color: #3B4455;\n",
              "      fill: #D2E3FC;\n",
              "    }\n",
              "\n",
              "    [theme=dark] .colab-df-convert:hover {\n",
              "      background-color: #434B5C;\n",
              "      box-shadow: 0px 1px 3px 1px rgba(0, 0, 0, 0.15);\n",
              "      filter: drop-shadow(0px 1px 2px rgba(0, 0, 0, 0.3));\n",
              "      fill: #FFFFFF;\n",
              "    }\n",
              "  </style>\n",
              "\n",
              "      <script>\n",
              "        const buttonEl =\n",
              "          document.querySelector('#df-688402d9-ddd4-4774-bb2b-d55aa4ee8d58 button.colab-df-convert');\n",
              "        buttonEl.style.display =\n",
              "          google.colab.kernel.accessAllowed ? 'block' : 'none';\n",
              "\n",
              "        async function convertToInteractive(key) {\n",
              "          const element = document.querySelector('#df-688402d9-ddd4-4774-bb2b-d55aa4ee8d58');\n",
              "          const dataTable =\n",
              "            await google.colab.kernel.invokeFunction('convertToInteractive',\n",
              "                                                     [key], {});\n",
              "          if (!dataTable) return;\n",
              "\n",
              "          const docLinkHtml = 'Like what you see? Visit the ' +\n",
              "            '<a target=\"_blank\" href=https://colab.research.google.com/notebooks/data_table.ipynb>data table notebook</a>'\n",
              "            + ' to learn more about interactive tables.';\n",
              "          element.innerHTML = '';\n",
              "          dataTable['output_type'] = 'display_data';\n",
              "          await google.colab.output.renderOutput(dataTable, element);\n",
              "          const docLink = document.createElement('div');\n",
              "          docLink.innerHTML = docLinkHtml;\n",
              "          element.appendChild(docLink);\n",
              "        }\n",
              "      </script>\n",
              "    </div>\n",
              "  </div>\n",
              "  "
            ]
          },
          "metadata": {},
          "execution_count": 7
        }
      ]
    },
    {
      "cell_type": "code",
      "source": [
        "df.columns"
      ],
      "metadata": {
        "colab": {
          "base_uri": "https://localhost:8080/"
        },
        "id": "x9Sdpd1ihk8Q",
        "outputId": "6eefbadb-8890-4c23-873c-56dc5e17f5dc"
      },
      "execution_count": null,
      "outputs": [
        {
          "output_type": "execute_result",
          "data": {
            "text/plain": [
              "Index(['LIMIT_BAL', 'SEX', 'EDUCATION', 'MARRIAGE', 'AGE', 'PAY_0', 'PAY_2',\n",
              "       'PAY_3', 'PAY_4', 'PAY_5', 'PAY_6', 'BILL_AMT1', 'BILL_AMT2',\n",
              "       'BILL_AMT3', 'BILL_AMT4', 'BILL_AMT5', 'BILL_AMT6', 'PAY_AMT1',\n",
              "       'PAY_AMT2', 'PAY_AMT3', 'PAY_AMT4', 'PAY_AMT5', 'PAY_AMT6',\n",
              "       'default payment next month'],\n",
              "      dtype='object', name=0)"
            ]
          },
          "metadata": {},
          "execution_count": 8
        }
      ]
    },
    {
      "cell_type": "code",
      "source": [
        "df.shape"
      ],
      "metadata": {
        "id": "Y4_4CydWQ4br",
        "colab": {
          "base_uri": "https://localhost:8080/"
        },
        "outputId": "cebc7bdb-7aa6-420c-b2f1-242c7591e2f0"
      },
      "execution_count": null,
      "outputs": [
        {
          "output_type": "execute_result",
          "data": {
            "text/plain": [
              "(30000, 24)"
            ]
          },
          "metadata": {},
          "execution_count": 9
        }
      ]
    },
    {
      "cell_type": "code",
      "source": [
        "df.info()"
      ],
      "metadata": {
        "colab": {
          "base_uri": "https://localhost:8080/"
        },
        "id": "OjZg0FDLySxe",
        "outputId": "d1a54184-85a8-4132-a059-b6a41045e788"
      },
      "execution_count": null,
      "outputs": [
        {
          "output_type": "stream",
          "name": "stdout",
          "text": [
            "<class 'pandas.core.frame.DataFrame'>\n",
            "RangeIndex: 30000 entries, 1 to 30000\n",
            "Data columns (total 24 columns):\n",
            " #   Column                      Non-Null Count  Dtype \n",
            "---  ------                      --------------  ----- \n",
            " 0   LIMIT_BAL                   30000 non-null  object\n",
            " 1   SEX                         30000 non-null  object\n",
            " 2   EDUCATION                   30000 non-null  object\n",
            " 3   MARRIAGE                    30000 non-null  object\n",
            " 4   AGE                         30000 non-null  object\n",
            " 5   PAY_0                       30000 non-null  object\n",
            " 6   PAY_2                       30000 non-null  object\n",
            " 7   PAY_3                       30000 non-null  object\n",
            " 8   PAY_4                       30000 non-null  object\n",
            " 9   PAY_5                       30000 non-null  object\n",
            " 10  PAY_6                       30000 non-null  object\n",
            " 11  BILL_AMT1                   30000 non-null  object\n",
            " 12  BILL_AMT2                   30000 non-null  object\n",
            " 13  BILL_AMT3                   30000 non-null  object\n",
            " 14  BILL_AMT4                   30000 non-null  object\n",
            " 15  BILL_AMT5                   30000 non-null  object\n",
            " 16  BILL_AMT6                   30000 non-null  object\n",
            " 17  PAY_AMT1                    30000 non-null  object\n",
            " 18  PAY_AMT2                    30000 non-null  object\n",
            " 19  PAY_AMT3                    30000 non-null  object\n",
            " 20  PAY_AMT4                    30000 non-null  object\n",
            " 21  PAY_AMT5                    30000 non-null  object\n",
            " 22  PAY_AMT6                    30000 non-null  object\n",
            " 23  default payment next month  30000 non-null  object\n",
            "dtypes: object(24)\n",
            "memory usage: 5.5+ MB\n"
          ]
        }
      ]
    },
    {
      "cell_type": "code",
      "source": [
        "df.isna().sum()"
      ],
      "metadata": {
        "colab": {
          "base_uri": "https://localhost:8080/"
        },
        "id": "VMC0AVF2yfgG",
        "outputId": "8f9acbf3-607a-4302-8594-5e8307336c56"
      },
      "execution_count": null,
      "outputs": [
        {
          "output_type": "execute_result",
          "data": {
            "text/plain": [
              "0\n",
              "LIMIT_BAL                     0\n",
              "SEX                           0\n",
              "EDUCATION                     0\n",
              "MARRIAGE                      0\n",
              "AGE                           0\n",
              "PAY_0                         0\n",
              "PAY_2                         0\n",
              "PAY_3                         0\n",
              "PAY_4                         0\n",
              "PAY_5                         0\n",
              "PAY_6                         0\n",
              "BILL_AMT1                     0\n",
              "BILL_AMT2                     0\n",
              "BILL_AMT3                     0\n",
              "BILL_AMT4                     0\n",
              "BILL_AMT5                     0\n",
              "BILL_AMT6                     0\n",
              "PAY_AMT1                      0\n",
              "PAY_AMT2                      0\n",
              "PAY_AMT3                      0\n",
              "PAY_AMT4                      0\n",
              "PAY_AMT5                      0\n",
              "PAY_AMT6                      0\n",
              "default payment next month    0\n",
              "dtype: int64"
            ]
          },
          "metadata": {},
          "execution_count": 11
        }
      ]
    },
    {
      "cell_type": "code",
      "source": [
        "df.SEX.value_counts()"
      ],
      "metadata": {
        "colab": {
          "base_uri": "https://localhost:8080/"
        },
        "id": "IQxYmKFsyhkE",
        "outputId": "434105be-8b31-4066-c81a-6a2a70dc66bc"
      },
      "execution_count": null,
      "outputs": [
        {
          "output_type": "execute_result",
          "data": {
            "text/plain": [
              "2    18112\n",
              "1    11888\n",
              "Name: SEX, dtype: int64"
            ]
          },
          "metadata": {},
          "execution_count": 12
        }
      ]
    },
    {
      "cell_type": "code",
      "source": [
        "df.EDUCATION.value_counts()"
      ],
      "metadata": {
        "colab": {
          "base_uri": "https://localhost:8080/"
        },
        "id": "SjPrjmJHzcxf",
        "outputId": "6d1e440b-be12-41ca-a5aa-e7057d240cfe"
      },
      "execution_count": null,
      "outputs": [
        {
          "output_type": "execute_result",
          "data": {
            "text/plain": [
              "2    14030\n",
              "1    10585\n",
              "3     4917\n",
              "5      280\n",
              "4      123\n",
              "6       51\n",
              "0       14\n",
              "Name: EDUCATION, dtype: int64"
            ]
          },
          "metadata": {},
          "execution_count": 13
        }
      ]
    },
    {
      "cell_type": "code",
      "source": [
        "df.MARRIAGE.value_counts()"
      ],
      "metadata": {
        "colab": {
          "base_uri": "https://localhost:8080/"
        },
        "id": "70-GAHSQzn-l",
        "outputId": "80e6d1e1-0892-4ae2-f253-2cd64a99a847"
      },
      "execution_count": null,
      "outputs": [
        {
          "output_type": "execute_result",
          "data": {
            "text/plain": [
              "2    15964\n",
              "1    13659\n",
              "3      323\n",
              "0       54\n",
              "Name: MARRIAGE, dtype: int64"
            ]
          },
          "metadata": {},
          "execution_count": 14
        }
      ]
    },
    {
      "cell_type": "code",
      "source": [
        "df.describe()"
      ],
      "metadata": {
        "colab": {
          "base_uri": "https://localhost:8080/",
          "height": 320
        },
        "id": "guM54nP4zxAS",
        "outputId": "59e567b6-b90e-486f-f00f-661ba0918078"
      },
      "execution_count": null,
      "outputs": [
        {
          "output_type": "execute_result",
          "data": {
            "text/plain": [
              "0      LIMIT_BAL    SEX EDUCATION MARRIAGE    AGE  PAY_0  PAY_2  PAY_3  PAY_4  \\\n",
              "count      30000  30000     30000    30000  30000  30000  30000  30000  30000   \n",
              "unique        81      2         7        4     56     11     11     11     11   \n",
              "top        50000      2         2        2     29      0      0      0      0   \n",
              "freq        3365  18112     14030    15964   1605  14737  15730  15764  16455   \n",
              "\n",
              "0       PAY_5  ... BILL_AMT4 BILL_AMT5 BILL_AMT6 PAY_AMT1 PAY_AMT2 PAY_AMT3  \\\n",
              "count   30000  ...     30000     30000     30000    30000    30000    30000   \n",
              "unique     10  ...     21548     21010     20604     7943     7899     7518   \n",
              "top         0  ...         0         0         0        0        0        0   \n",
              "freq    16947  ...      3195      3506      4020     5249     5396     5968   \n",
              "\n",
              "0      PAY_AMT4 PAY_AMT5 PAY_AMT6 default payment next month  \n",
              "count     30000    30000    30000                      30000  \n",
              "unique     6937     6897     6939                          2  \n",
              "top           0        0        0                          0  \n",
              "freq       6408     6703     7173                      23364  \n",
              "\n",
              "[4 rows x 24 columns]"
            ],
            "text/html": [
              "\n",
              "  <div id=\"df-78e15c74-91d9-4893-b8a7-0cb5b3533701\">\n",
              "    <div class=\"colab-df-container\">\n",
              "      <div>\n",
              "<style scoped>\n",
              "    .dataframe tbody tr th:only-of-type {\n",
              "        vertical-align: middle;\n",
              "    }\n",
              "\n",
              "    .dataframe tbody tr th {\n",
              "        vertical-align: top;\n",
              "    }\n",
              "\n",
              "    .dataframe thead th {\n",
              "        text-align: right;\n",
              "    }\n",
              "</style>\n",
              "<table border=\"1\" class=\"dataframe\">\n",
              "  <thead>\n",
              "    <tr style=\"text-align: right;\">\n",
              "      <th></th>\n",
              "      <th>LIMIT_BAL</th>\n",
              "      <th>SEX</th>\n",
              "      <th>EDUCATION</th>\n",
              "      <th>MARRIAGE</th>\n",
              "      <th>AGE</th>\n",
              "      <th>PAY_0</th>\n",
              "      <th>PAY_2</th>\n",
              "      <th>PAY_3</th>\n",
              "      <th>PAY_4</th>\n",
              "      <th>PAY_5</th>\n",
              "      <th>...</th>\n",
              "      <th>BILL_AMT4</th>\n",
              "      <th>BILL_AMT5</th>\n",
              "      <th>BILL_AMT6</th>\n",
              "      <th>PAY_AMT1</th>\n",
              "      <th>PAY_AMT2</th>\n",
              "      <th>PAY_AMT3</th>\n",
              "      <th>PAY_AMT4</th>\n",
              "      <th>PAY_AMT5</th>\n",
              "      <th>PAY_AMT6</th>\n",
              "      <th>default payment next month</th>\n",
              "    </tr>\n",
              "  </thead>\n",
              "  <tbody>\n",
              "    <tr>\n",
              "      <th>count</th>\n",
              "      <td>30000</td>\n",
              "      <td>30000</td>\n",
              "      <td>30000</td>\n",
              "      <td>30000</td>\n",
              "      <td>30000</td>\n",
              "      <td>30000</td>\n",
              "      <td>30000</td>\n",
              "      <td>30000</td>\n",
              "      <td>30000</td>\n",
              "      <td>30000</td>\n",
              "      <td>...</td>\n",
              "      <td>30000</td>\n",
              "      <td>30000</td>\n",
              "      <td>30000</td>\n",
              "      <td>30000</td>\n",
              "      <td>30000</td>\n",
              "      <td>30000</td>\n",
              "      <td>30000</td>\n",
              "      <td>30000</td>\n",
              "      <td>30000</td>\n",
              "      <td>30000</td>\n",
              "    </tr>\n",
              "    <tr>\n",
              "      <th>unique</th>\n",
              "      <td>81</td>\n",
              "      <td>2</td>\n",
              "      <td>7</td>\n",
              "      <td>4</td>\n",
              "      <td>56</td>\n",
              "      <td>11</td>\n",
              "      <td>11</td>\n",
              "      <td>11</td>\n",
              "      <td>11</td>\n",
              "      <td>10</td>\n",
              "      <td>...</td>\n",
              "      <td>21548</td>\n",
              "      <td>21010</td>\n",
              "      <td>20604</td>\n",
              "      <td>7943</td>\n",
              "      <td>7899</td>\n",
              "      <td>7518</td>\n",
              "      <td>6937</td>\n",
              "      <td>6897</td>\n",
              "      <td>6939</td>\n",
              "      <td>2</td>\n",
              "    </tr>\n",
              "    <tr>\n",
              "      <th>top</th>\n",
              "      <td>50000</td>\n",
              "      <td>2</td>\n",
              "      <td>2</td>\n",
              "      <td>2</td>\n",
              "      <td>29</td>\n",
              "      <td>0</td>\n",
              "      <td>0</td>\n",
              "      <td>0</td>\n",
              "      <td>0</td>\n",
              "      <td>0</td>\n",
              "      <td>...</td>\n",
              "      <td>0</td>\n",
              "      <td>0</td>\n",
              "      <td>0</td>\n",
              "      <td>0</td>\n",
              "      <td>0</td>\n",
              "      <td>0</td>\n",
              "      <td>0</td>\n",
              "      <td>0</td>\n",
              "      <td>0</td>\n",
              "      <td>0</td>\n",
              "    </tr>\n",
              "    <tr>\n",
              "      <th>freq</th>\n",
              "      <td>3365</td>\n",
              "      <td>18112</td>\n",
              "      <td>14030</td>\n",
              "      <td>15964</td>\n",
              "      <td>1605</td>\n",
              "      <td>14737</td>\n",
              "      <td>15730</td>\n",
              "      <td>15764</td>\n",
              "      <td>16455</td>\n",
              "      <td>16947</td>\n",
              "      <td>...</td>\n",
              "      <td>3195</td>\n",
              "      <td>3506</td>\n",
              "      <td>4020</td>\n",
              "      <td>5249</td>\n",
              "      <td>5396</td>\n",
              "      <td>5968</td>\n",
              "      <td>6408</td>\n",
              "      <td>6703</td>\n",
              "      <td>7173</td>\n",
              "      <td>23364</td>\n",
              "    </tr>\n",
              "  </tbody>\n",
              "</table>\n",
              "<p>4 rows × 24 columns</p>\n",
              "</div>\n",
              "      <button class=\"colab-df-convert\" onclick=\"convertToInteractive('df-78e15c74-91d9-4893-b8a7-0cb5b3533701')\"\n",
              "              title=\"Convert this dataframe to an interactive table.\"\n",
              "              style=\"display:none;\">\n",
              "        \n",
              "  <svg xmlns=\"http://www.w3.org/2000/svg\" height=\"24px\"viewBox=\"0 0 24 24\"\n",
              "       width=\"24px\">\n",
              "    <path d=\"M0 0h24v24H0V0z\" fill=\"none\"/>\n",
              "    <path d=\"M18.56 5.44l.94 2.06.94-2.06 2.06-.94-2.06-.94-.94-2.06-.94 2.06-2.06.94zm-11 1L8.5 8.5l.94-2.06 2.06-.94-2.06-.94L8.5 2.5l-.94 2.06-2.06.94zm10 10l.94 2.06.94-2.06 2.06-.94-2.06-.94-.94-2.06-.94 2.06-2.06.94z\"/><path d=\"M17.41 7.96l-1.37-1.37c-.4-.4-.92-.59-1.43-.59-.52 0-1.04.2-1.43.59L10.3 9.45l-7.72 7.72c-.78.78-.78 2.05 0 2.83L4 21.41c.39.39.9.59 1.41.59.51 0 1.02-.2 1.41-.59l7.78-7.78 2.81-2.81c.8-.78.8-2.07 0-2.86zM5.41 20L4 18.59l7.72-7.72 1.47 1.35L5.41 20z\"/>\n",
              "  </svg>\n",
              "      </button>\n",
              "      \n",
              "  <style>\n",
              "    .colab-df-container {\n",
              "      display:flex;\n",
              "      flex-wrap:wrap;\n",
              "      gap: 12px;\n",
              "    }\n",
              "\n",
              "    .colab-df-convert {\n",
              "      background-color: #E8F0FE;\n",
              "      border: none;\n",
              "      border-radius: 50%;\n",
              "      cursor: pointer;\n",
              "      display: none;\n",
              "      fill: #1967D2;\n",
              "      height: 32px;\n",
              "      padding: 0 0 0 0;\n",
              "      width: 32px;\n",
              "    }\n",
              "\n",
              "    .colab-df-convert:hover {\n",
              "      background-color: #E2EBFA;\n",
              "      box-shadow: 0px 1px 2px rgba(60, 64, 67, 0.3), 0px 1px 3px 1px rgba(60, 64, 67, 0.15);\n",
              "      fill: #174EA6;\n",
              "    }\n",
              "\n",
              "    [theme=dark] .colab-df-convert {\n",
              "      background-color: #3B4455;\n",
              "      fill: #D2E3FC;\n",
              "    }\n",
              "\n",
              "    [theme=dark] .colab-df-convert:hover {\n",
              "      background-color: #434B5C;\n",
              "      box-shadow: 0px 1px 3px 1px rgba(0, 0, 0, 0.15);\n",
              "      filter: drop-shadow(0px 1px 2px rgba(0, 0, 0, 0.3));\n",
              "      fill: #FFFFFF;\n",
              "    }\n",
              "  </style>\n",
              "\n",
              "      <script>\n",
              "        const buttonEl =\n",
              "          document.querySelector('#df-78e15c74-91d9-4893-b8a7-0cb5b3533701 button.colab-df-convert');\n",
              "        buttonEl.style.display =\n",
              "          google.colab.kernel.accessAllowed ? 'block' : 'none';\n",
              "\n",
              "        async function convertToInteractive(key) {\n",
              "          const element = document.querySelector('#df-78e15c74-91d9-4893-b8a7-0cb5b3533701');\n",
              "          const dataTable =\n",
              "            await google.colab.kernel.invokeFunction('convertToInteractive',\n",
              "                                                     [key], {});\n",
              "          if (!dataTable) return;\n",
              "\n",
              "          const docLinkHtml = 'Like what you see? Visit the ' +\n",
              "            '<a target=\"_blank\" href=https://colab.research.google.com/notebooks/data_table.ipynb>data table notebook</a>'\n",
              "            + ' to learn more about interactive tables.';\n",
              "          element.innerHTML = '';\n",
              "          dataTable['output_type'] = 'display_data';\n",
              "          await google.colab.output.renderOutput(dataTable, element);\n",
              "          const docLink = document.createElement('div');\n",
              "          docLink.innerHTML = docLinkHtml;\n",
              "          element.appendChild(docLink);\n",
              "        }\n",
              "      </script>\n",
              "    </div>\n",
              "  </div>\n",
              "  "
            ]
          },
          "metadata": {},
          "execution_count": 15
        }
      ]
    },
    {
      "cell_type": "code",
      "source": [
        "for i in df.columns:\n",
        "  df[i] = pd.to_numeric(df[i]) "
      ],
      "metadata": {
        "id": "vADfIpcMVskS"
      },
      "execution_count": null,
      "outputs": []
    },
    {
      "cell_type": "code",
      "source": [
        "df.describe()"
      ],
      "metadata": {
        "id": "AF-LAOlDZKqq",
        "colab": {
          "base_uri": "https://localhost:8080/",
          "height": 428
        },
        "outputId": "c9dd0ded-5f46-46f7-a483-4807bc89ca39"
      },
      "execution_count": null,
      "outputs": [
        {
          "output_type": "execute_result",
          "data": {
            "text/plain": [
              "0           LIMIT_BAL           SEX     EDUCATION      MARRIAGE           AGE  \\\n",
              "count    30000.000000  30000.000000  30000.000000  30000.000000  30000.000000   \n",
              "mean    167484.322667      1.603733      1.853133      1.551867     35.485500   \n",
              "std     129747.661567      0.489129      0.790349      0.521970      9.217904   \n",
              "min      10000.000000      1.000000      0.000000      0.000000     21.000000   \n",
              "25%      50000.000000      1.000000      1.000000      1.000000     28.000000   \n",
              "50%     140000.000000      2.000000      2.000000      2.000000     34.000000   \n",
              "75%     240000.000000      2.000000      2.000000      2.000000     41.000000   \n",
              "max    1000000.000000      2.000000      6.000000      3.000000     79.000000   \n",
              "\n",
              "0             PAY_0         PAY_2         PAY_3         PAY_4         PAY_5  \\\n",
              "count  30000.000000  30000.000000  30000.000000  30000.000000  30000.000000   \n",
              "mean      -0.016700     -0.133767     -0.166200     -0.220667     -0.266200   \n",
              "std        1.123802      1.197186      1.196868      1.169139      1.133187   \n",
              "min       -2.000000     -2.000000     -2.000000     -2.000000     -2.000000   \n",
              "25%       -1.000000     -1.000000     -1.000000     -1.000000     -1.000000   \n",
              "50%        0.000000      0.000000      0.000000      0.000000      0.000000   \n",
              "75%        0.000000      0.000000      0.000000      0.000000      0.000000   \n",
              "max        8.000000      8.000000      8.000000      8.000000      8.000000   \n",
              "\n",
              "0      ...      BILL_AMT4      BILL_AMT5      BILL_AMT6       PAY_AMT1  \\\n",
              "count  ...   30000.000000   30000.000000   30000.000000   30000.000000   \n",
              "mean   ...   43262.948967   40311.400967   38871.760400    5663.580500   \n",
              "std    ...   64332.856134   60797.155770   59554.107537   16563.280354   \n",
              "min    ... -170000.000000  -81334.000000 -339603.000000       0.000000   \n",
              "25%    ...    2326.750000    1763.000000    1256.000000    1000.000000   \n",
              "50%    ...   19052.000000   18104.500000   17071.000000    2100.000000   \n",
              "75%    ...   54506.000000   50190.500000   49198.250000    5006.000000   \n",
              "max    ...  891586.000000  927171.000000  961664.000000  873552.000000   \n",
              "\n",
              "0          PAY_AMT2      PAY_AMT3       PAY_AMT4       PAY_AMT5  \\\n",
              "count  3.000000e+04   30000.00000   30000.000000   30000.000000   \n",
              "mean   5.921163e+03    5225.68150    4826.076867    4799.387633   \n",
              "std    2.304087e+04   17606.96147   15666.159744   15278.305679   \n",
              "min    0.000000e+00       0.00000       0.000000       0.000000   \n",
              "25%    8.330000e+02     390.00000     296.000000     252.500000   \n",
              "50%    2.009000e+03    1800.00000    1500.000000    1500.000000   \n",
              "75%    5.000000e+03    4505.00000    4013.250000    4031.500000   \n",
              "max    1.684259e+06  896040.00000  621000.000000  426529.000000   \n",
              "\n",
              "0           PAY_AMT6  default payment next month  \n",
              "count   30000.000000                30000.000000  \n",
              "mean     5215.502567                    0.221200  \n",
              "std     17777.465775                    0.415062  \n",
              "min         0.000000                    0.000000  \n",
              "25%       117.750000                    0.000000  \n",
              "50%      1500.000000                    0.000000  \n",
              "75%      4000.000000                    0.000000  \n",
              "max    528666.000000                    1.000000  \n",
              "\n",
              "[8 rows x 24 columns]"
            ],
            "text/html": [
              "\n",
              "  <div id=\"df-71058ddb-0650-4d16-bb4d-3b0623c1cae1\">\n",
              "    <div class=\"colab-df-container\">\n",
              "      <div>\n",
              "<style scoped>\n",
              "    .dataframe tbody tr th:only-of-type {\n",
              "        vertical-align: middle;\n",
              "    }\n",
              "\n",
              "    .dataframe tbody tr th {\n",
              "        vertical-align: top;\n",
              "    }\n",
              "\n",
              "    .dataframe thead th {\n",
              "        text-align: right;\n",
              "    }\n",
              "</style>\n",
              "<table border=\"1\" class=\"dataframe\">\n",
              "  <thead>\n",
              "    <tr style=\"text-align: right;\">\n",
              "      <th></th>\n",
              "      <th>LIMIT_BAL</th>\n",
              "      <th>SEX</th>\n",
              "      <th>EDUCATION</th>\n",
              "      <th>MARRIAGE</th>\n",
              "      <th>AGE</th>\n",
              "      <th>PAY_0</th>\n",
              "      <th>PAY_2</th>\n",
              "      <th>PAY_3</th>\n",
              "      <th>PAY_4</th>\n",
              "      <th>PAY_5</th>\n",
              "      <th>...</th>\n",
              "      <th>BILL_AMT4</th>\n",
              "      <th>BILL_AMT5</th>\n",
              "      <th>BILL_AMT6</th>\n",
              "      <th>PAY_AMT1</th>\n",
              "      <th>PAY_AMT2</th>\n",
              "      <th>PAY_AMT3</th>\n",
              "      <th>PAY_AMT4</th>\n",
              "      <th>PAY_AMT5</th>\n",
              "      <th>PAY_AMT6</th>\n",
              "      <th>default payment next month</th>\n",
              "    </tr>\n",
              "  </thead>\n",
              "  <tbody>\n",
              "    <tr>\n",
              "      <th>count</th>\n",
              "      <td>30000.000000</td>\n",
              "      <td>30000.000000</td>\n",
              "      <td>30000.000000</td>\n",
              "      <td>30000.000000</td>\n",
              "      <td>30000.000000</td>\n",
              "      <td>30000.000000</td>\n",
              "      <td>30000.000000</td>\n",
              "      <td>30000.000000</td>\n",
              "      <td>30000.000000</td>\n",
              "      <td>30000.000000</td>\n",
              "      <td>...</td>\n",
              "      <td>30000.000000</td>\n",
              "      <td>30000.000000</td>\n",
              "      <td>30000.000000</td>\n",
              "      <td>30000.000000</td>\n",
              "      <td>3.000000e+04</td>\n",
              "      <td>30000.00000</td>\n",
              "      <td>30000.000000</td>\n",
              "      <td>30000.000000</td>\n",
              "      <td>30000.000000</td>\n",
              "      <td>30000.000000</td>\n",
              "    </tr>\n",
              "    <tr>\n",
              "      <th>mean</th>\n",
              "      <td>167484.322667</td>\n",
              "      <td>1.603733</td>\n",
              "      <td>1.853133</td>\n",
              "      <td>1.551867</td>\n",
              "      <td>35.485500</td>\n",
              "      <td>-0.016700</td>\n",
              "      <td>-0.133767</td>\n",
              "      <td>-0.166200</td>\n",
              "      <td>-0.220667</td>\n",
              "      <td>-0.266200</td>\n",
              "      <td>...</td>\n",
              "      <td>43262.948967</td>\n",
              "      <td>40311.400967</td>\n",
              "      <td>38871.760400</td>\n",
              "      <td>5663.580500</td>\n",
              "      <td>5.921163e+03</td>\n",
              "      <td>5225.68150</td>\n",
              "      <td>4826.076867</td>\n",
              "      <td>4799.387633</td>\n",
              "      <td>5215.502567</td>\n",
              "      <td>0.221200</td>\n",
              "    </tr>\n",
              "    <tr>\n",
              "      <th>std</th>\n",
              "      <td>129747.661567</td>\n",
              "      <td>0.489129</td>\n",
              "      <td>0.790349</td>\n",
              "      <td>0.521970</td>\n",
              "      <td>9.217904</td>\n",
              "      <td>1.123802</td>\n",
              "      <td>1.197186</td>\n",
              "      <td>1.196868</td>\n",
              "      <td>1.169139</td>\n",
              "      <td>1.133187</td>\n",
              "      <td>...</td>\n",
              "      <td>64332.856134</td>\n",
              "      <td>60797.155770</td>\n",
              "      <td>59554.107537</td>\n",
              "      <td>16563.280354</td>\n",
              "      <td>2.304087e+04</td>\n",
              "      <td>17606.96147</td>\n",
              "      <td>15666.159744</td>\n",
              "      <td>15278.305679</td>\n",
              "      <td>17777.465775</td>\n",
              "      <td>0.415062</td>\n",
              "    </tr>\n",
              "    <tr>\n",
              "      <th>min</th>\n",
              "      <td>10000.000000</td>\n",
              "      <td>1.000000</td>\n",
              "      <td>0.000000</td>\n",
              "      <td>0.000000</td>\n",
              "      <td>21.000000</td>\n",
              "      <td>-2.000000</td>\n",
              "      <td>-2.000000</td>\n",
              "      <td>-2.000000</td>\n",
              "      <td>-2.000000</td>\n",
              "      <td>-2.000000</td>\n",
              "      <td>...</td>\n",
              "      <td>-170000.000000</td>\n",
              "      <td>-81334.000000</td>\n",
              "      <td>-339603.000000</td>\n",
              "      <td>0.000000</td>\n",
              "      <td>0.000000e+00</td>\n",
              "      <td>0.00000</td>\n",
              "      <td>0.000000</td>\n",
              "      <td>0.000000</td>\n",
              "      <td>0.000000</td>\n",
              "      <td>0.000000</td>\n",
              "    </tr>\n",
              "    <tr>\n",
              "      <th>25%</th>\n",
              "      <td>50000.000000</td>\n",
              "      <td>1.000000</td>\n",
              "      <td>1.000000</td>\n",
              "      <td>1.000000</td>\n",
              "      <td>28.000000</td>\n",
              "      <td>-1.000000</td>\n",
              "      <td>-1.000000</td>\n",
              "      <td>-1.000000</td>\n",
              "      <td>-1.000000</td>\n",
              "      <td>-1.000000</td>\n",
              "      <td>...</td>\n",
              "      <td>2326.750000</td>\n",
              "      <td>1763.000000</td>\n",
              "      <td>1256.000000</td>\n",
              "      <td>1000.000000</td>\n",
              "      <td>8.330000e+02</td>\n",
              "      <td>390.00000</td>\n",
              "      <td>296.000000</td>\n",
              "      <td>252.500000</td>\n",
              "      <td>117.750000</td>\n",
              "      <td>0.000000</td>\n",
              "    </tr>\n",
              "    <tr>\n",
              "      <th>50%</th>\n",
              "      <td>140000.000000</td>\n",
              "      <td>2.000000</td>\n",
              "      <td>2.000000</td>\n",
              "      <td>2.000000</td>\n",
              "      <td>34.000000</td>\n",
              "      <td>0.000000</td>\n",
              "      <td>0.000000</td>\n",
              "      <td>0.000000</td>\n",
              "      <td>0.000000</td>\n",
              "      <td>0.000000</td>\n",
              "      <td>...</td>\n",
              "      <td>19052.000000</td>\n",
              "      <td>18104.500000</td>\n",
              "      <td>17071.000000</td>\n",
              "      <td>2100.000000</td>\n",
              "      <td>2.009000e+03</td>\n",
              "      <td>1800.00000</td>\n",
              "      <td>1500.000000</td>\n",
              "      <td>1500.000000</td>\n",
              "      <td>1500.000000</td>\n",
              "      <td>0.000000</td>\n",
              "    </tr>\n",
              "    <tr>\n",
              "      <th>75%</th>\n",
              "      <td>240000.000000</td>\n",
              "      <td>2.000000</td>\n",
              "      <td>2.000000</td>\n",
              "      <td>2.000000</td>\n",
              "      <td>41.000000</td>\n",
              "      <td>0.000000</td>\n",
              "      <td>0.000000</td>\n",
              "      <td>0.000000</td>\n",
              "      <td>0.000000</td>\n",
              "      <td>0.000000</td>\n",
              "      <td>...</td>\n",
              "      <td>54506.000000</td>\n",
              "      <td>50190.500000</td>\n",
              "      <td>49198.250000</td>\n",
              "      <td>5006.000000</td>\n",
              "      <td>5.000000e+03</td>\n",
              "      <td>4505.00000</td>\n",
              "      <td>4013.250000</td>\n",
              "      <td>4031.500000</td>\n",
              "      <td>4000.000000</td>\n",
              "      <td>0.000000</td>\n",
              "    </tr>\n",
              "    <tr>\n",
              "      <th>max</th>\n",
              "      <td>1000000.000000</td>\n",
              "      <td>2.000000</td>\n",
              "      <td>6.000000</td>\n",
              "      <td>3.000000</td>\n",
              "      <td>79.000000</td>\n",
              "      <td>8.000000</td>\n",
              "      <td>8.000000</td>\n",
              "      <td>8.000000</td>\n",
              "      <td>8.000000</td>\n",
              "      <td>8.000000</td>\n",
              "      <td>...</td>\n",
              "      <td>891586.000000</td>\n",
              "      <td>927171.000000</td>\n",
              "      <td>961664.000000</td>\n",
              "      <td>873552.000000</td>\n",
              "      <td>1.684259e+06</td>\n",
              "      <td>896040.00000</td>\n",
              "      <td>621000.000000</td>\n",
              "      <td>426529.000000</td>\n",
              "      <td>528666.000000</td>\n",
              "      <td>1.000000</td>\n",
              "    </tr>\n",
              "  </tbody>\n",
              "</table>\n",
              "<p>8 rows × 24 columns</p>\n",
              "</div>\n",
              "      <button class=\"colab-df-convert\" onclick=\"convertToInteractive('df-71058ddb-0650-4d16-bb4d-3b0623c1cae1')\"\n",
              "              title=\"Convert this dataframe to an interactive table.\"\n",
              "              style=\"display:none;\">\n",
              "        \n",
              "  <svg xmlns=\"http://www.w3.org/2000/svg\" height=\"24px\"viewBox=\"0 0 24 24\"\n",
              "       width=\"24px\">\n",
              "    <path d=\"M0 0h24v24H0V0z\" fill=\"none\"/>\n",
              "    <path d=\"M18.56 5.44l.94 2.06.94-2.06 2.06-.94-2.06-.94-.94-2.06-.94 2.06-2.06.94zm-11 1L8.5 8.5l.94-2.06 2.06-.94-2.06-.94L8.5 2.5l-.94 2.06-2.06.94zm10 10l.94 2.06.94-2.06 2.06-.94-2.06-.94-.94-2.06-.94 2.06-2.06.94z\"/><path d=\"M17.41 7.96l-1.37-1.37c-.4-.4-.92-.59-1.43-.59-.52 0-1.04.2-1.43.59L10.3 9.45l-7.72 7.72c-.78.78-.78 2.05 0 2.83L4 21.41c.39.39.9.59 1.41.59.51 0 1.02-.2 1.41-.59l7.78-7.78 2.81-2.81c.8-.78.8-2.07 0-2.86zM5.41 20L4 18.59l7.72-7.72 1.47 1.35L5.41 20z\"/>\n",
              "  </svg>\n",
              "      </button>\n",
              "      \n",
              "  <style>\n",
              "    .colab-df-container {\n",
              "      display:flex;\n",
              "      flex-wrap:wrap;\n",
              "      gap: 12px;\n",
              "    }\n",
              "\n",
              "    .colab-df-convert {\n",
              "      background-color: #E8F0FE;\n",
              "      border: none;\n",
              "      border-radius: 50%;\n",
              "      cursor: pointer;\n",
              "      display: none;\n",
              "      fill: #1967D2;\n",
              "      height: 32px;\n",
              "      padding: 0 0 0 0;\n",
              "      width: 32px;\n",
              "    }\n",
              "\n",
              "    .colab-df-convert:hover {\n",
              "      background-color: #E2EBFA;\n",
              "      box-shadow: 0px 1px 2px rgba(60, 64, 67, 0.3), 0px 1px 3px 1px rgba(60, 64, 67, 0.15);\n",
              "      fill: #174EA6;\n",
              "    }\n",
              "\n",
              "    [theme=dark] .colab-df-convert {\n",
              "      background-color: #3B4455;\n",
              "      fill: #D2E3FC;\n",
              "    }\n",
              "\n",
              "    [theme=dark] .colab-df-convert:hover {\n",
              "      background-color: #434B5C;\n",
              "      box-shadow: 0px 1px 3px 1px rgba(0, 0, 0, 0.15);\n",
              "      filter: drop-shadow(0px 1px 2px rgba(0, 0, 0, 0.3));\n",
              "      fill: #FFFFFF;\n",
              "    }\n",
              "  </style>\n",
              "\n",
              "      <script>\n",
              "        const buttonEl =\n",
              "          document.querySelector('#df-71058ddb-0650-4d16-bb4d-3b0623c1cae1 button.colab-df-convert');\n",
              "        buttonEl.style.display =\n",
              "          google.colab.kernel.accessAllowed ? 'block' : 'none';\n",
              "\n",
              "        async function convertToInteractive(key) {\n",
              "          const element = document.querySelector('#df-71058ddb-0650-4d16-bb4d-3b0623c1cae1');\n",
              "          const dataTable =\n",
              "            await google.colab.kernel.invokeFunction('convertToInteractive',\n",
              "                                                     [key], {});\n",
              "          if (!dataTable) return;\n",
              "\n",
              "          const docLinkHtml = 'Like what you see? Visit the ' +\n",
              "            '<a target=\"_blank\" href=https://colab.research.google.com/notebooks/data_table.ipynb>data table notebook</a>'\n",
              "            + ' to learn more about interactive tables.';\n",
              "          element.innerHTML = '';\n",
              "          dataTable['output_type'] = 'display_data';\n",
              "          await google.colab.output.renderOutput(dataTable, element);\n",
              "          const docLink = document.createElement('div');\n",
              "          docLink.innerHTML = docLinkHtml;\n",
              "          element.appendChild(docLink);\n",
              "        }\n",
              "      </script>\n",
              "    </div>\n",
              "  </div>\n",
              "  "
            ]
          },
          "metadata": {},
          "execution_count": 17
        }
      ]
    },
    {
      "cell_type": "code",
      "source": [
        "df['EDUCATION']=np.where(df['EDUCATION'] == 0, 4, df['EDUCATION'])\n",
        "df['EDUCATION']=np.where(df['EDUCATION'] == 5, 4, df['EDUCATION'])\n",
        "df['EDUCATION']=np.where(df['EDUCATION'] == 6, 4, df['EDUCATION'])"
      ],
      "metadata": {
        "id": "WygSaFK-0IrG"
      },
      "execution_count": null,
      "outputs": []
    },
    {
      "cell_type": "code",
      "source": [
        "df['EDUCATION'].unique()"
      ],
      "metadata": {
        "colab": {
          "base_uri": "https://localhost:8080/"
        },
        "id": "5bjOu2OU8tO2",
        "outputId": "bca49ee2-7009-4eb5-bd88-e98085244462"
      },
      "execution_count": null,
      "outputs": [
        {
          "output_type": "execute_result",
          "data": {
            "text/plain": [
              "array([2, 1, 3, 4])"
            ]
          },
          "metadata": {},
          "execution_count": 19
        }
      ]
    },
    {
      "cell_type": "code",
      "source": [
        "df.MARRIAGE.replace(0,3 , inplace = True)"
      ],
      "metadata": {
        "id": "3KfKNwZu-6gS"
      },
      "execution_count": null,
      "outputs": []
    },
    {
      "cell_type": "code",
      "source": [
        "df.MARRIAGE.unique()"
      ],
      "metadata": {
        "colab": {
          "base_uri": "https://localhost:8080/"
        },
        "id": "G3cCImDUYsSh",
        "outputId": "3c1ff6f9-1115-479a-ef96-daa1b1fb8ba3"
      },
      "execution_count": null,
      "outputs": [
        {
          "output_type": "execute_result",
          "data": {
            "text/plain": [
              "array([1, 2, 3])"
            ]
          },
          "metadata": {},
          "execution_count": 21
        }
      ]
    },
    {
      "cell_type": "code",
      "source": [
        "cateogical_data = []\n",
        "for i in df.columns:\n",
        "  if len(df[i].unique()) <= 15:\n",
        "    cateogical_data.append(i)\n"
      ],
      "metadata": {
        "id": "RscL0OHDa20-"
      },
      "execution_count": null,
      "outputs": []
    },
    {
      "cell_type": "code",
      "source": [
        "numerical_data = []\n",
        "for i in df.columns:\n",
        "  if len(df[i].unique()) > 15:\n",
        "    numerical_data.append(i)"
      ],
      "metadata": {
        "id": "9Q0hhd63oFRu"
      },
      "execution_count": null,
      "outputs": []
    },
    {
      "cell_type": "code",
      "source": [
        "cateogical_data"
      ],
      "metadata": {
        "colab": {
          "base_uri": "https://localhost:8080/"
        },
        "id": "2G9MeWd_i1BL",
        "outputId": "4a838a5d-3d17-4f0b-8f46-c04ac4a900f6"
      },
      "execution_count": null,
      "outputs": [
        {
          "output_type": "execute_result",
          "data": {
            "text/plain": [
              "['SEX',\n",
              " 'EDUCATION',\n",
              " 'MARRIAGE',\n",
              " 'PAY_0',\n",
              " 'PAY_2',\n",
              " 'PAY_3',\n",
              " 'PAY_4',\n",
              " 'PAY_5',\n",
              " 'PAY_6',\n",
              " 'default payment next month']"
            ]
          },
          "metadata": {},
          "execution_count": 24
        }
      ]
    },
    {
      "cell_type": "code",
      "source": [
        "plt.figure(figsize=(15, 8))\n",
        "sns.boxplot(data = df, palette=\"gist_gray_r\")\n",
        "plt.xticks(rotation = \"vertical\")\n",
        "plt.title(\"BOXPLOT ON CREDIT CARD PREDETION DATASET\")\n",
        "plt.show()"
      ],
      "metadata": {
        "colab": {
          "base_uri": "https://localhost:8080/",
          "height": 646
        },
        "id": "8Yc9yYuh06dd",
        "outputId": "cf4347bc-d848-4045-8b5e-2182be7c6e4f"
      },
      "execution_count": null,
      "outputs": [
        {
          "output_type": "display_data",
          "data": {
            "text/plain": [
              "<Figure size 1080x576 with 1 Axes>"
            ],
            "image/png": "[encoded data removed]"
          },
          "metadata": {
            "needs_background": "light"
          }
        }
      ]
    },
    {
      "cell_type": "code",
      "source": [
        "plt.figure(figsize=(15, 8))\n",
        "sns.boxplot(data = df[numerical_data], palette=\"gist_gray_r\")\n",
        "plt.xticks(rotation = \"vertical\")\n",
        "plt.title(\"BOXPLOT ON NUMERICAL DATASET\")\n",
        "plt.show()"
      ],
      "metadata": {
        "colab": {
          "base_uri": "https://localhost:8080/",
          "height": 556
        },
        "id": "6rvgh8s8jev3",
        "outputId": "a15e278c-410c-4320-c3e9-78f5e4ede2f9"
      },
      "execution_count": null,
      "outputs": [
        {
          "output_type": "display_data",
          "data": {
            "text/plain": [
              "<Figure size 1080x576 with 1 Axes>"
            ],
            "image/png": "[encoded data removed]"
          },
          "metadata": {
            "needs_background": "light"
          }
        }
      ]
    },
    {
      "cell_type": "code",
      "source": [
        "df.rename(columns={'default payment next month': 'DEFAULT'}, inplace = True)"
      ],
      "metadata": {
        "id": "U0g9d00L0-YS"
      },
      "execution_count": null,
      "outputs": []
    },
    {
      "cell_type": "code",
      "source": [
        "fig, axes = plt.subplots(3, 3, figsize=(20, 15), facecolor='white')\n",
        "fig.suptitle('FREQUENCY OF CATEGORICAL VARIABLES BY DEFAULT (TARGET VARIABLE)')\n",
        "col=\"gist_gray\"\n",
        "sns.countplot(x = df[cateogical_data[0]], data = df, hue = df[\"DEFAULT\"], ax=axes[0,0], palette = [\"lightblue\", \"grey\"])\n",
        "sns.countplot(x = df[cateogical_data[1]], data = df, hue = df[\"DEFAULT\"], ax=axes[0,1], palette = [\"lightblue\", \"grey\"])\n",
        "sns.countplot(x = df[cateogical_data[2]], data = df, hue = df[\"DEFAULT\"], ax=axes[0,2], palette = [\"lightblue\", \"grey\"])\n",
        "sns.countplot(x = df[cateogical_data[3]], data = df, hue = df[\"DEFAULT\"], ax=axes[1,0], palette = [\"lightblue\", \"grey\"])\n",
        "sns.countplot(x = df[cateogical_data[4]], data = df, hue = df[\"DEFAULT\"], ax=axes[1,1], palette = [\"lightblue\", \"grey\"])\n",
        "sns.countplot(x = df[cateogical_data[5]], data = df, hue = df[\"DEFAULT\"], ax=axes[1,2], palette = [\"lightblue\", \"grey\"])\n",
        "sns.countplot(x = df[cateogical_data[6]], data = df, hue = df[\"DEFAULT\"], ax=axes[2,0], palette = [\"lightblue\", \"grey\"])\n",
        "sns.countplot(x = df[cateogical_data[7]], data = df, hue = df[\"DEFAULT\"], ax=axes[2,1], palette = [\"lightblue\", \"grey\"])\n",
        "sns.countplot(x = df[cateogical_data[8]], data = df, hue = df[\"DEFAULT\"], ax=axes[2,2], palette = [\"lightblue\", \"grey\"])\n",
        "plt.show()"
      ],
      "metadata": {
        "colab": {
          "base_uri": "https://localhost:8080/",
          "height": 986
        },
        "id": "mOFSmn0K0-ai",
        "outputId": "04a600f5-4122-4446-d805-96d43ce2b73a"
      },
      "execution_count": null,
      "outputs": [
        {
          "output_type": "display_data",
          "data": {
            "text/plain": [
              "<Figure size 1440x1080 with 9 Axes>"
            ],
            "image/png": "[encoded data removed]"
          },
          "metadata": {}
        }
      ]
    },
    {
      "cell_type": "code",
      "source": [
        "sns.countplot(x = \"DEFAULT\" , data = df, palette = [\"lightblue\", \"grey\"])\n",
        "plt.show()"
      ],
      "metadata": {
        "id": "cRR4m7D70-sD",
        "colab": {
          "base_uri": "https://localhost:8080/",
          "height": 279
        },
        "outputId": "5086f65b-d0de-46f0-bc9c-c65066aded73"
      },
      "execution_count": null,
      "outputs": [
        {
          "output_type": "display_data",
          "data": {
            "text/plain": [
              "<Figure size 432x288 with 1 Axes>"
            ],
            "image/png": "[encoded data removed]"
          },
          "metadata": {
            "needs_background": "light"
          }
        }
      ]
    },
    {
      "cell_type": "code",
      "source": [
        "plt.figure(figsize = (19,6))\n",
        "sns.countplot(x = \"AGE\" , data = df, palette = [\"lightblue\", \"grey\"], hue = \"DEFAULT\")\n",
        "plt.show()"
      ],
      "metadata": {
        "id": "JS2Q2AQD0-uF",
        "colab": {
          "base_uri": "https://localhost:8080/",
          "height": 388
        },
        "outputId": "e810b8fc-7560-40cd-df2d-692e3573989f"
      },
      "execution_count": null,
      "outputs": [
        {
          "output_type": "display_data",
          "data": {
            "text/plain": [
              "<Figure size 1368x432 with 1 Axes>"
            ],
            "image/png": "[encoded data removed]"
          },
          "metadata": {
            "needs_background": "light"
          }
        }
      ]
    },
    {
      "cell_type": "code",
      "source": [
        "plt.figure(figsize = (19,6))\n",
        "sns.lineplot(data= df, x=\"AGE\", y=\"LIMIT_BAL\")\n",
        "plt.show()"
      ],
      "metadata": {
        "id": "w8MJNI_s0-v2",
        "colab": {
          "base_uri": "https://localhost:8080/",
          "height": 388
        },
        "outputId": "c38c2f1e-8d07-4350-db4e-61fd1a83a6c0"
      },
      "execution_count": null,
      "outputs": [
        {
          "output_type": "display_data",
          "data": {
            "text/plain": [
              "<Figure size 1368x432 with 1 Axes>"
            ],
            "image/png": "[encoded data removed]"
          },
          "metadata": {
            "needs_background": "light"
          }
        }
      ]
    },
    {
      "cell_type": "code",
      "source": [
        "plt.figure(figsize=(19,15))\n",
        "sns.heatmap(df.corr(),annot=True,center = 0 , cmap ='gist_gray')\n",
        "plt.show()"
      ],
      "metadata": {
        "id": "LsmeJlXw0-24",
        "colab": {
          "base_uri": "https://localhost:8080/",
          "height": 930
        },
        "outputId": "f43a4a3f-0145-45a4-af16-6c4fb32e426d"
      },
      "execution_count": null,
      "outputs": [
        {
          "output_type": "display_data",
          "data": {
            "text/plain": [
              "<Figure size 1368x1080 with 2 Axes>"
            ],
            "image/png": "[encoded data removed]"
          },
          "metadata": {
            "needs_background": "light"
          }
        }
      ]
    },
    {
      "cell_type": "code",
      "source": [
        "X = df.iloc[:,:-1]"
      ],
      "metadata": {
        "id": "xSPD_wjH0-6P"
      },
      "execution_count": null,
      "outputs": []
    },
    {
      "cell_type": "code",
      "source": [
        "Y = df.iloc[:,-1]"
      ],
      "metadata": {
        "id": "My1ZireNzupQ"
      },
      "execution_count": null,
      "outputs": []
    },
    {
      "cell_type": "code",
      "source": [
        "from sklearn.model_selection import train_test_split\n",
        "from sklearn.linear_model import LogisticRegression"
      ],
      "metadata": {
        "id": "GapnXzFHz2zx"
      },
      "execution_count": null,
      "outputs": []
    },
    {
      "cell_type": "code",
      "source": [
        "X_train, X_test, Y_train, Y_test = train_test_split(X, Y ,stratify=  Y, train_size = 0.8, random_state=42)"
      ],
      "metadata": {
        "id": "jSTmy5n21K-k"
      },
      "execution_count": null,
      "outputs": []
    },
    {
      "cell_type": "code",
      "source": [
        "LR = LogisticRegression()\n",
        "LR.fit(X_train, Y_train)"
      ],
      "metadata": {
        "colab": {
          "base_uri": "https://localhost:8080/"
        },
        "id": "rF6bC_T4174u",
        "outputId": "00d56fa3-8bf8-4d26-f54a-94ec643e927b"
      },
      "execution_count": null,
      "outputs": [
        {
          "output_type": "stream",
          "name": "stderr",
          "text": [
            "/usr/local/lib/python3.7/dist-packages/sklearn/linear_model/_logistic.py:818: ConvergenceWarning: lbfgs failed to converge (status=1):\n",
            "STOP: TOTAL NO. of ITERATIONS REACHED LIMIT.\n",
            "\n",
            "Increase the number of iterations (max_iter) or scale the data as shown in:\n",
            "    https://scikit-learn.org/stable/modules/preprocessing.html\n",
            "Please also refer to the documentation for alternative solver options:\n",
            "    https://scikit-learn.org/stable/modules/linear_model.html#logistic-regression\n",
            "  extra_warning_msg=_LOGISTIC_SOLVER_CONVERGENCE_MSG,\n"
          ]
        },
        {
          "output_type": "execute_result",
          "data": {
            "text/plain": [
              "LogisticRegression()"
            ]
          },
          "metadata": {},
          "execution_count": 37
        }
      ]
    },
    {
      "cell_type": "code",
      "source": [
        "y_pred= LR.predict(X_test)"
      ],
      "metadata": {
        "id": "Wj8k2Z0K22BQ"
      },
      "execution_count": null,
      "outputs": []
    },
    {
      "cell_type": "code",
      "source": [
        "from sklearn.metrics import accuracy_score,precision_score,recall_score"
      ],
      "metadata": {
        "id": "ZaZ-EXa63XZk"
      },
      "execution_count": null,
      "outputs": []
    },
    {
      "cell_type": "code",
      "source": [
        "print(\"Accuracy:\",accuracy_score(Y_test, y_pred))\n",
        "print(\"Precision:\",precision_score(Y_test, y_pred))\n",
        "print(\"Recall:\",recall_score(Y_test, y_pred))"
      ],
      "metadata": {
        "colab": {
          "base_uri": "https://localhost:8080/"
        },
        "id": "zuUkgC7F3LnK",
        "outputId": "6f89654a-e585-4908-a8de-ed916f9ff88d"
      },
      "execution_count": null,
      "outputs": [
        {
          "output_type": "stream",
          "name": "stdout",
          "text": [
            "Accuracy: 0.7788333333333334\n",
            "Precision: 0.0\n",
            "Recall: 0.0\n"
          ]
        },
        {
          "output_type": "stream",
          "name": "stderr",
          "text": [
            "/usr/local/lib/python3.7/dist-packages/sklearn/metrics/_classification.py:1318: UndefinedMetricWarning: Precision is ill-defined and being set to 0.0 due to no predicted samples. Use `zero_division` parameter to control this behavior.\n",
            "  _warn_prf(average, modifier, msg_start, len(result))\n"
          ]
        }
      ]
    },
    {
      "cell_type": "code",
      "source": [
        "from sklearn.model_selection import GridSearchCV"
      ],
      "metadata": {
        "id": "-RMaL2ar3r81"
      },
      "execution_count": null,
      "outputs": []
    },
    {
      "cell_type": "code",
      "source": [
        "grid = GridSearchCV"
      ],
      "metadata": {
        "id": "N4q0P-YppJg1"
      },
      "execution_count": null,
      "outputs": []
    },
    {
      "cell_type": "code",
      "source": [
        "lr_model = grid(LR,\n",
        "                param_grid = {'solver' : ['newton-cg', 'lbfgs', 'liblinear'],\n",
        "'penalty' : ['l2'],\n",
        "'C' : [1.0, 0.1, 0.01]}, cv = 3 , verbose = 1)"
      ],
      "metadata": {
        "id": "HTARNk3epPwt"
      },
      "execution_count": null,
      "outputs": []
    },
    {
      "cell_type": "code",
      "source": [
        "lr_model.fit(X_train, Y_train)"
      ],
      "metadata": {
        "colab": {
          "base_uri": "https://localhost:8080/"
        },
        "id": "HrTDc2MJrlxm",
        "outputId": "494eea77-4e16-4618-c58e-c374f9f1a96a"
      },
      "execution_count": null,
      "outputs": [
        {
          "output_type": "stream",
          "name": "stdout",
          "text": [
            "Fitting 3 folds for each of 9 candidates, totalling 27 fits\n"
          ]
        },
        {
          "output_type": "stream",
          "name": "stderr",
          "text": [
            "/usr/local/lib/python3.7/dist-packages/scipy/optimize/linesearch.py:466: LineSearchWarning: The line search algorithm did not converge\n",
            "  warn('The line search algorithm did not converge', LineSearchWarning)\n",
            "/usr/local/lib/python3.7/dist-packages/scipy/optimize/linesearch.py:314: LineSearchWarning: The line search algorithm did not converge\n",
            "  warn('The line search algorithm did not converge', LineSearchWarning)\n",
            "/usr/local/lib/python3.7/dist-packages/sklearn/utils/optimize.py:212: ConvergenceWarning: newton-cg failed to converge. Increase the number of iterations.\n",
            "  ConvergenceWarning,\n",
            "/usr/local/lib/python3.7/dist-packages/sklearn/utils/optimize.py:212: ConvergenceWarning: newton-cg failed to converge. Increase the number of iterations.\n",
            "  ConvergenceWarning,\n",
            "/usr/local/lib/python3.7/dist-packages/scipy/optimize/linesearch.py:466: LineSearchWarning: The line search algorithm did not converge\n",
            "  warn('The line search algorithm did not converge', LineSearchWarning)\n",
            "/usr/local/lib/python3.7/dist-packages/scipy/optimize/linesearch.py:314: LineSearchWarning: The line search algorithm did not converge\n",
            "  warn('The line search algorithm did not converge', LineSearchWarning)\n",
            "/usr/local/lib/python3.7/dist-packages/scipy/optimize/linesearch.py:466: LineSearchWarning: The line search algorithm did not converge\n",
            "  warn('The line search algorithm did not converge', LineSearchWarning)\n",
            "/usr/local/lib/python3.7/dist-packages/scipy/optimize/linesearch.py:314: LineSearchWarning: The line search algorithm did not converge\n",
            "  warn('The line search algorithm did not converge', LineSearchWarning)\n",
            "/usr/local/lib/python3.7/dist-packages/sklearn/utils/optimize.py:212: ConvergenceWarning: newton-cg failed to converge. Increase the number of iterations.\n",
            "  ConvergenceWarning,\n",
            "/usr/local/lib/python3.7/dist-packages/sklearn/linear_model/_logistic.py:818: ConvergenceWarning: lbfgs failed to converge (status=1):\n",
            "STOP: TOTAL NO. of ITERATIONS REACHED LIMIT.\n",
            "\n",
            "Increase the number of iterations (max_iter) or scale the data as shown in:\n",
            "    https://scikit-learn.org/stable/modules/preprocessing.html\n",
            "Please also refer to the documentation for alternative solver options:\n",
            "    https://scikit-learn.org/stable/modules/linear_model.html#logistic-regression\n",
            "  extra_warning_msg=_LOGISTIC_SOLVER_CONVERGENCE_MSG,\n",
            "/usr/local/lib/python3.7/dist-packages/sklearn/linear_model/_logistic.py:818: ConvergenceWarning: lbfgs failed to converge (status=1):\n",
            "STOP: TOTAL NO. of ITERATIONS REACHED LIMIT.\n",
            "\n",
            "Increase the number of iterations (max_iter) or scale the data as shown in:\n",
            "    https://scikit-learn.org/stable/modules/preprocessing.html\n",
            "Please also refer to the documentation for alternative solver options:\n",
            "    https://scikit-learn.org/stable/modules/linear_model.html#logistic-regression\n",
            "  extra_warning_msg=_LOGISTIC_SOLVER_CONVERGENCE_MSG,\n",
            "/usr/local/lib/python3.7/dist-packages/sklearn/linear_model/_logistic.py:818: ConvergenceWarning: lbfgs failed to converge (status=1):\n",
            "STOP: TOTAL NO. of ITERATIONS REACHED LIMIT.\n",
            "\n",
            "Increase the number of iterations (max_iter) or scale the data as shown in:\n",
            "    https://scikit-learn.org/stable/modules/preprocessing.html\n",
            "Please also refer to the documentation for alternative solver options:\n",
            "    https://scikit-learn.org/stable/modules/linear_model.html#logistic-regression\n",
            "  extra_warning_msg=_LOGISTIC_SOLVER_CONVERGENCE_MSG,\n",
            "/usr/local/lib/python3.7/dist-packages/sklearn/utils/optimize.py:212: ConvergenceWarning: newton-cg failed to converge. Increase the number of iterations.\n",
            "  ConvergenceWarning,\n",
            "/usr/local/lib/python3.7/dist-packages/sklearn/utils/optimize.py:212: ConvergenceWarning: newton-cg failed to converge. Increase the number of iterations.\n",
            "  ConvergenceWarning,\n",
            "/usr/local/lib/python3.7/dist-packages/sklearn/utils/optimize.py:212: ConvergenceWarning: newton-cg failed to converge. Increase the number of iterations.\n",
            "  ConvergenceWarning,\n",
            "/usr/local/lib/python3.7/dist-packages/sklearn/linear_model/_logistic.py:818: ConvergenceWarning: lbfgs failed to converge (status=1):\n",
            "STOP: TOTAL NO. of ITERATIONS REACHED LIMIT.\n",
            "\n",
            "Increase the number of iterations (max_iter) or scale the data as shown in:\n",
            "    https://scikit-learn.org/stable/modules/preprocessing.html\n",
            "Please also refer to the documentation for alternative solver options:\n",
            "    https://scikit-learn.org/stable/modules/linear_model.html#logistic-regression\n",
            "  extra_warning_msg=_LOGISTIC_SOLVER_CONVERGENCE_MSG,\n",
            "/usr/local/lib/python3.7/dist-packages/sklearn/linear_model/_logistic.py:818: ConvergenceWarning: lbfgs failed to converge (status=1):\n",
            "STOP: TOTAL NO. of ITERATIONS REACHED LIMIT.\n",
            "\n",
            "Increase the number of iterations (max_iter) or scale the data as shown in:\n",
            "    https://scikit-learn.org/stable/modules/preprocessing.html\n",
            "Please also refer to the documentation for alternative solver options:\n",
            "    https://scikit-learn.org/stable/modules/linear_model.html#logistic-regression\n",
            "  extra_warning_msg=_LOGISTIC_SOLVER_CONVERGENCE_MSG,\n",
            "/usr/local/lib/python3.7/dist-packages/sklearn/linear_model/_logistic.py:818: ConvergenceWarning: lbfgs failed to converge (status=1):\n",
            "STOP: TOTAL NO. of ITERATIONS REACHED LIMIT.\n",
            "\n",
            "Increase the number of iterations (max_iter) or scale the data as shown in:\n",
            "    https://scikit-learn.org/stable/modules/preprocessing.html\n",
            "Please also refer to the documentation for alternative solver options:\n",
            "    https://scikit-learn.org/stable/modules/linear_model.html#logistic-regression\n",
            "  extra_warning_msg=_LOGISTIC_SOLVER_CONVERGENCE_MSG,\n",
            "/usr/local/lib/python3.7/dist-packages/sklearn/utils/optimize.py:212: ConvergenceWarning: newton-cg failed to converge. Increase the number of iterations.\n",
            "  ConvergenceWarning,\n",
            "/usr/local/lib/python3.7/dist-packages/sklearn/utils/optimize.py:212: ConvergenceWarning: newton-cg failed to converge. Increase the number of iterations.\n",
            "  ConvergenceWarning,\n",
            "/usr/local/lib/python3.7/dist-packages/sklearn/utils/optimize.py:212: ConvergenceWarning: newton-cg failed to converge. Increase the number of iterations.\n",
            "  ConvergenceWarning,\n",
            "/usr/local/lib/python3.7/dist-packages/sklearn/linear_model/_logistic.py:818: ConvergenceWarning: lbfgs failed to converge (status=1):\n",
            "STOP: TOTAL NO. of ITERATIONS REACHED LIMIT.\n",
            "\n",
            "Increase the number of iterations (max_iter) or scale the data as shown in:\n",
            "    https://scikit-learn.org/stable/modules/preprocessing.html\n",
            "Please also refer to the documentation for alternative solver options:\n",
            "    https://scikit-learn.org/stable/modules/linear_model.html#logistic-regression\n",
            "  extra_warning_msg=_LOGISTIC_SOLVER_CONVERGENCE_MSG,\n",
            "/usr/local/lib/python3.7/dist-packages/sklearn/linear_model/_logistic.py:818: ConvergenceWarning: lbfgs failed to converge (status=1):\n",
            "STOP: TOTAL NO. of ITERATIONS REACHED LIMIT.\n",
            "\n",
            "Increase the number of iterations (max_iter) or scale the data as shown in:\n",
            "    https://scikit-learn.org/stable/modules/preprocessing.html\n",
            "Please also refer to the documentation for alternative solver options:\n",
            "    https://scikit-learn.org/stable/modules/linear_model.html#logistic-regression\n",
            "  extra_warning_msg=_LOGISTIC_SOLVER_CONVERGENCE_MSG,\n",
            "/usr/local/lib/python3.7/dist-packages/sklearn/linear_model/_logistic.py:818: ConvergenceWarning: lbfgs failed to converge (status=1):\n",
            "STOP: TOTAL NO. of ITERATIONS REACHED LIMIT.\n",
            "\n",
            "Increase the number of iterations (max_iter) or scale the data as shown in:\n",
            "    https://scikit-learn.org/stable/modules/preprocessing.html\n",
            "Please also refer to the documentation for alternative solver options:\n",
            "    https://scikit-learn.org/stable/modules/linear_model.html#logistic-regression\n",
            "  extra_warning_msg=_LOGISTIC_SOLVER_CONVERGENCE_MSG,\n",
            "/usr/local/lib/python3.7/dist-packages/scipy/optimize/linesearch.py:466: LineSearchWarning: The line search algorithm did not converge\n",
            "  warn('The line search algorithm did not converge', LineSearchWarning)\n",
            "/usr/local/lib/python3.7/dist-packages/scipy/optimize/linesearch.py:314: LineSearchWarning: The line search algorithm did not converge\n",
            "  warn('The line search algorithm did not converge', LineSearchWarning)\n",
            "/usr/local/lib/python3.7/dist-packages/sklearn/utils/optimize.py:212: ConvergenceWarning: newton-cg failed to converge. Increase the number of iterations.\n",
            "  ConvergenceWarning,\n"
          ]
        },
        {
          "output_type": "execute_result",
          "data": {
            "text/plain": [
              "GridSearchCV(cv=3, estimator=LogisticRegression(),\n",
              "             param_grid={'C': [1.0, 0.1, 0.01], 'penalty': ['l2'],\n",
              "                         'solver': ['newton-cg', 'lbfgs', 'liblinear']},\n",
              "             verbose=1)"
            ]
          },
          "metadata": {},
          "execution_count": 44
        }
      ]
    },
    {
      "cell_type": "code",
      "source": [
        "lr_model.best_params_"
      ],
      "metadata": {
        "colab": {
          "base_uri": "https://localhost:8080/"
        },
        "id": "JPjwoADhso5c",
        "outputId": "2f57d17a-9df8-4820-bedc-7ceeb7277783"
      },
      "execution_count": null,
      "outputs": [
        {
          "output_type": "execute_result",
          "data": {
            "text/plain": [
              "{'C': 1.0, 'penalty': 'l2', 'solver': 'newton-cg'}"
            ]
          },
          "metadata": {},
          "execution_count": 45
        }
      ]
    },
    {
      "cell_type": "code",
      "source": [
        "lr_model = lr_model.best_estimator_"
      ],
      "metadata": {
        "id": "GhPM0S8ssz7H"
      },
      "execution_count": null,
      "outputs": []
    },
    {
      "cell_type": "code",
      "source": [
        "y_pred = lr_model.predict(X_test)"
      ],
      "metadata": {
        "id": "QXoBGQz7tQyn"
      },
      "execution_count": null,
      "outputs": []
    },
    {
      "cell_type": "code",
      "source": [
        "print(\"Accuracy:\",accuracy_score(Y_test, y_pred))\n",
        "print(\"Precision:\",precision_score(Y_test, y_pred))\n",
        "print(\"Recall:\",recall_score(Y_test, y_pred))"
      ],
      "metadata": {
        "colab": {
          "base_uri": "https://localhost:8080/"
        },
        "id": "jLE5mDSHtYdd",
        "outputId": "b714027d-779f-46ba-d12b-b6d90af43e7f"
      },
      "execution_count": null,
      "outputs": [
        {
          "output_type": "stream",
          "name": "stdout",
          "text": [
            "Accuracy: 0.8085\n",
            "Precision: 0.6926406926406926\n",
            "Recall: 0.24114544084400905\n"
          ]
        }
      ]
    },
    {
      "cell_type": "code",
      "source": [
        "from sklearn.svm import SVC"
      ],
      "metadata": {
        "id": "cYk2ROAWyGac"
      },
      "execution_count": null,
      "outputs": []
    },
    {
      "cell_type": "code",
      "source": [
        "svc = SVC()"
      ],
      "metadata": {
        "id": "SNzc3_qmyhhW"
      },
      "execution_count": null,
      "outputs": []
    },
    {
      "cell_type": "code",
      "source": [
        "svc.fit(X_train, Y_train)"
      ],
      "metadata": {
        "id": "rWNIEVevyqn9",
        "colab": {
          "base_uri": "https://localhost:8080/"
        },
        "outputId": "2cda4552-b54a-40a0-c263-84a610853d07"
      },
      "execution_count": null,
      "outputs": [
        {
          "output_type": "execute_result",
          "data": {
            "text/plain": [
              "SVC()"
            ]
          },
          "metadata": {},
          "execution_count": 54
        }
      ]
    },
    {
      "cell_type": "code",
      "source": [
        "y_pred = svc.predict(X_test)"
      ],
      "metadata": {
        "id": "aYmVc-5NzBGb"
      },
      "execution_count": null,
      "outputs": []
    },
    {
      "cell_type": "code",
      "source": [
        "print(\"Accuracy:\",accuracy_score(Y_test, y_pred))\n",
        "print(\"Precision:\",precision_score(Y_test, y_pred))\n",
        "print(\"Recall:\",recall_score(Y_test, y_pred))"
      ],
      "metadata": {
        "id": "kIPnUfuYznNK",
        "colab": {
          "base_uri": "https://localhost:8080/"
        },
        "outputId": "8988ee76-d19a-42f4-872a-270f9728eabd"
      },
      "execution_count": null,
      "outputs": [
        {
          "output_type": "stream",
          "name": "stdout",
          "text": [
            "Accuracy: 0.7788333333333334\n",
            "Precision: 0.0\n",
            "Recall: 0.0\n"
          ]
        },
        {
          "output_type": "stream",
          "name": "stderr",
          "text": [
            "/usr/local/lib/python3.7/dist-packages/sklearn/metrics/_classification.py:1318: UndefinedMetricWarning: Precision is ill-defined and being set to 0.0 due to no predicted samples. Use `zero_division` parameter to control this behavior.\n",
            "  _warn_prf(average, modifier, msg_start, len(result))\n"
          ]
        }
      ]
    },
    {
      "cell_type": "code",
      "source": [
        "svc_model = GridSearchCV(SVC(), param_grid= {'kernel':['poly', 'rbf'],'C':[1.0, 0.1, 0.01],'gamma':['scale', 'auto']}, cv= 2, verbose= 1)"
      ],
      "metadata": {
        "id": "yZlojqFnPCnd"
      },
      "execution_count": null,
      "outputs": []
    },
    {
      "cell_type": "code",
      "source": [
        "svc_model.fit(X_train, Y_train)"
      ],
      "metadata": {
        "colab": {
          "base_uri": "https://localhost:8080/"
        },
        "id": "Z4Oj_GSmQvpy",
        "outputId": "0d82bba7-2397-4891-bb26-fcfdde9ca596"
      },
      "execution_count": null,
      "outputs": [
        {
          "output_type": "stream",
          "name": "stdout",
          "text": [
            "Fitting 2 folds for each of 12 candidates, totalling 24 fits\n"
          ]
        }
      ]
    },
    {
      "cell_type": "code",
      "source": [
        "svc_model.best_params_"
      ],
      "metadata": {
        "id": "G4f8iHSkPuiQ"
      },
      "execution_count": null,
      "outputs": []
    },
    {
      "cell_type": "code",
      "source": [
        "svc_model = svc_model.best_estimator_"
      ],
      "metadata": {
        "id": "be2QBzTkRBJT"
      },
      "execution_count": null,
      "outputs": []
    },
    {
      "cell_type": "code",
      "source": [
        "y_pred = svc_model.predict(X_test)"
      ],
      "metadata": {
        "id": "9xchurW8RBJT"
      },
      "execution_count": null,
      "outputs": []
    },
    {
      "cell_type": "code",
      "source": [
        "print(\"Accuracy:\",accuracy_score(Y_test, y_pred))\n",
        "print(\"Precision:\",precision_score(Y_test, y_pred))\n",
        "print(\"Recall:\",recall_score(Y_test, y_pred))"
      ],
      "metadata": {
        "id": "1I88K4CvRBJU"
      },
      "execution_count": null,
      "outputs": []
    },
    {
      "cell_type": "code",
      "source": [
        "from sklearn.ensemble import BaggingClassifier"
      ],
      "metadata": {
        "id": "x8TSEUUxRHo3"
      },
      "execution_count": null,
      "outputs": []
    },
    {
      "cell_type": "code",
      "source": [
        "bc = BaggingClassifier()"
      ],
      "metadata": {
        "id": "1aBA2CggZe6k"
      },
      "execution_count": null,
      "outputs": []
    },
    {
      "cell_type": "code",
      "source": [
        "bc.fit(X_train, Y_train)"
      ],
      "metadata": {
        "colab": {
          "base_uri": "https://localhost:8080/"
        },
        "id": "MRq0Sa95Zrx1",
        "outputId": "0c13b11d-86d8-41e1-c49d-e5f240211372"
      },
      "execution_count": null,
      "outputs": [
        {
          "output_type": "execute_result",
          "data": {
            "text/plain": [
              "BaggingClassifier()"
            ]
          },
          "metadata": {},
          "execution_count": 49
        }
      ]
    },
    {
      "cell_type": "code",
      "source": [
        "y_pred = bc.predict(X_test)"
      ],
      "metadata": {
        "id": "76MgoQMJa-67"
      },
      "execution_count": null,
      "outputs": []
    },
    {
      "cell_type": "code",
      "source": [
        "print(\"Accuracy:\",accuracy_score(Y_test, y_pred))\n",
        "print(\"Precision:\",precision_score(Y_test, y_pred))\n",
        "print(\"Recall:\",recall_score(Y_test, y_pred))"
      ],
      "metadata": {
        "colab": {
          "base_uri": "https://localhost:8080/"
        },
        "id": "_FpP4RVOa-7B",
        "outputId": "76036319-a949-4599-fec0-944244d9e0b3"
      },
      "execution_count": null,
      "outputs": [
        {
          "output_type": "stream",
          "name": "stdout",
          "text": [
            "Accuracy: 0.8028333333333333\n",
            "Precision: 0.5957446808510638\n",
            "Recall: 0.33760361718161264\n"
          ]
        }
      ]
    },
    {
      "cell_type": "code",
      "source": [
        "bc_model = GridSearchCV(bc, param_grid= {'n_estimators':[45,50, 65]}, verbose = 1 , cv = 3)"
      ],
      "metadata": {
        "id": "LT3eJ302bCwJ"
      },
      "execution_count": null,
      "outputs": []
    },
    {
      "cell_type": "code",
      "source": [
        "bc_model.fit(X_train, Y_train)"
      ],
      "metadata": {
        "colab": {
          "base_uri": "https://localhost:8080/"
        },
        "id": "8aJYtAyGcQ7f",
        "outputId": "547d6e37-98a6-4932-d467-1b557f3cce17"
      },
      "execution_count": null,
      "outputs": [
        {
          "output_type": "stream",
          "name": "stdout",
          "text": [
            "Fitting 3 folds for each of 3 candidates, totalling 9 fits\n"
          ]
        },
        {
          "output_type": "execute_result",
          "data": {
            "text/plain": [
              "GridSearchCV(cv=3, estimator=BaggingClassifier(),\n",
              "             param_grid={'n_estimators': [45, 50, 65]}, verbose=1)"
            ]
          },
          "metadata": {},
          "execution_count": 69
        }
      ]
    },
    {
      "cell_type": "code",
      "source": [
        "bc_model.best_params_"
      ],
      "metadata": {
        "colab": {
          "base_uri": "https://localhost:8080/"
        },
        "id": "s6nGU2YzcR1O",
        "outputId": "a1812197-3523-4263-b2b7-6b82762948fa"
      },
      "execution_count": null,
      "outputs": [
        {
          "output_type": "execute_result",
          "data": {
            "text/plain": [
              "{'n_estimators': 65}"
            ]
          },
          "metadata": {},
          "execution_count": 70
        }
      ]
    },
    {
      "cell_type": "code",
      "source": [
        "bc_model = bc_model.best_estimator_"
      ],
      "metadata": {
        "id": "2XhTkMnpdY2-"
      },
      "execution_count": null,
      "outputs": []
    },
    {
      "cell_type": "code",
      "source": [
        "bc_model.fit(X_train, Y_train)"
      ],
      "metadata": {
        "colab": {
          "base_uri": "https://localhost:8080/"
        },
        "outputId": "dfbcd990-9881-42a7-daa8-17bf1c8aa658",
        "id": "QMAmYKBMdk8P"
      },
      "execution_count": null,
      "outputs": [
        {
          "output_type": "execute_result",
          "data": {
            "text/plain": [
              "BaggingClassifier(n_estimators=65)"
            ]
          },
          "metadata": {},
          "execution_count": 72
        }
      ]
    },
    {
      "cell_type": "code",
      "source": [
        "y_pred = bc_model.predict(X_test)"
      ],
      "metadata": {
        "id": "9OoICppYdk8Q"
      },
      "execution_count": null,
      "outputs": []
    },
    {
      "cell_type": "code",
      "source": [
        "print(\"Accuracy:\",accuracy_score(Y_test, y_pred))\n",
        "print(\"Precision:\",precision_score(Y_test, y_pred))\n",
        "print(\"Recall:\",recall_score(Y_test, y_pred))"
      ],
      "metadata": {
        "colab": {
          "base_uri": "https://localhost:8080/"
        },
        "outputId": "d84ee8bf-aa35-41fd-f1c7-02b445c15fec",
        "id": "xoi5h5BQdk8Q"
      },
      "execution_count": null,
      "outputs": [
        {
          "output_type": "stream",
          "name": "stdout",
          "text": [
            "Accuracy: 0.812\n",
            "Precision: 0.6277278562259306\n",
            "Recall: 0.36850037678975134\n"
          ]
        }
      ]
    },
    {
      "cell_type": "code",
      "source": [
        "from sklearn.ensemble import RandomForestClassifier"
      ],
      "metadata": {
        "id": "Yjcr9XUadrJO"
      },
      "execution_count": null,
      "outputs": []
    },
    {
      "cell_type": "code",
      "source": [
        "rfc = RandomForestClassifier()"
      ],
      "metadata": {
        "id": "9ANy0Mt5gaAA"
      },
      "execution_count": null,
      "outputs": []
    },
    {
      "cell_type": "code",
      "source": [
        "rfc.fit(X_train, Y_train)"
      ],
      "metadata": {
        "colab": {
          "base_uri": "https://localhost:8080/"
        },
        "id": "Li3WZvoHggrX",
        "outputId": "31eec1c1-5172-4f5f-aed8-5348477afb0a"
      },
      "execution_count": null,
      "outputs": [
        {
          "output_type": "execute_result",
          "data": {
            "text/plain": [
              "RandomForestClassifier()"
            ]
          },
          "metadata": {},
          "execution_count": 77
        }
      ]
    },
    {
      "cell_type": "code",
      "source": [
        "y_pred = rfc.predict(X_test)"
      ],
      "metadata": {
        "id": "0RtA9U-LglXS"
      },
      "execution_count": null,
      "outputs": []
    },
    {
      "cell_type": "code",
      "source": [
        "print(\"Accuracy:\",accuracy_score(Y_test, y_pred))\n",
        "print(\"Precision:\",precision_score(Y_test, y_pred))\n",
        "print(\"Recall:\",recall_score(Y_test, y_pred))"
      ],
      "metadata": {
        "colab": {
          "base_uri": "https://localhost:8080/"
        },
        "id": "VgVwfGcBgsHV",
        "outputId": "3649d1f7-5a0b-4184-de0f-765a9b25467d"
      },
      "execution_count": null,
      "outputs": [
        {
          "output_type": "stream",
          "name": "stdout",
          "text": [
            "Accuracy: 0.8121666666666667\n",
            "Precision: 0.6291989664082688\n",
            "Recall: 0.36699321778447624\n"
          ]
        }
      ]
    },
    {
      "cell_type": "code",
      "source": [
        "from sklearn.model_selection import RepeatedStratifiedKFold"
      ],
      "metadata": {
        "id": "X2YHQMWqhYbR"
      },
      "execution_count": null,
      "outputs": []
    },
    {
      "cell_type": "code",
      "source": [
        "rfc_model = GridSearchCV(rfc, param_grid = dict(n_estimators = [10, 100, 1000],\n",
        "max_features = ['sqrt', 'log2']), cv = 3, verbose= 1)"
      ],
      "metadata": {
        "id": "1h0BkT8-guAH"
      },
      "execution_count": null,
      "outputs": []
    },
    {
      "cell_type": "code",
      "source": [
        "rfc_model.fit(X_train, Y_train)"
      ],
      "metadata": {
        "colab": {
          "base_uri": "https://localhost:8080/"
        },
        "id": "891VZItNhT-I",
        "outputId": "7c73bcd9-6512-4a3e-e741-858bbd123c76"
      },
      "execution_count": null,
      "outputs": [
        {
          "output_type": "stream",
          "name": "stdout",
          "text": [
            "Fitting 3 folds for each of 6 candidates, totalling 18 fits\n"
          ]
        },
        {
          "output_type": "execute_result",
          "data": {
            "text/plain": [
              "GridSearchCV(cv=3, estimator=RandomForestClassifier(),\n",
              "             param_grid={'max_features': ['sqrt', 'log2'],\n",
              "                         'n_estimators': [10, 100, 1000]},\n",
              "             verbose=1)"
            ]
          },
          "metadata": {},
          "execution_count": 86
        }
      ]
    },
    {
      "cell_type": "code",
      "source": [
        "rfc_model.best_params_"
      ],
      "metadata": {
        "colab": {
          "base_uri": "https://localhost:8080/"
        },
        "id": "uC6qitdKhe1j",
        "outputId": "acdbcd6c-8f40-4d06-ac89-83a0eda54bfe"
      },
      "execution_count": null,
      "outputs": [
        {
          "output_type": "execute_result",
          "data": {
            "text/plain": [
              "{'max_features': 'sqrt', 'n_estimators': 100}"
            ]
          },
          "metadata": {},
          "execution_count": 87
        }
      ]
    },
    {
      "cell_type": "code",
      "source": [
        "rfc_model = rfc_model.best_estimator_"
      ],
      "metadata": {
        "id": "F2CKHzrqiGUR"
      },
      "execution_count": null,
      "outputs": []
    },
    {
      "cell_type": "code",
      "source": [
        "rfc_model.fit(X_train, Y_train)"
      ],
      "metadata": {
        "colab": {
          "base_uri": "https://localhost:8080/"
        },
        "outputId": "28c2b4a8-2c20-4acc-aa0c-7550a03ac454",
        "id": "ekN798gnrkzf"
      },
      "execution_count": null,
      "outputs": [
        {
          "output_type": "execute_result",
          "data": {
            "text/plain": [
              "RandomForestClassifier(max_features='sqrt')"
            ]
          },
          "metadata": {},
          "execution_count": 89
        }
      ]
    },
    {
      "cell_type": "code",
      "source": [
        "y_pred = rfc_model.predict(X_test)"
      ],
      "metadata": {
        "id": "XLi0Qvp9rkzg"
      },
      "execution_count": null,
      "outputs": []
    },
    {
      "cell_type": "code",
      "source": [
        "print(\"Accuracy:\",accuracy_score(Y_test, y_pred))\n",
        "print(\"Precision:\",precision_score(Y_test, y_pred))\n",
        "print(\"Recall:\",recall_score(Y_test, y_pred))"
      ],
      "metadata": {
        "colab": {
          "base_uri": "https://localhost:8080/"
        },
        "outputId": "beb7d063-2798-4a0b-dba1-7da5cac9df7b",
        "id": "bICguMgdrkzg"
      },
      "execution_count": null,
      "outputs": [
        {
          "output_type": "stream",
          "name": "stdout",
          "text": [
            "Accuracy: 0.8106666666666666\n",
            "Precision: 0.6241872561768531\n",
            "Recall: 0.3617181612660136\n"
          ]
        }
      ]
    },
    {
      "cell_type": "code",
      "source": [
        "from sklearn.ensemble import GradientBoostingClassifier"
      ],
      "metadata": {
        "id": "pYI8FQqCroTI"
      },
      "execution_count": null,
      "outputs": []
    },
    {
      "cell_type": "code",
      "source": [
        "gbc = GradientBoostingClassifier()"
      ],
      "metadata": {
        "id": "b5y-XA16x0o-"
      },
      "execution_count": null,
      "outputs": []
    },
    {
      "cell_type": "code",
      "source": [
        "gbc.fit(X_train, Y_train)"
      ],
      "metadata": {
        "colab": {
          "base_uri": "https://localhost:8080/"
        },
        "id": "ul6l5s0hx4yI",
        "outputId": "64039804-ae06-4f82-ecb4-e06598bea423"
      },
      "execution_count": null,
      "outputs": [
        {
          "output_type": "execute_result",
          "data": {
            "text/plain": [
              "GradientBoostingClassifier()"
            ]
          },
          "metadata": {},
          "execution_count": 94
        }
      ]
    },
    {
      "cell_type": "code",
      "source": [
        "y_pred = gbc.predict(X_test)"
      ],
      "metadata": {
        "id": "SuTidYttx9IM"
      },
      "execution_count": null,
      "outputs": []
    },
    {
      "cell_type": "code",
      "source": [
        "print(\"Accuracy:\",accuracy_score(Y_test, y_pred))\n",
        "print(\"Precision:\",precision_score(Y_test, y_pred))\n",
        "print(\"Recall:\",recall_score(Y_test, y_pred))"
      ],
      "metadata": {
        "colab": {
          "base_uri": "https://localhost:8080/"
        },
        "id": "uKVezORqyCxF",
        "outputId": "039cbec0-4030-4e8f-f729-ed77743c872b"
      },
      "execution_count": null,
      "outputs": [
        {
          "output_type": "stream",
          "name": "stdout",
          "text": [
            "Accuracy: 0.8185\n",
            "Precision: 0.6657381615598886\n",
            "Recall: 0.3602110022607385\n"
          ]
        }
      ]
    },
    {
      "cell_type": "code",
      "source": [
        "gbc_model = GridSearchCV(gbc, param_grid = dict(n_estimators = [10, 50],\n",
        "learning_rate = [0.001, 0.01, 0.1],\n",
        "subsample = [0.5, 0.7, 1.0],\n",
        "max_depth = [3, 7, 9]) , cv= 3, verbose= 2)"
      ],
      "metadata": {
        "id": "nBMScFwayFLL"
      },
      "execution_count": null,
      "outputs": []
    },
    {
      "cell_type": "code",
      "source": [
        "gbc_model.fit(X_train, Y_train)"
      ],
      "metadata": {
        "colab": {
          "base_uri": "https://localhost:8080/"
        },
        "id": "xex1Oqx5yfWx",
        "outputId": "f2b46e6a-adf8-4bb7-f5c6-df89620d962c"
      },
      "execution_count": null,
      "outputs": [
        {
          "output_type": "stream",
          "name": "stdout",
          "text": [
            "Fitting 3 folds for each of 54 candidates, totalling 162 fits\n",
            "[CV] END learning_rate=0.001, max_depth=3, n_estimators=10, subsample=0.5; total time=   0.6s\n",
            "[CV] END learning_rate=0.001, max_depth=3, n_estimators=10, subsample=0.5; total time=   0.6s\n",
            "[CV] END learning_rate=0.001, max_depth=3, n_estimators=10, subsample=0.5; total time=   0.6s\n",
            "[CV] END learning_rate=0.001, max_depth=3, n_estimators=10, subsample=0.7; total time=   0.7s\n",
            "[CV] END learning_rate=0.001, max_depth=3, n_estimators=10, subsample=0.7; total time=   0.8s\n",
            "[CV] END learning_rate=0.001, max_depth=3, n_estimators=10, subsample=0.7; total time=   0.7s\n",
            "[CV] END learning_rate=0.001, max_depth=3, n_estimators=10, subsample=1.0; total time=   1.4s\n",
            "[CV] END learning_rate=0.001, max_depth=3, n_estimators=10, subsample=1.0; total time=   0.7s\n",
            "[CV] END learning_rate=0.001, max_depth=3, n_estimators=10, subsample=1.0; total time=   0.7s\n",
            "[CV] END learning_rate=0.001, max_depth=3, n_estimators=50, subsample=0.5; total time=   1.9s\n",
            "[CV] END learning_rate=0.001, max_depth=3, n_estimators=50, subsample=0.5; total time=   1.9s\n",
            "[CV] END learning_rate=0.001, max_depth=3, n_estimators=50, subsample=0.5; total time=   1.9s\n",
            "[CV] END learning_rate=0.001, max_depth=3, n_estimators=50, subsample=0.7; total time=   2.5s\n",
            "[CV] END learning_rate=0.001, max_depth=3, n_estimators=50, subsample=0.7; total time=   2.5s\n",
            "[CV] END learning_rate=0.001, max_depth=3, n_estimators=50, subsample=0.7; total time=   2.5s\n",
            "[CV] END learning_rate=0.001, max_depth=3, n_estimators=50, subsample=1.0; total time=   3.4s\n",
            "[CV] END learning_rate=0.001, max_depth=3, n_estimators=50, subsample=1.0; total time=   3.4s\n",
            "[CV] END learning_rate=0.001, max_depth=3, n_estimators=50, subsample=1.0; total time=   3.4s\n",
            "[CV] END learning_rate=0.001, max_depth=7, n_estimators=10, subsample=0.5; total time=   0.8s\n",
            "[CV] END learning_rate=0.001, max_depth=7, n_estimators=10, subsample=0.5; total time=   0.8s\n",
            "[CV] END learning_rate=0.001, max_depth=7, n_estimators=10, subsample=0.5; total time=   0.8s\n",
            "[CV] END learning_rate=0.001, max_depth=7, n_estimators=10, subsample=0.7; total time=   1.1s\n",
            "[CV] END learning_rate=0.001, max_depth=7, n_estimators=10, subsample=0.7; total time=   1.1s\n",
            "[CV] END learning_rate=0.001, max_depth=7, n_estimators=10, subsample=0.7; total time=   1.1s\n",
            "[CV] END learning_rate=0.001, max_depth=7, n_estimators=10, subsample=1.0; total time=   1.5s\n",
            "[CV] END learning_rate=0.001, max_depth=7, n_estimators=10, subsample=1.0; total time=   1.6s\n",
            "[CV] END learning_rate=0.001, max_depth=7, n_estimators=10, subsample=1.0; total time=   1.5s\n",
            "[CV] END learning_rate=0.001, max_depth=7, n_estimators=50, subsample=0.5; total time=   4.1s\n",
            "[CV] END learning_rate=0.001, max_depth=7, n_estimators=50, subsample=0.5; total time=   4.1s\n",
            "[CV] END learning_rate=0.001, max_depth=7, n_estimators=50, subsample=0.5; total time=   4.1s\n",
            "[CV] END learning_rate=0.001, max_depth=7, n_estimators=50, subsample=0.7; total time=   5.6s\n",
            "[CV] END learning_rate=0.001, max_depth=7, n_estimators=50, subsample=0.7; total time=   5.5s\n",
            "[CV] END learning_rate=0.001, max_depth=7, n_estimators=50, subsample=0.7; total time=   5.5s\n",
            "[CV] END learning_rate=0.001, max_depth=7, n_estimators=50, subsample=1.0; total time=   7.6s\n",
            "[CV] END learning_rate=0.001, max_depth=7, n_estimators=50, subsample=1.0; total time=   7.6s\n",
            "[CV] END learning_rate=0.001, max_depth=7, n_estimators=50, subsample=1.0; total time=   7.6s\n",
            "[CV] END learning_rate=0.001, max_depth=9, n_estimators=10, subsample=0.5; total time=   1.1s\n",
            "[CV] END learning_rate=0.001, max_depth=9, n_estimators=10, subsample=0.5; total time=   1.1s\n",
            "[CV] END learning_rate=0.001, max_depth=9, n_estimators=10, subsample=0.5; total time=   1.1s\n",
            "[CV] END learning_rate=0.001, max_depth=9, n_estimators=10, subsample=0.7; total time=   1.4s\n",
            "[CV] END learning_rate=0.001, max_depth=9, n_estimators=10, subsample=0.7; total time=   1.5s\n",
            "[CV] END learning_rate=0.001, max_depth=9, n_estimators=10, subsample=0.7; total time=   1.5s\n",
            "[CV] END learning_rate=0.001, max_depth=9, n_estimators=10, subsample=1.0; total time=   2.0s\n",
            "[CV] END learning_rate=0.001, max_depth=9, n_estimators=10, subsample=1.0; total time=   2.0s\n",
            "[CV] END learning_rate=0.001, max_depth=9, n_estimators=10, subsample=1.0; total time=   2.0s\n",
            "[CV] END learning_rate=0.001, max_depth=9, n_estimators=50, subsample=0.5; total time=   5.3s\n",
            "[CV] END learning_rate=0.001, max_depth=9, n_estimators=50, subsample=0.5; total time=   5.3s\n",
            "[CV] END learning_rate=0.001, max_depth=9, n_estimators=50, subsample=0.5; total time=   5.3s\n",
            "[CV] END learning_rate=0.001, max_depth=9, n_estimators=50, subsample=0.7; total time=   7.3s\n",
            "[CV] END learning_rate=0.001, max_depth=9, n_estimators=50, subsample=0.7; total time=   7.9s\n",
            "[CV] END learning_rate=0.001, max_depth=9, n_estimators=50, subsample=0.7; total time=   7.2s\n",
            "[CV] END learning_rate=0.001, max_depth=9, n_estimators=50, subsample=1.0; total time=   9.8s\n",
            "[CV] END learning_rate=0.001, max_depth=9, n_estimators=50, subsample=1.0; total time=   9.9s\n",
            "[CV] END learning_rate=0.001, max_depth=9, n_estimators=50, subsample=1.0; total time=   9.9s\n",
            "[CV] END learning_rate=0.01, max_depth=3, n_estimators=10, subsample=0.5; total time=   0.4s\n",
            "[CV] END learning_rate=0.01, max_depth=3, n_estimators=10, subsample=0.5; total time=   0.4s\n",
            "[CV] END learning_rate=0.01, max_depth=3, n_estimators=10, subsample=0.5; total time=   0.4s\n",
            "[CV] END learning_rate=0.01, max_depth=3, n_estimators=10, subsample=0.7; total time=   0.5s\n",
            "[CV] END learning_rate=0.01, max_depth=3, n_estimators=10, subsample=0.7; total time=   0.5s\n",
            "[CV] END learning_rate=0.01, max_depth=3, n_estimators=10, subsample=0.7; total time=   0.5s\n",
            "[CV] END learning_rate=0.01, max_depth=3, n_estimators=10, subsample=1.0; total time=   0.7s\n",
            "[CV] END learning_rate=0.01, max_depth=3, n_estimators=10, subsample=1.0; total time=   0.7s\n",
            "[CV] END learning_rate=0.01, max_depth=3, n_estimators=10, subsample=1.0; total time=   0.7s\n",
            "[CV] END learning_rate=0.01, max_depth=3, n_estimators=50, subsample=0.5; total time=   1.9s\n",
            "[CV] END learning_rate=0.01, max_depth=3, n_estimators=50, subsample=0.5; total time=   1.9s\n",
            "[CV] END learning_rate=0.01, max_depth=3, n_estimators=50, subsample=0.5; total time=   1.9s\n",
            "[CV] END learning_rate=0.01, max_depth=3, n_estimators=50, subsample=0.7; total time=   2.5s\n",
            "[CV] END learning_rate=0.01, max_depth=3, n_estimators=50, subsample=0.7; total time=   2.5s\n",
            "[CV] END learning_rate=0.01, max_depth=3, n_estimators=50, subsample=0.7; total time=   2.5s\n",
            "[CV] END learning_rate=0.01, max_depth=3, n_estimators=50, subsample=1.0; total time=   3.4s\n",
            "[CV] END learning_rate=0.01, max_depth=3, n_estimators=50, subsample=1.0; total time=   3.5s\n",
            "[CV] END learning_rate=0.01, max_depth=3, n_estimators=50, subsample=1.0; total time=   3.5s\n",
            "[CV] END learning_rate=0.01, max_depth=7, n_estimators=10, subsample=0.5; total time=   1.2s\n",
            "[CV] END learning_rate=0.01, max_depth=7, n_estimators=10, subsample=0.5; total time=   1.2s\n",
            "[CV] END learning_rate=0.01, max_depth=7, n_estimators=10, subsample=0.5; total time=   1.2s\n",
            "[CV] END learning_rate=0.01, max_depth=7, n_estimators=10, subsample=0.7; total time=   1.2s\n",
            "[CV] END learning_rate=0.01, max_depth=7, n_estimators=10, subsample=0.7; total time=   1.1s\n",
            "[CV] END learning_rate=0.01, max_depth=7, n_estimators=10, subsample=0.7; total time=   1.1s\n",
            "[CV] END learning_rate=0.01, max_depth=7, n_estimators=10, subsample=1.0; total time=   1.5s\n",
            "[CV] END learning_rate=0.01, max_depth=7, n_estimators=10, subsample=1.0; total time=   1.5s\n",
            "[CV] END learning_rate=0.01, max_depth=7, n_estimators=10, subsample=1.0; total time=   1.6s\n",
            "[CV] END learning_rate=0.01, max_depth=7, n_estimators=50, subsample=0.5; total time=   4.1s\n",
            "[CV] END learning_rate=0.01, max_depth=7, n_estimators=50, subsample=0.5; total time=   4.0s\n",
            "[CV] END learning_rate=0.01, max_depth=7, n_estimators=50, subsample=0.5; total time=   4.0s\n",
            "[CV] END learning_rate=0.01, max_depth=7, n_estimators=50, subsample=0.7; total time=   5.5s\n",
            "[CV] END learning_rate=0.01, max_depth=7, n_estimators=50, subsample=0.7; total time=   5.5s\n",
            "[CV] END learning_rate=0.01, max_depth=7, n_estimators=50, subsample=0.7; total time=   5.5s\n",
            "[CV] END learning_rate=0.01, max_depth=7, n_estimators=50, subsample=1.0; total time=   7.7s\n",
            "[CV] END learning_rate=0.01, max_depth=7, n_estimators=50, subsample=1.0; total time=   7.7s\n",
            "[CV] END learning_rate=0.01, max_depth=7, n_estimators=50, subsample=1.0; total time=   7.6s\n",
            "[CV] END learning_rate=0.01, max_depth=9, n_estimators=10, subsample=0.5; total time=   1.1s\n",
            "[CV] END learning_rate=0.01, max_depth=9, n_estimators=10, subsample=0.5; total time=   1.1s\n",
            "[CV] END learning_rate=0.01, max_depth=9, n_estimators=10, subsample=0.5; total time=   1.1s\n",
            "[CV] END learning_rate=0.01, max_depth=9, n_estimators=10, subsample=0.7; total time=   1.4s\n",
            "[CV] END learning_rate=0.01, max_depth=9, n_estimators=10, subsample=0.7; total time=   1.4s\n",
            "[CV] END learning_rate=0.01, max_depth=9, n_estimators=10, subsample=0.7; total time=   1.4s\n",
            "[CV] END learning_rate=0.01, max_depth=9, n_estimators=10, subsample=1.0; total time=   2.0s\n",
            "[CV] END learning_rate=0.01, max_depth=9, n_estimators=10, subsample=1.0; total time=   2.0s\n",
            "[CV] END learning_rate=0.01, max_depth=9, n_estimators=10, subsample=1.0; total time=   2.0s\n",
            "[CV] END learning_rate=0.01, max_depth=9, n_estimators=50, subsample=0.5; total time=   5.3s\n",
            "[CV] END learning_rate=0.01, max_depth=9, n_estimators=50, subsample=0.5; total time=   5.3s\n",
            "[CV] END learning_rate=0.01, max_depth=9, n_estimators=50, subsample=0.5; total time=   5.3s\n",
            "[CV] END learning_rate=0.01, max_depth=9, n_estimators=50, subsample=0.7; total time=   7.2s\n",
            "[CV] END learning_rate=0.01, max_depth=9, n_estimators=50, subsample=0.7; total time=   7.2s\n",
            "[CV] END learning_rate=0.01, max_depth=9, n_estimators=50, subsample=0.7; total time=   7.1s\n",
            "[CV] END learning_rate=0.01, max_depth=9, n_estimators=50, subsample=1.0; total time=   9.8s\n",
            "[CV] END learning_rate=0.01, max_depth=9, n_estimators=50, subsample=1.0; total time=   9.8s\n",
            "[CV] END learning_rate=0.01, max_depth=9, n_estimators=50, subsample=1.0; total time=   9.8s\n",
            "[CV] END learning_rate=0.1, max_depth=3, n_estimators=10, subsample=0.5; total time=   0.4s\n",
            "[CV] END learning_rate=0.1, max_depth=3, n_estimators=10, subsample=0.5; total time=   0.4s\n",
            "[CV] END learning_rate=0.1, max_depth=3, n_estimators=10, subsample=0.5; total time=   0.4s\n",
            "[CV] END learning_rate=0.1, max_depth=3, n_estimators=10, subsample=0.7; total time=   0.5s\n",
            "[CV] END learning_rate=0.1, max_depth=3, n_estimators=10, subsample=0.7; total time=   0.5s\n",
            "[CV] END learning_rate=0.1, max_depth=3, n_estimators=10, subsample=0.7; total time=   0.5s\n",
            "[CV] END learning_rate=0.1, max_depth=3, n_estimators=10, subsample=1.0; total time=   0.7s\n",
            "[CV] END learning_rate=0.1, max_depth=3, n_estimators=10, subsample=1.0; total time=   0.7s\n",
            "[CV] END learning_rate=0.1, max_depth=3, n_estimators=10, subsample=1.0; total time=   0.7s\n",
            "[CV] END learning_rate=0.1, max_depth=3, n_estimators=50, subsample=0.5; total time=   1.9s\n",
            "[CV] END learning_rate=0.1, max_depth=3, n_estimators=50, subsample=0.5; total time=   1.9s\n",
            "[CV] END learning_rate=0.1, max_depth=3, n_estimators=50, subsample=0.5; total time=   1.9s\n",
            "[CV] END learning_rate=0.1, max_depth=3, n_estimators=50, subsample=0.7; total time=   2.5s\n",
            "[CV] END learning_rate=0.1, max_depth=3, n_estimators=50, subsample=0.7; total time=   2.5s\n",
            "[CV] END learning_rate=0.1, max_depth=3, n_estimators=50, subsample=0.7; total time=   2.5s\n",
            "[CV] END learning_rate=0.1, max_depth=3, n_estimators=50, subsample=1.0; total time=   3.4s\n",
            "[CV] END learning_rate=0.1, max_depth=3, n_estimators=50, subsample=1.0; total time=   3.4s\n",
            "[CV] END learning_rate=0.1, max_depth=3, n_estimators=50, subsample=1.0; total time=   3.4s\n",
            "[CV] END learning_rate=0.1, max_depth=7, n_estimators=10, subsample=0.5; total time=   0.8s\n",
            "[CV] END learning_rate=0.1, max_depth=7, n_estimators=10, subsample=0.5; total time=   0.8s\n",
            "[CV] END learning_rate=0.1, max_depth=7, n_estimators=10, subsample=0.5; total time=   0.8s\n",
            "[CV] END learning_rate=0.1, max_depth=7, n_estimators=10, subsample=0.7; total time=   1.1s\n",
            "[CV] END learning_rate=0.1, max_depth=7, n_estimators=10, subsample=0.7; total time=   1.1s\n",
            "[CV] END learning_rate=0.1, max_depth=7, n_estimators=10, subsample=0.7; total time=   1.1s\n",
            "[CV] END learning_rate=0.1, max_depth=7, n_estimators=10, subsample=1.0; total time=   1.5s\n",
            "[CV] END learning_rate=0.1, max_depth=7, n_estimators=10, subsample=1.0; total time=   1.6s\n",
            "[CV] END learning_rate=0.1, max_depth=7, n_estimators=10, subsample=1.0; total time=   1.5s\n",
            "[CV] END learning_rate=0.1, max_depth=7, n_estimators=50, subsample=0.5; total time=   4.0s\n",
            "[CV] END learning_rate=0.1, max_depth=7, n_estimators=50, subsample=0.5; total time=   4.0s\n",
            "[CV] END learning_rate=0.1, max_depth=7, n_estimators=50, subsample=0.5; total time=   4.0s\n",
            "[CV] END learning_rate=0.1, max_depth=7, n_estimators=50, subsample=0.7; total time=   5.5s\n",
            "[CV] END learning_rate=0.1, max_depth=7, n_estimators=50, subsample=0.7; total time=   5.6s\n",
            "[CV] END learning_rate=0.1, max_depth=7, n_estimators=50, subsample=0.7; total time=   5.5s\n",
            "[CV] END learning_rate=0.1, max_depth=7, n_estimators=50, subsample=1.0; total time=   7.6s\n",
            "[CV] END learning_rate=0.1, max_depth=7, n_estimators=50, subsample=1.0; total time=   7.7s\n",
            "[CV] END learning_rate=0.1, max_depth=7, n_estimators=50, subsample=1.0; total time=   7.6s\n",
            "[CV] END learning_rate=0.1, max_depth=9, n_estimators=10, subsample=0.5; total time=   1.1s\n",
            "[CV] END learning_rate=0.1, max_depth=9, n_estimators=10, subsample=0.5; total time=   1.1s\n",
            "[CV] END learning_rate=0.1, max_depth=9, n_estimators=10, subsample=0.5; total time=   1.1s\n",
            "[CV] END learning_rate=0.1, max_depth=9, n_estimators=10, subsample=0.7; total time=   1.4s\n",
            "[CV] END learning_rate=0.1, max_depth=9, n_estimators=10, subsample=0.7; total time=   1.4s\n",
            "[CV] END learning_rate=0.1, max_depth=9, n_estimators=10, subsample=0.7; total time=   1.4s\n",
            "[CV] END learning_rate=0.1, max_depth=9, n_estimators=10, subsample=1.0; total time=   2.0s\n",
            "[CV] END learning_rate=0.1, max_depth=9, n_estimators=10, subsample=1.0; total time=   2.0s\n",
            "[CV] END learning_rate=0.1, max_depth=9, n_estimators=10, subsample=1.0; total time=   2.0s\n",
            "[CV] END learning_rate=0.1, max_depth=9, n_estimators=50, subsample=0.5; total time=   5.2s\n",
            "[CV] END learning_rate=0.1, max_depth=9, n_estimators=50, subsample=0.5; total time=   5.3s\n",
            "[CV] END learning_rate=0.1, max_depth=9, n_estimators=50, subsample=0.5; total time=   5.3s\n",
            "[CV] END learning_rate=0.1, max_depth=9, n_estimators=50, subsample=0.7; total time=   7.1s\n",
            "[CV] END learning_rate=0.1, max_depth=9, n_estimators=50, subsample=0.7; total time=   7.2s\n",
            "[CV] END learning_rate=0.1, max_depth=9, n_estimators=50, subsample=0.7; total time=   7.2s\n",
            "[CV] END learning_rate=0.1, max_depth=9, n_estimators=50, subsample=1.0; total time=  10.0s\n",
            "[CV] END learning_rate=0.1, max_depth=9, n_estimators=50, subsample=1.0; total time=  10.0s\n",
            "[CV] END learning_rate=0.1, max_depth=9, n_estimators=50, subsample=1.0; total time=   9.9s\n"
          ]
        },
        {
          "output_type": "execute_result",
          "data": {
            "text/plain": [
              "GridSearchCV(cv=3, estimator=GradientBoostingClassifier(),\n",
              "             param_grid={'learning_rate': [0.001, 0.01, 0.1],\n",
              "                         'max_depth': [3, 7, 9], 'n_estimators': [10, 50],\n",
              "                         'subsample': [0.5, 0.7, 1.0]},\n",
              "             verbose=2)"
            ]
          },
          "metadata": {},
          "execution_count": 103
        }
      ]
    },
    {
      "cell_type": "code",
      "source": [
        "gbc_model.best_params_"
      ],
      "metadata": {
        "colab": {
          "base_uri": "https://localhost:8080/"
        },
        "id": "Su0hZxdLyjNw",
        "outputId": "ea2a61db-2a05-4871-9131-e883a83d033a"
      },
      "execution_count": null,
      "outputs": [
        {
          "output_type": "execute_result",
          "data": {
            "text/plain": [
              "{'learning_rate': 0.1, 'max_depth': 3, 'n_estimators': 50, 'subsample': 0.5}"
            ]
          },
          "metadata": {},
          "execution_count": 104
        }
      ]
    },
    {
      "cell_type": "code",
      "source": [
        "gbc_model = gbc_model.best_estimator_"
      ],
      "metadata": {
        "id": "DXLp29s8yqP2"
      },
      "execution_count": null,
      "outputs": []
    },
    {
      "cell_type": "code",
      "source": [
        "gbc_model.fit(X_train, Y_train)"
      ],
      "metadata": {
        "colab": {
          "base_uri": "https://localhost:8080/"
        },
        "id": "Ql-6YqG8ytiW",
        "outputId": "d2f88e0d-acc8-43e6-de7e-caaedd6c64d1"
      },
      "execution_count": null,
      "outputs": [
        {
          "output_type": "execute_result",
          "data": {
            "text/plain": [
              "GradientBoostingClassifier(n_estimators=50, subsample=0.5)"
            ]
          },
          "metadata": {},
          "execution_count": 106
        }
      ]
    },
    {
      "cell_type": "code",
      "source": [
        "y_pred = gbc_model.predict(X_test)"
      ],
      "metadata": {
        "id": "f2U4npOyyzJN"
      },
      "execution_count": null,
      "outputs": []
    },
    {
      "cell_type": "code",
      "source": [
        "print(\"Accuracy:\",accuracy_score(Y_test, y_pred))\n",
        "print(\"Precision:\",precision_score( Y_test, y_pred))\n",
        "print(\"Recall:\",recall_score(Y_test ,y_pred))"
      ],
      "metadata": {
        "colab": {
          "base_uri": "https://localhost:8080/"
        },
        "id": "-kwlMgedy5i8",
        "outputId": "22bac683-aa70-4e09-bc52-a8f1a20e9eed"
      },
      "execution_count": null,
      "outputs": [
        {
          "output_type": "stream",
          "name": "stdout",
          "text": [
            "Accuracy: 0.8186666666666667\n",
            "Precision: 0.663923182441701\n",
            "Recall: 0.36473247927656366\n"
          ]
        }
      ]
    },
    {
      "cell_type": "code",
      "source": [
        "from xgboost import  XGBClassifier"
      ],
      "metadata": {
        "id": "xWbVEgMZzBV4"
      },
      "execution_count": null,
      "outputs": []
    },
    {
      "cell_type": "code",
      "source": [
        "X_train, X_test, y_train, y_test = train_test_split(X, Y, test_size=0.20, random_state=42, stratify = Y)"
      ],
      "metadata": {
        "id": "Ob0L4F3wmstM"
      },
      "execution_count": null,
      "outputs": []
    },
    {
      "cell_type": "code",
      "source": [
        "param_test1 = {\n",
        " 'max_depth':range(3,10,2),\n",
        " 'min_child_weight':range(1,6,2)\n",
        "}\n",
        "gsearch1 = GridSearchCV(estimator = XGBClassifier( learning_rate =0.1, n_estimators=140, max_depth=5,\n",
        " min_child_weight=1, gamma=0, subsample=0.8, colsample_bytree=0.8,\n",
        " objective= 'binary:logistic', nthread=4, scale_pos_weight=1, seed=27), \n",
        " param_grid = param_test1, scoring='accuracy',n_jobs=-1, cv=3, verbose = 2)\n",
        "gsearch1.fit(X_train, y_train)"
      ],
      "metadata": {
        "colab": {
          "base_uri": "https://localhost:8080/"
        },
        "id": "D5uffgsSmzxW",
        "outputId": "fd5f8250-e6eb-4f61-f9a1-6e47a3598f49"
      },
      "execution_count": null,
      "outputs": [
        {
          "output_type": "stream",
          "name": "stdout",
          "text": [
            "Fitting 3 folds for each of 12 candidates, totalling 36 fits\n"
          ]
        },
        {
          "output_type": "execute_result",
          "data": {
            "text/plain": [
              "GridSearchCV(cv=3,\n",
              "             estimator=XGBClassifier(colsample_bytree=0.8, max_depth=5,\n",
              "                                     n_estimators=140, nthread=4, seed=27,\n",
              "                                     subsample=0.8),\n",
              "             n_jobs=-1,\n",
              "             param_grid={'max_depth': range(3, 10, 2),\n",
              "                         'min_child_weight': range(1, 6, 2)},\n",
              "             scoring='accuracy', verbose=2)"
            ]
          },
          "metadata": {},
          "execution_count": 55
        }
      ]
    },
    {
      "cell_type": "code",
      "source": [
        " gsearch1.best_score_"
      ],
      "metadata": {
        "colab": {
          "base_uri": "https://localhost:8080/"
        },
        "id": "CWaS1JLwm8gG",
        "outputId": "b6a8aa1a-1025-4e1f-f9d7-8f5e72070778"
      },
      "execution_count": null,
      "outputs": [
        {
          "output_type": "execute_result",
          "data": {
            "text/plain": [
              "0.8215833333333333"
            ]
          },
          "metadata": {},
          "execution_count": 56
        }
      ]
    },
    {
      "cell_type": "code",
      "source": [
        "optimal_xgb = gsearch1.best_estimator_"
      ],
      "metadata": {
        "id": "la16o0ijnLep"
      },
      "execution_count": null,
      "outputs": []
    },
    {
      "cell_type": "code",
      "source": [
        "# Get the predicted classes\n",
        "train_class_preds = optimal_xgb.predict(X_train)\n",
        "test_class_preds = optimal_xgb.predict(X_test)"
      ],
      "metadata": {
        "id": "eXHXNFq6n6c6"
      },
      "execution_count": null,
      "outputs": []
    },
    {
      "cell_type": "code",
      "source": [
        "# Get the accuracy scores\n",
        "train_accuracy_xgb_tuned = accuracy_score(train_class_preds,y_train)\n",
        "test_accuracy_xgb_tuned = accuracy_score(test_class_preds,y_test)\n",
        "\n",
        "print(\"The accuracy on train data is \", train_accuracy_xgb_tuned)\n",
        "print(\"The accuracy on test data is \", test_accuracy_xgb_tuned)"
      ],
      "metadata": {
        "colab": {
          "base_uri": "https://localhost:8080/"
        },
        "id": "5NSUMS25n9ME",
        "outputId": "c52410ea-080e-4f66-8ec8-5a5c75ce5fad"
      },
      "execution_count": null,
      "outputs": [
        {
          "output_type": "stream",
          "name": "stdout",
          "text": [
            "The accuracy on train data is  0.827\n",
            "The accuracy on test data is  0.8193333333333334\n"
          ]
        }
      ]
    },
    {
      "cell_type": "code",
      "source": [
        "test_accuracy_xgb_tuned = accuracy_score(test_class_preds,y_test)\n",
        "test_precision_xgb_tuned = precision_score(test_class_preds,y_test)\n",
        "test_recall_score_xgb_tuned = recall_score(test_class_preds,y_test)\n",
        "\n",
        "\n",
        "print(\"The accuracy on test data is \", test_accuracy_xgb_tuned)\n",
        "print(\"The precision on test data is \", test_precision_xgb_tuned)\n",
        "print(\"The recall on test data is \", test_recall_score_xgb_tuned)\n"
      ],
      "metadata": {
        "colab": {
          "base_uri": "https://localhost:8080/"
        },
        "id": "8vbdRpUjn_aY",
        "outputId": "26ed573c-012b-483a-a8ba-553dbc5d7bc9"
      },
      "execution_count": null,
      "outputs": [
        {
          "output_type": "stream",
          "name": "stdout",
          "text": [
            "The accuracy on test data is  0.8193333333333334\n",
            "The precision on test data is  0.36096458176337604\n",
            "The recall on test data is  0.66993006993007\n"
          ]
        }
      ]
    },
    {
      "cell_type": "code",
      "source": [
        ""
      ],
      "metadata": {
        "id": "6qmfK6jCoIR9"
      },
      "execution_count": null,
      "outputs": []
    }
  ]
}