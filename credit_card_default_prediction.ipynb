{
  "nbformat": 4,
  "nbformat_minor": 0,
  "metadata": {
    "colab": {
      "name": " credit card default prediction.ipynb",
      "provenance": [],
      "collapsed_sections": [],
      "include_colab_link": true
    },
    "kernelspec": {
      "name": "python3",
      "display_name": "Python 3"
    },
    "language_info": {
      "name": "python"
    }
  },
  "cells": [
    {
      "cell_type": "markdown",
      "metadata": {
        "id": "view-in-github",
        "colab_type": "text"
      },
      "source": [
        "<a href=\"https://colab.research.google.com/github/Sharaffin/Credit-card-default-prediction/blob/main/credit_card_default_prediction.ipynb\" target=\"_parent\"><img src=\"https://colab.research.google.com/assets/colab-badge.svg\" alt=\"Open In Colab\"/></a>"
      ]
    },
    {
      "cell_type": "markdown",
      "metadata": {
        "id": "tOGC-qoyhJeX"
      },
      "source": [
        "# <b><u> Project Title : Predicting whether a customer will default on his/her credit card </u></b>"
      ]
    },
    {
      "cell_type": "markdown",
      "metadata": {
        "id": "Y06xIdG26kRF"
      },
      "source": [
        "## <b> Problem Description </b>\n",
        "\n",
        "### This project is aimed at predicting the case of customers default payments in Taiwan. From the perspective of risk management, the result of predictive accuracy of the estimated probability of default will be more valuable than the binary result of classification - credible or not credible clients. We can use the [K-S chart](https://www.listendata.com/2019/07/KS-Statistics-Python.html) to evaluate which customers will default on their credit card payments\n"
      ]
    },
    {
      "cell_type": "markdown",
      "metadata": {
        "id": "AlLxAtlziMbP"
      },
      "source": [
        "## <b> Data Description </b>\n",
        "\n",
        "### <b>Attribute Information: </b>\n",
        "\n",
        "### This research employed a binary variable, default payment (Yes = 1, No = 0), as the response variable. This study reviewed the literature and used the following 23 variables as explanatory variables:\n",
        "* ### X1: Amount of the given credit (NT dollar): it includes both the individual consumer credit and his/her family (supplementary) credit.\n",
        "* ### X2: Gender (1 = male; 2 = female).\n",
        "* ### X3: Education (1 = graduate school; 2 = university; 3 = high school; 4 = others).\n",
        "* ### X4: Marital status (1 = married; 2 = single; 3 = others).\n",
        "* ### X5: Age (year).\n",
        "* ### X6 - X11: History of past payment. We tracked the past monthly payment records (from April to September, 2005) as follows: X6 = the repayment status in September, 2005; X7 = the repayment status in August, 2005; . . .;X11 = the repayment status in April, 2005. The measurement scale for the repayment status is: -1 = pay duly; 1 = payment delay for one month; 2 = payment delay for two months; . . .; 8 = payment delay for eight months; 9 = payment delay for nine months and above.\n",
        "* ### X12-X17: Amount of bill statement (NT dollar). X12 = amount of bill statement in September, 2005; X13 = amount of bill statement in August, 2005; . . .; X17 = amount of bill statement in April, 2005.\n",
        "* ### X18-X23: Amount of previous payment (NT dollar). X18 = amount paid in September, 2005; X19 = amount paid in August, 2005; . . .;X23 = amount paid in April, 2005."
      ]
    },
    {
      "cell_type": "markdown",
      "source": [
        "# 1. **Connection with the Data**\n",
        "Here, we are provided with a dataset with 30000 customers. \n",
        "At first, we import the libraries or functions for making our analysis easy and then get connected to the set of outcomes."
      ],
      "metadata": {
        "id": "LpRBawhel6kM"
      }
    },
    {
      "cell_type": "code",
      "execution_count": 1,
      "metadata": {
        "id": "D9rF70U0OK7g"
      },
      "outputs": [],
      "source": [
        "# Taking help of the Following Libraries\n",
        "import pandas as pd\n",
        "import numpy as np\n",
        "from matplotlib import pyplot as plt\n",
        "import seaborn as sns\n",
        "import os\n",
        "import sys"
      ]
    },
    {
      "cell_type": "code",
      "source": [
        "#Mounting the drive\n",
        "from google.colab import drive\n",
        "drive.mount('/content/drive/')"
      ],
      "metadata": {
        "colab": {
          "base_uri": "https://localhost:8080/"
        },
        "id": "6shTjLaXy2tR",
        "outputId": "e167b7b0-bb34-42a4-f197-d2565ce02470"
      },
      "execution_count": 2,
      "outputs": [
        {
          "output_type": "stream",
          "name": "stdout",
          "text": [
            "Mounted at /content/drive/\n"
          ]
        }
      ]
    },
    {
      "cell_type": "code",
      "source": [
        "#Creating a path in drive\n",
        "path = '/content/drive/MyDrive/'"
      ],
      "metadata": {
        "id": "Bqd-3Rrey-te"
      },
      "execution_count": 3,
      "outputs": []
    },
    {
      "cell_type": "code",
      "source": [
        "#reading the dataset \n",
        "df = pd.read_csv(path + 'default of credit card clients.csv', encoding='latin-1')"
      ],
      "metadata": {
        "id": "Wm2Q2VzhOyYu"
      },
      "execution_count": 4,
      "outputs": []
    },
    {
      "cell_type": "markdown",
      "source": [
        "# **2. Deeper Understanding of the Data**\n",
        "As there is a huge no. of experiences, we take the help of statistics to measure each and every features in different dimensions and thus step by step, we find the most important features or the exact way to decode the experiences.\n",
        "\n",
        "**“what gets measured gets done“.**"
      ],
      "metadata": {
        "id": "Wl64_V_rnu_7"
      }
    },
    {
      "cell_type": "code",
      "source": [
        "#first five observations\n",
        "df.head()"
      ],
      "metadata": {
        "colab": {
          "base_uri": "https://localhost:8080/",
          "height": 300
        },
        "id": "RMXe_SBSQIjG",
        "outputId": "b5e618a2-97e1-4e0c-985f-2a0f0310a3c6"
      },
      "execution_count": 5,
      "outputs": [
        {
          "output_type": "execute_result",
          "data": {
            "text/plain": [
              "   ID  LIMIT_BAL  SEX  EDUCATION  MARRIAGE  AGE  PAY_0  PAY_2  PAY_3  PAY_4  \\\n",
              "0   1    20000.0    2          2         1   24      2      2     -1     -1   \n",
              "1   2   120000.0    2          2         2   26     -1      2      0      0   \n",
              "2   3    90000.0    2          2         2   34      0      0      0      0   \n",
              "3   4    50000.0    2          2         1   37      0      0      0      0   \n",
              "4   5    50000.0    1          2         1   57     -1      0     -1      0   \n",
              "\n",
              "   ...  BILL_AMT4  BILL_AMT5  BILL_AMT6  PAY_AMT1  PAY_AMT2  PAY_AMT3  \\\n",
              "0  ...        0.0        0.0        0.0       0.0     689.0       0.0   \n",
              "1  ...     3272.0     3455.0     3261.0       0.0    1000.0    1000.0   \n",
              "2  ...    14331.0    14948.0    15549.0    1518.0    1500.0    1000.0   \n",
              "3  ...    28314.0    28959.0    29547.0    2000.0    2019.0    1200.0   \n",
              "4  ...    20940.0    19146.0    19131.0    2000.0   36681.0   10000.0   \n",
              "\n",
              "   PAY_AMT4  PAY_AMT5  PAY_AMT6  default.payment.next.month  \n",
              "0       0.0       0.0       0.0                           1  \n",
              "1    1000.0       0.0    2000.0                           1  \n",
              "2    1000.0    1000.0    5000.0                           0  \n",
              "3    1100.0    1069.0    1000.0                           0  \n",
              "4    9000.0     689.0     679.0                           0  \n",
              "\n",
              "[5 rows x 25 columns]"
            ],
            "text/html": [
              "\n",
              "  <div id=\"df-030fc97b-5470-4e4f-be2d-c78860c5977f\">\n",
              "    <div class=\"colab-df-container\">\n",
              "      <div>\n",
              "<style scoped>\n",
              "    .dataframe tbody tr th:only-of-type {\n",
              "        vertical-align: middle;\n",
              "    }\n",
              "\n",
              "    .dataframe tbody tr th {\n",
              "        vertical-align: top;\n",
              "    }\n",
              "\n",
              "    .dataframe thead th {\n",
              "        text-align: right;\n",
              "    }\n",
              "</style>\n",
              "<table border=\"1\" class=\"dataframe\">\n",
              "  <thead>\n",
              "    <tr style=\"text-align: right;\">\n",
              "      <th></th>\n",
              "      <th>ID</th>\n",
              "      <th>LIMIT_BAL</th>\n",
              "      <th>SEX</th>\n",
              "      <th>EDUCATION</th>\n",
              "      <th>MARRIAGE</th>\n",
              "      <th>AGE</th>\n",
              "      <th>PAY_0</th>\n",
              "      <th>PAY_2</th>\n",
              "      <th>PAY_3</th>\n",
              "      <th>PAY_4</th>\n",
              "      <th>...</th>\n",
              "      <th>BILL_AMT4</th>\n",
              "      <th>BILL_AMT5</th>\n",
              "      <th>BILL_AMT6</th>\n",
              "      <th>PAY_AMT1</th>\n",
              "      <th>PAY_AMT2</th>\n",
              "      <th>PAY_AMT3</th>\n",
              "      <th>PAY_AMT4</th>\n",
              "      <th>PAY_AMT5</th>\n",
              "      <th>PAY_AMT6</th>\n",
              "      <th>default.payment.next.month</th>\n",
              "    </tr>\n",
              "  </thead>\n",
              "  <tbody>\n",
              "    <tr>\n",
              "      <th>0</th>\n",
              "      <td>1</td>\n",
              "      <td>20000.0</td>\n",
              "      <td>2</td>\n",
              "      <td>2</td>\n",
              "      <td>1</td>\n",
              "      <td>24</td>\n",
              "      <td>2</td>\n",
              "      <td>2</td>\n",
              "      <td>-1</td>\n",
              "      <td>-1</td>\n",
              "      <td>...</td>\n",
              "      <td>0.0</td>\n",
              "      <td>0.0</td>\n",
              "      <td>0.0</td>\n",
              "      <td>0.0</td>\n",
              "      <td>689.0</td>\n",
              "      <td>0.0</td>\n",
              "      <td>0.0</td>\n",
              "      <td>0.0</td>\n",
              "      <td>0.0</td>\n",
              "      <td>1</td>\n",
              "    </tr>\n",
              "    <tr>\n",
              "      <th>1</th>\n",
              "      <td>2</td>\n",
              "      <td>120000.0</td>\n",
              "      <td>2</td>\n",
              "      <td>2</td>\n",
              "      <td>2</td>\n",
              "      <td>26</td>\n",
              "      <td>-1</td>\n",
              "      <td>2</td>\n",
              "      <td>0</td>\n",
              "      <td>0</td>\n",
              "      <td>...</td>\n",
              "      <td>3272.0</td>\n",
              "      <td>3455.0</td>\n",
              "      <td>3261.0</td>\n",
              "      <td>0.0</td>\n",
              "      <td>1000.0</td>\n",
              "      <td>1000.0</td>\n",
              "      <td>1000.0</td>\n",
              "      <td>0.0</td>\n",
              "      <td>2000.0</td>\n",
              "      <td>1</td>\n",
              "    </tr>\n",
              "    <tr>\n",
              "      <th>2</th>\n",
              "      <td>3</td>\n",
              "      <td>90000.0</td>\n",
              "      <td>2</td>\n",
              "      <td>2</td>\n",
              "      <td>2</td>\n",
              "      <td>34</td>\n",
              "      <td>0</td>\n",
              "      <td>0</td>\n",
              "      <td>0</td>\n",
              "      <td>0</td>\n",
              "      <td>...</td>\n",
              "      <td>14331.0</td>\n",
              "      <td>14948.0</td>\n",
              "      <td>15549.0</td>\n",
              "      <td>1518.0</td>\n",
              "      <td>1500.0</td>\n",
              "      <td>1000.0</td>\n",
              "      <td>1000.0</td>\n",
              "      <td>1000.0</td>\n",
              "      <td>5000.0</td>\n",
              "      <td>0</td>\n",
              "    </tr>\n",
              "    <tr>\n",
              "      <th>3</th>\n",
              "      <td>4</td>\n",
              "      <td>50000.0</td>\n",
              "      <td>2</td>\n",
              "      <td>2</td>\n",
              "      <td>1</td>\n",
              "      <td>37</td>\n",
              "      <td>0</td>\n",
              "      <td>0</td>\n",
              "      <td>0</td>\n",
              "      <td>0</td>\n",
              "      <td>...</td>\n",
              "      <td>28314.0</td>\n",
              "      <td>28959.0</td>\n",
              "      <td>29547.0</td>\n",
              "      <td>2000.0</td>\n",
              "      <td>2019.0</td>\n",
              "      <td>1200.0</td>\n",
              "      <td>1100.0</td>\n",
              "      <td>1069.0</td>\n",
              "      <td>1000.0</td>\n",
              "      <td>0</td>\n",
              "    </tr>\n",
              "    <tr>\n",
              "      <th>4</th>\n",
              "      <td>5</td>\n",
              "      <td>50000.0</td>\n",
              "      <td>1</td>\n",
              "      <td>2</td>\n",
              "      <td>1</td>\n",
              "      <td>57</td>\n",
              "      <td>-1</td>\n",
              "      <td>0</td>\n",
              "      <td>-1</td>\n",
              "      <td>0</td>\n",
              "      <td>...</td>\n",
              "      <td>20940.0</td>\n",
              "      <td>19146.0</td>\n",
              "      <td>19131.0</td>\n",
              "      <td>2000.0</td>\n",
              "      <td>36681.0</td>\n",
              "      <td>10000.0</td>\n",
              "      <td>9000.0</td>\n",
              "      <td>689.0</td>\n",
              "      <td>679.0</td>\n",
              "      <td>0</td>\n",
              "    </tr>\n",
              "  </tbody>\n",
              "</table>\n",
              "<p>5 rows × 25 columns</p>\n",
              "</div>\n",
              "      <button class=\"colab-df-convert\" onclick=\"convertToInteractive('df-030fc97b-5470-4e4f-be2d-c78860c5977f')\"\n",
              "              title=\"Convert this dataframe to an interactive table.\"\n",
              "              style=\"display:none;\">\n",
              "        \n",
              "  <svg xmlns=\"http://www.w3.org/2000/svg\" height=\"24px\"viewBox=\"0 0 24 24\"\n",
              "       width=\"24px\">\n",
              "    <path d=\"M0 0h24v24H0V0z\" fill=\"none\"/>\n",
              "    <path d=\"M18.56 5.44l.94 2.06.94-2.06 2.06-.94-2.06-.94-.94-2.06-.94 2.06-2.06.94zm-11 1L8.5 8.5l.94-2.06 2.06-.94-2.06-.94L8.5 2.5l-.94 2.06-2.06.94zm10 10l.94 2.06.94-2.06 2.06-.94-2.06-.94-.94-2.06-.94 2.06-2.06.94z\"/><path d=\"M17.41 7.96l-1.37-1.37c-.4-.4-.92-.59-1.43-.59-.52 0-1.04.2-1.43.59L10.3 9.45l-7.72 7.72c-.78.78-.78 2.05 0 2.83L4 21.41c.39.39.9.59 1.41.59.51 0 1.02-.2 1.41-.59l7.78-7.78 2.81-2.81c.8-.78.8-2.07 0-2.86zM5.41 20L4 18.59l7.72-7.72 1.47 1.35L5.41 20z\"/>\n",
              "  </svg>\n",
              "      </button>\n",
              "      \n",
              "  <style>\n",
              "    .colab-df-container {\n",
              "      display:flex;\n",
              "      flex-wrap:wrap;\n",
              "      gap: 12px;\n",
              "    }\n",
              "\n",
              "    .colab-df-convert {\n",
              "      background-color: #E8F0FE;\n",
              "      border: none;\n",
              "      border-radius: 50%;\n",
              "      cursor: pointer;\n",
              "      display: none;\n",
              "      fill: #1967D2;\n",
              "      height: 32px;\n",
              "      padding: 0 0 0 0;\n",
              "      width: 32px;\n",
              "    }\n",
              "\n",
              "    .colab-df-convert:hover {\n",
              "      background-color: #E2EBFA;\n",
              "      box-shadow: 0px 1px 2px rgba(60, 64, 67, 0.3), 0px 1px 3px 1px rgba(60, 64, 67, 0.15);\n",
              "      fill: #174EA6;\n",
              "    }\n",
              "\n",
              "    [theme=dark] .colab-df-convert {\n",
              "      background-color: #3B4455;\n",
              "      fill: #D2E3FC;\n",
              "    }\n",
              "\n",
              "    [theme=dark] .colab-df-convert:hover {\n",
              "      background-color: #434B5C;\n",
              "      box-shadow: 0px 1px 3px 1px rgba(0, 0, 0, 0.15);\n",
              "      filter: drop-shadow(0px 1px 2px rgba(0, 0, 0, 0.3));\n",
              "      fill: #FFFFFF;\n",
              "    }\n",
              "  </style>\n",
              "\n",
              "      <script>\n",
              "        const buttonEl =\n",
              "          document.querySelector('#df-030fc97b-5470-4e4f-be2d-c78860c5977f button.colab-df-convert');\n",
              "        buttonEl.style.display =\n",
              "          google.colab.kernel.accessAllowed ? 'block' : 'none';\n",
              "\n",
              "        async function convertToInteractive(key) {\n",
              "          const element = document.querySelector('#df-030fc97b-5470-4e4f-be2d-c78860c5977f');\n",
              "          const dataTable =\n",
              "            await google.colab.kernel.invokeFunction('convertToInteractive',\n",
              "                                                     [key], {});\n",
              "          if (!dataTable) return;\n",
              "\n",
              "          const docLinkHtml = 'Like what you see? Visit the ' +\n",
              "            '<a target=\"_blank\" href=https://colab.research.google.com/notebooks/data_table.ipynb>data table notebook</a>'\n",
              "            + ' to learn more about interactive tables.';\n",
              "          element.innerHTML = '';\n",
              "          dataTable['output_type'] = 'display_data';\n",
              "          await google.colab.output.renderOutput(dataTable, element);\n",
              "          const docLink = document.createElement('div');\n",
              "          docLink.innerHTML = docLinkHtml;\n",
              "          element.appendChild(docLink);\n",
              "        }\n",
              "      </script>\n",
              "    </div>\n",
              "  </div>\n",
              "  "
            ]
          },
          "metadata": {},
          "execution_count": 5
        }
      ]
    },
    {
      "cell_type": "code",
      "source": [
        "#last five observations\n",
        "df.tail()"
      ],
      "metadata": {
        "colab": {
          "base_uri": "https://localhost:8080/",
          "height": 300
        },
        "id": "YVTQEu47QrOl",
        "outputId": "8e2ea12f-47bd-44df-a845-2047006fd98d"
      },
      "execution_count": 6,
      "outputs": [
        {
          "output_type": "execute_result",
          "data": {
            "text/plain": [
              "          ID  LIMIT_BAL  SEX  EDUCATION  MARRIAGE  AGE  PAY_0  PAY_2  PAY_3  \\\n",
              "29995  29996   220000.0    1          3         1   39      0      0      0   \n",
              "29996  29997   150000.0    1          3         2   43     -1     -1     -1   \n",
              "29997  29998    30000.0    1          2         2   37      4      3      2   \n",
              "29998  29999    80000.0    1          3         1   41      1     -1      0   \n",
              "29999  30000    50000.0    1          2         1   46      0      0      0   \n",
              "\n",
              "       PAY_4  ...  BILL_AMT4  BILL_AMT5  BILL_AMT6  PAY_AMT1  PAY_AMT2  \\\n",
              "29995      0  ...    88004.0    31237.0    15980.0    8500.0   20000.0   \n",
              "29996     -1  ...     8979.0     5190.0        0.0    1837.0    3526.0   \n",
              "29997     -1  ...    20878.0    20582.0    19357.0       0.0       0.0   \n",
              "29998      0  ...    52774.0    11855.0    48944.0   85900.0    3409.0   \n",
              "29999      0  ...    36535.0    32428.0    15313.0    2078.0    1800.0   \n",
              "\n",
              "       PAY_AMT3  PAY_AMT4  PAY_AMT5  PAY_AMT6  default.payment.next.month  \n",
              "29995    5003.0    3047.0    5000.0    1000.0                           0  \n",
              "29996    8998.0     129.0       0.0       0.0                           0  \n",
              "29997   22000.0    4200.0    2000.0    3100.0                           1  \n",
              "29998    1178.0    1926.0   52964.0    1804.0                           1  \n",
              "29999    1430.0    1000.0    1000.0    1000.0                           1  \n",
              "\n",
              "[5 rows x 25 columns]"
            ],
            "text/html": [
              "\n",
              "  <div id=\"df-7b4484f8-3613-4396-a334-dad975ab9827\">\n",
              "    <div class=\"colab-df-container\">\n",
              "      <div>\n",
              "<style scoped>\n",
              "    .dataframe tbody tr th:only-of-type {\n",
              "        vertical-align: middle;\n",
              "    }\n",
              "\n",
              "    .dataframe tbody tr th {\n",
              "        vertical-align: top;\n",
              "    }\n",
              "\n",
              "    .dataframe thead th {\n",
              "        text-align: right;\n",
              "    }\n",
              "</style>\n",
              "<table border=\"1\" class=\"dataframe\">\n",
              "  <thead>\n",
              "    <tr style=\"text-align: right;\">\n",
              "      <th></th>\n",
              "      <th>ID</th>\n",
              "      <th>LIMIT_BAL</th>\n",
              "      <th>SEX</th>\n",
              "      <th>EDUCATION</th>\n",
              "      <th>MARRIAGE</th>\n",
              "      <th>AGE</th>\n",
              "      <th>PAY_0</th>\n",
              "      <th>PAY_2</th>\n",
              "      <th>PAY_3</th>\n",
              "      <th>PAY_4</th>\n",
              "      <th>...</th>\n",
              "      <th>BILL_AMT4</th>\n",
              "      <th>BILL_AMT5</th>\n",
              "      <th>BILL_AMT6</th>\n",
              "      <th>PAY_AMT1</th>\n",
              "      <th>PAY_AMT2</th>\n",
              "      <th>PAY_AMT3</th>\n",
              "      <th>PAY_AMT4</th>\n",
              "      <th>PAY_AMT5</th>\n",
              "      <th>PAY_AMT6</th>\n",
              "      <th>default.payment.next.month</th>\n",
              "    </tr>\n",
              "  </thead>\n",
              "  <tbody>\n",
              "    <tr>\n",
              "      <th>29995</th>\n",
              "      <td>29996</td>\n",
              "      <td>220000.0</td>\n",
              "      <td>1</td>\n",
              "      <td>3</td>\n",
              "      <td>1</td>\n",
              "      <td>39</td>\n",
              "      <td>0</td>\n",
              "      <td>0</td>\n",
              "      <td>0</td>\n",
              "      <td>0</td>\n",
              "      <td>...</td>\n",
              "      <td>88004.0</td>\n",
              "      <td>31237.0</td>\n",
              "      <td>15980.0</td>\n",
              "      <td>8500.0</td>\n",
              "      <td>20000.0</td>\n",
              "      <td>5003.0</td>\n",
              "      <td>3047.0</td>\n",
              "      <td>5000.0</td>\n",
              "      <td>1000.0</td>\n",
              "      <td>0</td>\n",
              "    </tr>\n",
              "    <tr>\n",
              "      <th>29996</th>\n",
              "      <td>29997</td>\n",
              "      <td>150000.0</td>\n",
              "      <td>1</td>\n",
              "      <td>3</td>\n",
              "      <td>2</td>\n",
              "      <td>43</td>\n",
              "      <td>-1</td>\n",
              "      <td>-1</td>\n",
              "      <td>-1</td>\n",
              "      <td>-1</td>\n",
              "      <td>...</td>\n",
              "      <td>8979.0</td>\n",
              "      <td>5190.0</td>\n",
              "      <td>0.0</td>\n",
              "      <td>1837.0</td>\n",
              "      <td>3526.0</td>\n",
              "      <td>8998.0</td>\n",
              "      <td>129.0</td>\n",
              "      <td>0.0</td>\n",
              "      <td>0.0</td>\n",
              "      <td>0</td>\n",
              "    </tr>\n",
              "    <tr>\n",
              "      <th>29997</th>\n",
              "      <td>29998</td>\n",
              "      <td>30000.0</td>\n",
              "      <td>1</td>\n",
              "      <td>2</td>\n",
              "      <td>2</td>\n",
              "      <td>37</td>\n",
              "      <td>4</td>\n",
              "      <td>3</td>\n",
              "      <td>2</td>\n",
              "      <td>-1</td>\n",
              "      <td>...</td>\n",
              "      <td>20878.0</td>\n",
              "      <td>20582.0</td>\n",
              "      <td>19357.0</td>\n",
              "      <td>0.0</td>\n",
              "      <td>0.0</td>\n",
              "      <td>22000.0</td>\n",
              "      <td>4200.0</td>\n",
              "      <td>2000.0</td>\n",
              "      <td>3100.0</td>\n",
              "      <td>1</td>\n",
              "    </tr>\n",
              "    <tr>\n",
              "      <th>29998</th>\n",
              "      <td>29999</td>\n",
              "      <td>80000.0</td>\n",
              "      <td>1</td>\n",
              "      <td>3</td>\n",
              "      <td>1</td>\n",
              "      <td>41</td>\n",
              "      <td>1</td>\n",
              "      <td>-1</td>\n",
              "      <td>0</td>\n",
              "      <td>0</td>\n",
              "      <td>...</td>\n",
              "      <td>52774.0</td>\n",
              "      <td>11855.0</td>\n",
              "      <td>48944.0</td>\n",
              "      <td>85900.0</td>\n",
              "      <td>3409.0</td>\n",
              "      <td>1178.0</td>\n",
              "      <td>1926.0</td>\n",
              "      <td>52964.0</td>\n",
              "      <td>1804.0</td>\n",
              "      <td>1</td>\n",
              "    </tr>\n",
              "    <tr>\n",
              "      <th>29999</th>\n",
              "      <td>30000</td>\n",
              "      <td>50000.0</td>\n",
              "      <td>1</td>\n",
              "      <td>2</td>\n",
              "      <td>1</td>\n",
              "      <td>46</td>\n",
              "      <td>0</td>\n",
              "      <td>0</td>\n",
              "      <td>0</td>\n",
              "      <td>0</td>\n",
              "      <td>...</td>\n",
              "      <td>36535.0</td>\n",
              "      <td>32428.0</td>\n",
              "      <td>15313.0</td>\n",
              "      <td>2078.0</td>\n",
              "      <td>1800.0</td>\n",
              "      <td>1430.0</td>\n",
              "      <td>1000.0</td>\n",
              "      <td>1000.0</td>\n",
              "      <td>1000.0</td>\n",
              "      <td>1</td>\n",
              "    </tr>\n",
              "  </tbody>\n",
              "</table>\n",
              "<p>5 rows × 25 columns</p>\n",
              "</div>\n",
              "      <button class=\"colab-df-convert\" onclick=\"convertToInteractive('df-7b4484f8-3613-4396-a334-dad975ab9827')\"\n",
              "              title=\"Convert this dataframe to an interactive table.\"\n",
              "              style=\"display:none;\">\n",
              "        \n",
              "  <svg xmlns=\"http://www.w3.org/2000/svg\" height=\"24px\"viewBox=\"0 0 24 24\"\n",
              "       width=\"24px\">\n",
              "    <path d=\"M0 0h24v24H0V0z\" fill=\"none\"/>\n",
              "    <path d=\"M18.56 5.44l.94 2.06.94-2.06 2.06-.94-2.06-.94-.94-2.06-.94 2.06-2.06.94zm-11 1L8.5 8.5l.94-2.06 2.06-.94-2.06-.94L8.5 2.5l-.94 2.06-2.06.94zm10 10l.94 2.06.94-2.06 2.06-.94-2.06-.94-.94-2.06-.94 2.06-2.06.94z\"/><path d=\"M17.41 7.96l-1.37-1.37c-.4-.4-.92-.59-1.43-.59-.52 0-1.04.2-1.43.59L10.3 9.45l-7.72 7.72c-.78.78-.78 2.05 0 2.83L4 21.41c.39.39.9.59 1.41.59.51 0 1.02-.2 1.41-.59l7.78-7.78 2.81-2.81c.8-.78.8-2.07 0-2.86zM5.41 20L4 18.59l7.72-7.72 1.47 1.35L5.41 20z\"/>\n",
              "  </svg>\n",
              "      </button>\n",
              "      \n",
              "  <style>\n",
              "    .colab-df-container {\n",
              "      display:flex;\n",
              "      flex-wrap:wrap;\n",
              "      gap: 12px;\n",
              "    }\n",
              "\n",
              "    .colab-df-convert {\n",
              "      background-color: #E8F0FE;\n",
              "      border: none;\n",
              "      border-radius: 50%;\n",
              "      cursor: pointer;\n",
              "      display: none;\n",
              "      fill: #1967D2;\n",
              "      height: 32px;\n",
              "      padding: 0 0 0 0;\n",
              "      width: 32px;\n",
              "    }\n",
              "\n",
              "    .colab-df-convert:hover {\n",
              "      background-color: #E2EBFA;\n",
              "      box-shadow: 0px 1px 2px rgba(60, 64, 67, 0.3), 0px 1px 3px 1px rgba(60, 64, 67, 0.15);\n",
              "      fill: #174EA6;\n",
              "    }\n",
              "\n",
              "    [theme=dark] .colab-df-convert {\n",
              "      background-color: #3B4455;\n",
              "      fill: #D2E3FC;\n",
              "    }\n",
              "\n",
              "    [theme=dark] .colab-df-convert:hover {\n",
              "      background-color: #434B5C;\n",
              "      box-shadow: 0px 1px 3px 1px rgba(0, 0, 0, 0.15);\n",
              "      filter: drop-shadow(0px 1px 2px rgba(0, 0, 0, 0.3));\n",
              "      fill: #FFFFFF;\n",
              "    }\n",
              "  </style>\n",
              "\n",
              "      <script>\n",
              "        const buttonEl =\n",
              "          document.querySelector('#df-7b4484f8-3613-4396-a334-dad975ab9827 button.colab-df-convert');\n",
              "        buttonEl.style.display =\n",
              "          google.colab.kernel.accessAllowed ? 'block' : 'none';\n",
              "\n",
              "        async function convertToInteractive(key) {\n",
              "          const element = document.querySelector('#df-7b4484f8-3613-4396-a334-dad975ab9827');\n",
              "          const dataTable =\n",
              "            await google.colab.kernel.invokeFunction('convertToInteractive',\n",
              "                                                     [key], {});\n",
              "          if (!dataTable) return;\n",
              "\n",
              "          const docLinkHtml = 'Like what you see? Visit the ' +\n",
              "            '<a target=\"_blank\" href=https://colab.research.google.com/notebooks/data_table.ipynb>data table notebook</a>'\n",
              "            + ' to learn more about interactive tables.';\n",
              "          element.innerHTML = '';\n",
              "          dataTable['output_type'] = 'display_data';\n",
              "          await google.colab.output.renderOutput(dataTable, element);\n",
              "          const docLink = document.createElement('div');\n",
              "          docLink.innerHTML = docLinkHtml;\n",
              "          element.appendChild(docLink);\n",
              "        }\n",
              "      </script>\n",
              "    </div>\n",
              "  </div>\n",
              "  "
            ]
          },
          "metadata": {},
          "execution_count": 6
        }
      ]
    },
    {
      "cell_type": "code",
      "source": [
        "#To get the Rows and Columns in the dataset\n",
        "df.shape"
      ],
      "metadata": {
        "id": "Y4_4CydWQ4br",
        "colab": {
          "base_uri": "https://localhost:8080/"
        },
        "outputId": "9c6c9a24-c73d-42d1-8476-20cb8b0b5124"
      },
      "execution_count": 7,
      "outputs": [
        {
          "output_type": "execute_result",
          "data": {
            "text/plain": [
              "(30000, 25)"
            ]
          },
          "metadata": {},
          "execution_count": 7
        }
      ]
    },
    {
      "cell_type": "code",
      "source": [
        "#information about the database\n",
        "df.info()"
      ],
      "metadata": {
        "colab": {
          "base_uri": "https://localhost:8080/"
        },
        "id": "0DZfarQEMFxy",
        "outputId": "c53531f0-cb7f-47ef-c2b7-2b07188590c6"
      },
      "execution_count": 8,
      "outputs": [
        {
          "output_type": "stream",
          "name": "stdout",
          "text": [
            "<class 'pandas.core.frame.DataFrame'>\n",
            "RangeIndex: 30000 entries, 0 to 29999\n",
            "Data columns (total 25 columns):\n",
            " #   Column                      Non-Null Count  Dtype  \n",
            "---  ------                      --------------  -----  \n",
            " 0   ID                          30000 non-null  int64  \n",
            " 1   LIMIT_BAL                   30000 non-null  float64\n",
            " 2   SEX                         30000 non-null  int64  \n",
            " 3   EDUCATION                   30000 non-null  int64  \n",
            " 4   MARRIAGE                    30000 non-null  int64  \n",
            " 5   AGE                         30000 non-null  int64  \n",
            " 6   PAY_0                       30000 non-null  int64  \n",
            " 7   PAY_2                       30000 non-null  int64  \n",
            " 8   PAY_3                       30000 non-null  int64  \n",
            " 9   PAY_4                       30000 non-null  int64  \n",
            " 10  PAY_5                       30000 non-null  int64  \n",
            " 11  PAY_6                       30000 non-null  int64  \n",
            " 12  BILL_AMT1                   30000 non-null  float64\n",
            " 13  BILL_AMT2                   30000 non-null  float64\n",
            " 14  BILL_AMT3                   30000 non-null  float64\n",
            " 15  BILL_AMT4                   30000 non-null  float64\n",
            " 16  BILL_AMT5                   30000 non-null  float64\n",
            " 17  BILL_AMT6                   30000 non-null  float64\n",
            " 18  PAY_AMT1                    30000 non-null  float64\n",
            " 19  PAY_AMT2                    30000 non-null  float64\n",
            " 20  PAY_AMT3                    30000 non-null  float64\n",
            " 21  PAY_AMT4                    30000 non-null  float64\n",
            " 22  PAY_AMT5                    30000 non-null  float64\n",
            " 23  PAY_AMT6                    30000 non-null  float64\n",
            " 24  default.payment.next.month  30000 non-null  int64  \n",
            "dtypes: float64(13), int64(12)\n",
            "memory usage: 5.7 MB\n"
          ]
        }
      ]
    },
    {
      "cell_type": "code",
      "source": [
        "#description about the dataset\n",
        "df.describe()"
      ],
      "metadata": {
        "colab": {
          "base_uri": "https://localhost:8080/",
          "height": 394
        },
        "id": "-jj9ro9RX5V4",
        "outputId": "e67c0ddf-10a0-4baf-a87f-4be7182c056c"
      },
      "execution_count": 9,
      "outputs": [
        {
          "output_type": "execute_result",
          "data": {
            "text/plain": [
              "                 ID       LIMIT_BAL           SEX     EDUCATION      MARRIAGE  \\\n",
              "count  30000.000000    30000.000000  30000.000000  30000.000000  30000.000000   \n",
              "mean   15000.500000   167484.322667      1.603733      1.853133      1.551867   \n",
              "std     8660.398374   129747.661567      0.489129      0.790349      0.521970   \n",
              "min        1.000000    10000.000000      1.000000      0.000000      0.000000   \n",
              "25%     7500.750000    50000.000000      1.000000      1.000000      1.000000   \n",
              "50%    15000.500000   140000.000000      2.000000      2.000000      2.000000   \n",
              "75%    22500.250000   240000.000000      2.000000      2.000000      2.000000   \n",
              "max    30000.000000  1000000.000000      2.000000      6.000000      3.000000   \n",
              "\n",
              "                AGE         PAY_0         PAY_2         PAY_3         PAY_4  \\\n",
              "count  30000.000000  30000.000000  30000.000000  30000.000000  30000.000000   \n",
              "mean      35.485500     -0.016700     -0.133767     -0.166200     -0.220667   \n",
              "std        9.217904      1.123802      1.197186      1.196868      1.169139   \n",
              "min       21.000000     -2.000000     -2.000000     -2.000000     -2.000000   \n",
              "25%       28.000000     -1.000000     -1.000000     -1.000000     -1.000000   \n",
              "50%       34.000000      0.000000      0.000000      0.000000      0.000000   \n",
              "75%       41.000000      0.000000      0.000000      0.000000      0.000000   \n",
              "max       79.000000      8.000000      8.000000      8.000000      8.000000   \n",
              "\n",
              "       ...      BILL_AMT4      BILL_AMT5      BILL_AMT6       PAY_AMT1  \\\n",
              "count  ...   30000.000000   30000.000000   30000.000000   30000.000000   \n",
              "mean   ...   43262.948967   40311.400967   38871.760400    5663.580500   \n",
              "std    ...   64332.856134   60797.155770   59554.107537   16563.280354   \n",
              "min    ... -170000.000000  -81334.000000 -339603.000000       0.000000   \n",
              "25%    ...    2326.750000    1763.000000    1256.000000    1000.000000   \n",
              "50%    ...   19052.000000   18104.500000   17071.000000    2100.000000   \n",
              "75%    ...   54506.000000   50190.500000   49198.250000    5006.000000   \n",
              "max    ...  891586.000000  927171.000000  961664.000000  873552.000000   \n",
              "\n",
              "           PAY_AMT2      PAY_AMT3       PAY_AMT4       PAY_AMT5  \\\n",
              "count  3.000000e+04   30000.00000   30000.000000   30000.000000   \n",
              "mean   5.921163e+03    5225.68150    4826.076867    4799.387633   \n",
              "std    2.304087e+04   17606.96147   15666.159744   15278.305679   \n",
              "min    0.000000e+00       0.00000       0.000000       0.000000   \n",
              "25%    8.330000e+02     390.00000     296.000000     252.500000   \n",
              "50%    2.009000e+03    1800.00000    1500.000000    1500.000000   \n",
              "75%    5.000000e+03    4505.00000    4013.250000    4031.500000   \n",
              "max    1.684259e+06  896040.00000  621000.000000  426529.000000   \n",
              "\n",
              "            PAY_AMT6  default.payment.next.month  \n",
              "count   30000.000000                30000.000000  \n",
              "mean     5215.502567                    0.221200  \n",
              "std     17777.465775                    0.415062  \n",
              "min         0.000000                    0.000000  \n",
              "25%       117.750000                    0.000000  \n",
              "50%      1500.000000                    0.000000  \n",
              "75%      4000.000000                    0.000000  \n",
              "max    528666.000000                    1.000000  \n",
              "\n",
              "[8 rows x 25 columns]"
            ],
            "text/html": [
              "\n",
              "  <div id=\"df-7d23d120-6a9e-4b3f-8a45-cfbadeafc2eb\">\n",
              "    <div class=\"colab-df-container\">\n",
              "      <div>\n",
              "<style scoped>\n",
              "    .dataframe tbody tr th:only-of-type {\n",
              "        vertical-align: middle;\n",
              "    }\n",
              "\n",
              "    .dataframe tbody tr th {\n",
              "        vertical-align: top;\n",
              "    }\n",
              "\n",
              "    .dataframe thead th {\n",
              "        text-align: right;\n",
              "    }\n",
              "</style>\n",
              "<table border=\"1\" class=\"dataframe\">\n",
              "  <thead>\n",
              "    <tr style=\"text-align: right;\">\n",
              "      <th></th>\n",
              "      <th>ID</th>\n",
              "      <th>LIMIT_BAL</th>\n",
              "      <th>SEX</th>\n",
              "      <th>EDUCATION</th>\n",
              "      <th>MARRIAGE</th>\n",
              "      <th>AGE</th>\n",
              "      <th>PAY_0</th>\n",
              "      <th>PAY_2</th>\n",
              "      <th>PAY_3</th>\n",
              "      <th>PAY_4</th>\n",
              "      <th>...</th>\n",
              "      <th>BILL_AMT4</th>\n",
              "      <th>BILL_AMT5</th>\n",
              "      <th>BILL_AMT6</th>\n",
              "      <th>PAY_AMT1</th>\n",
              "      <th>PAY_AMT2</th>\n",
              "      <th>PAY_AMT3</th>\n",
              "      <th>PAY_AMT4</th>\n",
              "      <th>PAY_AMT5</th>\n",
              "      <th>PAY_AMT6</th>\n",
              "      <th>default.payment.next.month</th>\n",
              "    </tr>\n",
              "  </thead>\n",
              "  <tbody>\n",
              "    <tr>\n",
              "      <th>count</th>\n",
              "      <td>30000.000000</td>\n",
              "      <td>30000.000000</td>\n",
              "      <td>30000.000000</td>\n",
              "      <td>30000.000000</td>\n",
              "      <td>30000.000000</td>\n",
              "      <td>30000.000000</td>\n",
              "      <td>30000.000000</td>\n",
              "      <td>30000.000000</td>\n",
              "      <td>30000.000000</td>\n",
              "      <td>30000.000000</td>\n",
              "      <td>...</td>\n",
              "      <td>30000.000000</td>\n",
              "      <td>30000.000000</td>\n",
              "      <td>30000.000000</td>\n",
              "      <td>30000.000000</td>\n",
              "      <td>3.000000e+04</td>\n",
              "      <td>30000.00000</td>\n",
              "      <td>30000.000000</td>\n",
              "      <td>30000.000000</td>\n",
              "      <td>30000.000000</td>\n",
              "      <td>30000.000000</td>\n",
              "    </tr>\n",
              "    <tr>\n",
              "      <th>mean</th>\n",
              "      <td>15000.500000</td>\n",
              "      <td>167484.322667</td>\n",
              "      <td>1.603733</td>\n",
              "      <td>1.853133</td>\n",
              "      <td>1.551867</td>\n",
              "      <td>35.485500</td>\n",
              "      <td>-0.016700</td>\n",
              "      <td>-0.133767</td>\n",
              "      <td>-0.166200</td>\n",
              "      <td>-0.220667</td>\n",
              "      <td>...</td>\n",
              "      <td>43262.948967</td>\n",
              "      <td>40311.400967</td>\n",
              "      <td>38871.760400</td>\n",
              "      <td>5663.580500</td>\n",
              "      <td>5.921163e+03</td>\n",
              "      <td>5225.68150</td>\n",
              "      <td>4826.076867</td>\n",
              "      <td>4799.387633</td>\n",
              "      <td>5215.502567</td>\n",
              "      <td>0.221200</td>\n",
              "    </tr>\n",
              "    <tr>\n",
              "      <th>std</th>\n",
              "      <td>8660.398374</td>\n",
              "      <td>129747.661567</td>\n",
              "      <td>0.489129</td>\n",
              "      <td>0.790349</td>\n",
              "      <td>0.521970</td>\n",
              "      <td>9.217904</td>\n",
              "      <td>1.123802</td>\n",
              "      <td>1.197186</td>\n",
              "      <td>1.196868</td>\n",
              "      <td>1.169139</td>\n",
              "      <td>...</td>\n",
              "      <td>64332.856134</td>\n",
              "      <td>60797.155770</td>\n",
              "      <td>59554.107537</td>\n",
              "      <td>16563.280354</td>\n",
              "      <td>2.304087e+04</td>\n",
              "      <td>17606.96147</td>\n",
              "      <td>15666.159744</td>\n",
              "      <td>15278.305679</td>\n",
              "      <td>17777.465775</td>\n",
              "      <td>0.415062</td>\n",
              "    </tr>\n",
              "    <tr>\n",
              "      <th>min</th>\n",
              "      <td>1.000000</td>\n",
              "      <td>10000.000000</td>\n",
              "      <td>1.000000</td>\n",
              "      <td>0.000000</td>\n",
              "      <td>0.000000</td>\n",
              "      <td>21.000000</td>\n",
              "      <td>-2.000000</td>\n",
              "      <td>-2.000000</td>\n",
              "      <td>-2.000000</td>\n",
              "      <td>-2.000000</td>\n",
              "      <td>...</td>\n",
              "      <td>-170000.000000</td>\n",
              "      <td>-81334.000000</td>\n",
              "      <td>-339603.000000</td>\n",
              "      <td>0.000000</td>\n",
              "      <td>0.000000e+00</td>\n",
              "      <td>0.00000</td>\n",
              "      <td>0.000000</td>\n",
              "      <td>0.000000</td>\n",
              "      <td>0.000000</td>\n",
              "      <td>0.000000</td>\n",
              "    </tr>\n",
              "    <tr>\n",
              "      <th>25%</th>\n",
              "      <td>7500.750000</td>\n",
              "      <td>50000.000000</td>\n",
              "      <td>1.000000</td>\n",
              "      <td>1.000000</td>\n",
              "      <td>1.000000</td>\n",
              "      <td>28.000000</td>\n",
              "      <td>-1.000000</td>\n",
              "      <td>-1.000000</td>\n",
              "      <td>-1.000000</td>\n",
              "      <td>-1.000000</td>\n",
              "      <td>...</td>\n",
              "      <td>2326.750000</td>\n",
              "      <td>1763.000000</td>\n",
              "      <td>1256.000000</td>\n",
              "      <td>1000.000000</td>\n",
              "      <td>8.330000e+02</td>\n",
              "      <td>390.00000</td>\n",
              "      <td>296.000000</td>\n",
              "      <td>252.500000</td>\n",
              "      <td>117.750000</td>\n",
              "      <td>0.000000</td>\n",
              "    </tr>\n",
              "    <tr>\n",
              "      <th>50%</th>\n",
              "      <td>15000.500000</td>\n",
              "      <td>140000.000000</td>\n",
              "      <td>2.000000</td>\n",
              "      <td>2.000000</td>\n",
              "      <td>2.000000</td>\n",
              "      <td>34.000000</td>\n",
              "      <td>0.000000</td>\n",
              "      <td>0.000000</td>\n",
              "      <td>0.000000</td>\n",
              "      <td>0.000000</td>\n",
              "      <td>...</td>\n",
              "      <td>19052.000000</td>\n",
              "      <td>18104.500000</td>\n",
              "      <td>17071.000000</td>\n",
              "      <td>2100.000000</td>\n",
              "      <td>2.009000e+03</td>\n",
              "      <td>1800.00000</td>\n",
              "      <td>1500.000000</td>\n",
              "      <td>1500.000000</td>\n",
              "      <td>1500.000000</td>\n",
              "      <td>0.000000</td>\n",
              "    </tr>\n",
              "    <tr>\n",
              "      <th>75%</th>\n",
              "      <td>22500.250000</td>\n",
              "      <td>240000.000000</td>\n",
              "      <td>2.000000</td>\n",
              "      <td>2.000000</td>\n",
              "      <td>2.000000</td>\n",
              "      <td>41.000000</td>\n",
              "      <td>0.000000</td>\n",
              "      <td>0.000000</td>\n",
              "      <td>0.000000</td>\n",
              "      <td>0.000000</td>\n",
              "      <td>...</td>\n",
              "      <td>54506.000000</td>\n",
              "      <td>50190.500000</td>\n",
              "      <td>49198.250000</td>\n",
              "      <td>5006.000000</td>\n",
              "      <td>5.000000e+03</td>\n",
              "      <td>4505.00000</td>\n",
              "      <td>4013.250000</td>\n",
              "      <td>4031.500000</td>\n",
              "      <td>4000.000000</td>\n",
              "      <td>0.000000</td>\n",
              "    </tr>\n",
              "    <tr>\n",
              "      <th>max</th>\n",
              "      <td>30000.000000</td>\n",
              "      <td>1000000.000000</td>\n",
              "      <td>2.000000</td>\n",
              "      <td>6.000000</td>\n",
              "      <td>3.000000</td>\n",
              "      <td>79.000000</td>\n",
              "      <td>8.000000</td>\n",
              "      <td>8.000000</td>\n",
              "      <td>8.000000</td>\n",
              "      <td>8.000000</td>\n",
              "      <td>...</td>\n",
              "      <td>891586.000000</td>\n",
              "      <td>927171.000000</td>\n",
              "      <td>961664.000000</td>\n",
              "      <td>873552.000000</td>\n",
              "      <td>1.684259e+06</td>\n",
              "      <td>896040.00000</td>\n",
              "      <td>621000.000000</td>\n",
              "      <td>426529.000000</td>\n",
              "      <td>528666.000000</td>\n",
              "      <td>1.000000</td>\n",
              "    </tr>\n",
              "  </tbody>\n",
              "</table>\n",
              "<p>8 rows × 25 columns</p>\n",
              "</div>\n",
              "      <button class=\"colab-df-convert\" onclick=\"convertToInteractive('df-7d23d120-6a9e-4b3f-8a45-cfbadeafc2eb')\"\n",
              "              title=\"Convert this dataframe to an interactive table.\"\n",
              "              style=\"display:none;\">\n",
              "        \n",
              "  <svg xmlns=\"http://www.w3.org/2000/svg\" height=\"24px\"viewBox=\"0 0 24 24\"\n",
              "       width=\"24px\">\n",
              "    <path d=\"M0 0h24v24H0V0z\" fill=\"none\"/>\n",
              "    <path d=\"M18.56 5.44l.94 2.06.94-2.06 2.06-.94-2.06-.94-.94-2.06-.94 2.06-2.06.94zm-11 1L8.5 8.5l.94-2.06 2.06-.94-2.06-.94L8.5 2.5l-.94 2.06-2.06.94zm10 10l.94 2.06.94-2.06 2.06-.94-2.06-.94-.94-2.06-.94 2.06-2.06.94z\"/><path d=\"M17.41 7.96l-1.37-1.37c-.4-.4-.92-.59-1.43-.59-.52 0-1.04.2-1.43.59L10.3 9.45l-7.72 7.72c-.78.78-.78 2.05 0 2.83L4 21.41c.39.39.9.59 1.41.59.51 0 1.02-.2 1.41-.59l7.78-7.78 2.81-2.81c.8-.78.8-2.07 0-2.86zM5.41 20L4 18.59l7.72-7.72 1.47 1.35L5.41 20z\"/>\n",
              "  </svg>\n",
              "      </button>\n",
              "      \n",
              "  <style>\n",
              "    .colab-df-container {\n",
              "      display:flex;\n",
              "      flex-wrap:wrap;\n",
              "      gap: 12px;\n",
              "    }\n",
              "\n",
              "    .colab-df-convert {\n",
              "      background-color: #E8F0FE;\n",
              "      border: none;\n",
              "      border-radius: 50%;\n",
              "      cursor: pointer;\n",
              "      display: none;\n",
              "      fill: #1967D2;\n",
              "      height: 32px;\n",
              "      padding: 0 0 0 0;\n",
              "      width: 32px;\n",
              "    }\n",
              "\n",
              "    .colab-df-convert:hover {\n",
              "      background-color: #E2EBFA;\n",
              "      box-shadow: 0px 1px 2px rgba(60, 64, 67, 0.3), 0px 1px 3px 1px rgba(60, 64, 67, 0.15);\n",
              "      fill: #174EA6;\n",
              "    }\n",
              "\n",
              "    [theme=dark] .colab-df-convert {\n",
              "      background-color: #3B4455;\n",
              "      fill: #D2E3FC;\n",
              "    }\n",
              "\n",
              "    [theme=dark] .colab-df-convert:hover {\n",
              "      background-color: #434B5C;\n",
              "      box-shadow: 0px 1px 3px 1px rgba(0, 0, 0, 0.15);\n",
              "      filter: drop-shadow(0px 1px 2px rgba(0, 0, 0, 0.3));\n",
              "      fill: #FFFFFF;\n",
              "    }\n",
              "  </style>\n",
              "\n",
              "      <script>\n",
              "        const buttonEl =\n",
              "          document.querySelector('#df-7d23d120-6a9e-4b3f-8a45-cfbadeafc2eb button.colab-df-convert');\n",
              "        buttonEl.style.display =\n",
              "          google.colab.kernel.accessAllowed ? 'block' : 'none';\n",
              "\n",
              "        async function convertToInteractive(key) {\n",
              "          const element = document.querySelector('#df-7d23d120-6a9e-4b3f-8a45-cfbadeafc2eb');\n",
              "          const dataTable =\n",
              "            await google.colab.kernel.invokeFunction('convertToInteractive',\n",
              "                                                     [key], {});\n",
              "          if (!dataTable) return;\n",
              "\n",
              "          const docLinkHtml = 'Like what you see? Visit the ' +\n",
              "            '<a target=\"_blank\" href=https://colab.research.google.com/notebooks/data_table.ipynb>data table notebook</a>'\n",
              "            + ' to learn more about interactive tables.';\n",
              "          element.innerHTML = '';\n",
              "          dataTable['output_type'] = 'display_data';\n",
              "          await google.colab.output.renderOutput(dataTable, element);\n",
              "          const docLink = document.createElement('div');\n",
              "          docLink.innerHTML = docLinkHtml;\n",
              "          element.appendChild(docLink);\n",
              "        }\n",
              "      </script>\n",
              "    </div>\n",
              "  </div>\n",
              "  "
            ]
          },
          "metadata": {},
          "execution_count": 9
        }
      ]
    },
    {
      "cell_type": "markdown",
      "source": [
        "There are 30,000 distinct credit card clients.\n",
        "\n",
        "The average value for the amount of credit card limit is 167,484 with max value being 10 lakhs.\n",
        "\n",
        "The average age is 35\n",
        "\n",
        "Education Level is mostly graduate school and university.\n",
        "\n",
        "Most of the clients are either married or single"
      ],
      "metadata": {
        "id": "4SkXCOYnxQGJ"
      }
    },
    {
      "cell_type": "code",
      "source": [
        "df.columns"
      ],
      "metadata": {
        "colab": {
          "base_uri": "https://localhost:8080/"
        },
        "id": "DoDIb0MKwSHc",
        "outputId": "32d68b3f-1207-4ce7-d2d4-792a2fd91ace"
      },
      "execution_count": 10,
      "outputs": [
        {
          "output_type": "execute_result",
          "data": {
            "text/plain": [
              "Index(['ID', 'LIMIT_BAL', 'SEX', 'EDUCATION', 'MARRIAGE', 'AGE', 'PAY_0',\n",
              "       'PAY_2', 'PAY_3', 'PAY_4', 'PAY_5', 'PAY_6', 'BILL_AMT1', 'BILL_AMT2',\n",
              "       'BILL_AMT3', 'BILL_AMT4', 'BILL_AMT5', 'BILL_AMT6', 'PAY_AMT1',\n",
              "       'PAY_AMT2', 'PAY_AMT3', 'PAY_AMT4', 'PAY_AMT5', 'PAY_AMT6',\n",
              "       'default.payment.next.month'],\n",
              "      dtype='object')"
            ]
          },
          "metadata": {},
          "execution_count": 10
        }
      ]
    },
    {
      "cell_type": "code",
      "source": [
        "#Checking missing values in each column\n",
        "df.isna().sum()"
      ],
      "metadata": {
        "colab": {
          "base_uri": "https://localhost:8080/"
        },
        "id": "OrU-qrU2MNQx",
        "outputId": "f1f2f590-c741-4841-c6f6-f087d25ef77b"
      },
      "execution_count": 11,
      "outputs": [
        {
          "output_type": "execute_result",
          "data": {
            "text/plain": [
              "ID                            0\n",
              "LIMIT_BAL                     0\n",
              "SEX                           0\n",
              "EDUCATION                     0\n",
              "MARRIAGE                      0\n",
              "AGE                           0\n",
              "PAY_0                         0\n",
              "PAY_2                         0\n",
              "PAY_3                         0\n",
              "PAY_4                         0\n",
              "PAY_5                         0\n",
              "PAY_6                         0\n",
              "BILL_AMT1                     0\n",
              "BILL_AMT2                     0\n",
              "BILL_AMT3                     0\n",
              "BILL_AMT4                     0\n",
              "BILL_AMT5                     0\n",
              "BILL_AMT6                     0\n",
              "PAY_AMT1                      0\n",
              "PAY_AMT2                      0\n",
              "PAY_AMT3                      0\n",
              "PAY_AMT4                      0\n",
              "PAY_AMT5                      0\n",
              "PAY_AMT6                      0\n",
              "default.payment.next.month    0\n",
              "dtype: int64"
            ]
          },
          "metadata": {},
          "execution_count": 11
        }
      ]
    },
    {
      "cell_type": "code",
      "source": [
        "# Understand the data by checking the first row\n",
        "df.loc[0]"
      ],
      "metadata": {
        "colab": {
          "base_uri": "https://localhost:8080/"
        },
        "id": "Y42X_byPweSj",
        "outputId": "c05d9fd5-b066-4c05-8a5d-6bc913a82d7e"
      },
      "execution_count": 12,
      "outputs": [
        {
          "output_type": "execute_result",
          "data": {
            "text/plain": [
              "ID                                1.0\n",
              "LIMIT_BAL                     20000.0\n",
              "SEX                               2.0\n",
              "EDUCATION                         2.0\n",
              "MARRIAGE                          1.0\n",
              "AGE                              24.0\n",
              "PAY_0                             2.0\n",
              "PAY_2                             2.0\n",
              "PAY_3                            -1.0\n",
              "PAY_4                            -1.0\n",
              "PAY_5                            -2.0\n",
              "PAY_6                            -2.0\n",
              "BILL_AMT1                      3913.0\n",
              "BILL_AMT2                      3102.0\n",
              "BILL_AMT3                       689.0\n",
              "BILL_AMT4                         0.0\n",
              "BILL_AMT5                         0.0\n",
              "BILL_AMT6                         0.0\n",
              "PAY_AMT1                          0.0\n",
              "PAY_AMT2                        689.0\n",
              "PAY_AMT3                          0.0\n",
              "PAY_AMT4                          0.0\n",
              "PAY_AMT5                          0.0\n",
              "PAY_AMT6                          0.0\n",
              "default.payment.next.month        1.0\n",
              "Name: 0, dtype: float64"
            ]
          },
          "metadata": {},
          "execution_count": 12
        }
      ]
    },
    {
      "cell_type": "code",
      "source": [
        "# Get the proportion of customers who had default payment in the next month (Oct.2005) \n",
        "# About 22% customers had default payment next month\n",
        "\n",
        "df['default.payment.next.month'].value_counts(normalize=True)"
      ],
      "metadata": {
        "colab": {
          "base_uri": "https://localhost:8080/"
        },
        "id": "9jKLG-vr1twR",
        "outputId": "51b3b3b8-7003-4dc3-cb5d-2293cd0f98e0"
      },
      "execution_count": 13,
      "outputs": [
        {
          "output_type": "execute_result",
          "data": {
            "text/plain": [
              "0    0.7788\n",
              "1    0.2212\n",
              "Name: default.payment.next.month, dtype: float64"
            ]
          },
          "metadata": {},
          "execution_count": 13
        }
      ]
    },
    {
      "cell_type": "markdown",
      "source": [
        "# **3. Data Cleaning**\n",
        "**3.1  Check missing values, column type and column names**\n",
        "\n",
        "There is no missing value, all columns have the correct type, and most columns are named consistently. \n",
        "\n",
        "\n",
        "\n",
        "\n"
      ],
      "metadata": {
        "id": "KkOp959110gi"
      }
    },
    {
      "cell_type": "code",
      "source": [
        "# percentage of missing values in our dataset\n",
        "missing_values = (((df.isnull().sum()).sum())/df.size)*100\n",
        "missing_values"
      ],
      "metadata": {
        "colab": {
          "base_uri": "https://localhost:8080/"
        },
        "id": "bN0K53wmCO8x",
        "outputId": "b0593078-fedc-45ce-d9d5-d5f8b4643514"
      },
      "execution_count": 14,
      "outputs": [
        {
          "output_type": "execute_result",
          "data": {
            "text/plain": [
              "0.0"
            ]
          },
          "metadata": {},
          "execution_count": 14
        }
      ]
    },
    {
      "cell_type": "code",
      "source": [
        "#Heatmap for Null values check in cleaned database \n",
        "sns.heatmap(df.isnull() , yticklabels=False , cbar=False , cmap='viridis')"
      ],
      "metadata": {
        "colab": {
          "base_uri": "https://localhost:8080/",
          "height": 416
        },
        "id": "4wP0RXahCdQf",
        "outputId": "3117baa6-a5e2-4375-f8d4-da46e7fc4b42"
      },
      "execution_count": 15,
      "outputs": [
        {
          "output_type": "execute_result",
          "data": {
            "text/plain": [
              "<matplotlib.axes._subplots.AxesSubplot at 0x7f6efe1fb6d0>"
            ]
          },
          "metadata": {},
          "execution_count": 15
        },
        {
          "output_type": "display_data",
          "data": {
            "text/plain": [
              "<Figure size 432x288 with 1 Axes>"
            ],
            "image/png": "[encoded data removed]"
          },
          "metadata": {
            "needs_background": "light"
          }
        }
      ]
    },
    {
      "cell_type": "code",
      "source": [
        "# Checking column names, column data type and indentify any missing values\n",
        "df.info()"
      ],
      "metadata": {
        "colab": {
          "base_uri": "https://localhost:8080/"
        },
        "id": "AezFKWJD82ZI",
        "outputId": "82eccf21-b851-4f69-cf06-ce60fa054866"
      },
      "execution_count": 16,
      "outputs": [
        {
          "output_type": "stream",
          "name": "stdout",
          "text": [
            "<class 'pandas.core.frame.DataFrame'>\n",
            "RangeIndex: 30000 entries, 0 to 29999\n",
            "Data columns (total 25 columns):\n",
            " #   Column                      Non-Null Count  Dtype  \n",
            "---  ------                      --------------  -----  \n",
            " 0   ID                          30000 non-null  int64  \n",
            " 1   LIMIT_BAL                   30000 non-null  float64\n",
            " 2   SEX                         30000 non-null  int64  \n",
            " 3   EDUCATION                   30000 non-null  int64  \n",
            " 4   MARRIAGE                    30000 non-null  int64  \n",
            " 5   AGE                         30000 non-null  int64  \n",
            " 6   PAY_0                       30000 non-null  int64  \n",
            " 7   PAY_2                       30000 non-null  int64  \n",
            " 8   PAY_3                       30000 non-null  int64  \n",
            " 9   PAY_4                       30000 non-null  int64  \n",
            " 10  PAY_5                       30000 non-null  int64  \n",
            " 11  PAY_6                       30000 non-null  int64  \n",
            " 12  BILL_AMT1                   30000 non-null  float64\n",
            " 13  BILL_AMT2                   30000 non-null  float64\n",
            " 14  BILL_AMT3                   30000 non-null  float64\n",
            " 15  BILL_AMT4                   30000 non-null  float64\n",
            " 16  BILL_AMT5                   30000 non-null  float64\n",
            " 17  BILL_AMT6                   30000 non-null  float64\n",
            " 18  PAY_AMT1                    30000 non-null  float64\n",
            " 19  PAY_AMT2                    30000 non-null  float64\n",
            " 20  PAY_AMT3                    30000 non-null  float64\n",
            " 21  PAY_AMT4                    30000 non-null  float64\n",
            " 22  PAY_AMT5                    30000 non-null  float64\n",
            " 23  PAY_AMT6                    30000 non-null  float64\n",
            " 24  default.payment.next.month  30000 non-null  int64  \n",
            "dtypes: float64(13), int64(12)\n",
            "memory usage: 5.7 MB\n"
          ]
        }
      ]
    },
    {
      "cell_type": "code",
      "source": [
        "# Changing column names \"PAY_0\" to 'PAY_1' for order\n",
        "\n",
        "df.rename(columns={'PAY_0':'PAY_1','default.payment.next.month':'DEF_PAY'},inplace = True)\n",
        "df.columns\n"
      ],
      "metadata": {
        "colab": {
          "base_uri": "https://localhost:8080/"
        },
        "id": "mr7_sPbL8896",
        "outputId": "9e90849f-32bf-4707-996a-470e6f498280"
      },
      "execution_count": 17,
      "outputs": [
        {
          "output_type": "execute_result",
          "data": {
            "text/plain": [
              "Index(['ID', 'LIMIT_BAL', 'SEX', 'EDUCATION', 'MARRIAGE', 'AGE', 'PAY_1',\n",
              "       'PAY_2', 'PAY_3', 'PAY_4', 'PAY_5', 'PAY_6', 'BILL_AMT1', 'BILL_AMT2',\n",
              "       'BILL_AMT3', 'BILL_AMT4', 'BILL_AMT5', 'BILL_AMT6', 'PAY_AMT1',\n",
              "       'PAY_AMT2', 'PAY_AMT3', 'PAY_AMT4', 'PAY_AMT5', 'PAY_AMT6', 'DEF_PAY'],\n",
              "      dtype='object')"
            ]
          },
          "metadata": {},
          "execution_count": 17
        }
      ]
    },
    {
      "cell_type": "markdown",
      "source": [
        "# **3.2 Check duplicate records**\n",
        "\n",
        "There are no duplicate IDs or rows."
      ],
      "metadata": {
        "id": "tWbkpoCjAZOD"
      }
    },
    {
      "cell_type": "code",
      "source": [
        "# Check if there is any duplicate IDs In Dataset\n",
        "condition = bool(df.duplicated(subset = 'ID').any())\n",
        "\n",
        "if condition:\n",
        "    print('There are duplicate IDs')\n",
        "else:\n",
        "    print('No duplicate IDs')"
      ],
      "metadata": {
        "colab": {
          "base_uri": "https://localhost:8080/"
        },
        "id": "9dGEELXBAfpg",
        "outputId": "aa452cd2-02c9-4d45-c2da-5e94b8f99de7"
      },
      "execution_count": 18,
      "outputs": [
        {
          "output_type": "stream",
          "name": "stdout",
          "text": [
            "No duplicate IDs\n"
          ]
        }
      ]
    },
    {
      "cell_type": "markdown",
      "source": [
        "# 3.3 Identifying Outliers in the dataset"
      ],
      "metadata": {
        "id": "rKIo2t9xDXt2"
      }
    },
    {
      "cell_type": "code",
      "source": [
        "# Using boxplot to identify any outlier in credit limit\n",
        "\n",
        "df[\"LIMIT_BAL\"].plot(kind=\"box\")\n",
        "plt.xlabel('Credit limit in NT$', fontweight='bold')\n",
        "plt.ylabel('# of Customers', fontweight='bold')\n",
        "plt.show()"
      ],
      "metadata": {
        "colab": {
          "base_uri": "https://localhost:8080/",
          "height": 291
        },
        "id": "zuljZe2sE2HJ",
        "outputId": "91e336e5-c59c-463a-fdc2-73247ef1b5a5"
      },
      "execution_count": 19,
      "outputs": [
        {
          "output_type": "display_data",
          "data": {
            "text/plain": [
              "<Figure size 432x288 with 1 Axes>"
            ],
            "image/png": "[encoded data removed]"
          },
          "metadata": {
            "needs_background": "light"
          }
        }
      ]
    },
    {
      "cell_type": "code",
      "source": [
        "# Taking a close look at the outlier with a value of 1 MILLION NT DOLLARS\n",
        "# The observations from other columns indicate that this was just ONE CUSTOMER who has an excellent payment history\n",
        "# Therefore it should be considered as a valid data\n",
        "\n",
        "outliers = df.loc[df['LIMIT_BAL']>900000]\n",
        "outliers"
      ],
      "metadata": {
        "colab": {
          "base_uri": "https://localhost:8080/",
          "height": 174
        },
        "id": "Ag3UJWI0F2xP",
        "outputId": "363c73ec-a729-4242-845a-093e6a0b239f"
      },
      "execution_count": 20,
      "outputs": [
        {
          "output_type": "execute_result",
          "data": {
            "text/plain": [
              "        ID  LIMIT_BAL  SEX  EDUCATION  MARRIAGE  AGE  PAY_1  PAY_2  PAY_3  \\\n",
              "2197  2198  1000000.0    2          1         1   47      0      0      0   \n",
              "\n",
              "      PAY_4  ...  BILL_AMT4  BILL_AMT5  BILL_AMT6  PAY_AMT1  PAY_AMT2  \\\n",
              "2197     -1  ...   891586.0   927171.0   961664.0   50784.0   50723.0   \n",
              "\n",
              "      PAY_AMT3  PAY_AMT4  PAY_AMT5  PAY_AMT6  DEF_PAY  \n",
              "2197  896040.0   50000.0   50000.0   50256.0        0  \n",
              "\n",
              "[1 rows x 25 columns]"
            ],
            "text/html": [
              "\n",
              "  <div id=\"df-97b99205-a0f7-438d-b4de-9119bab2afaa\">\n",
              "    <div class=\"colab-df-container\">\n",
              "      <div>\n",
              "<style scoped>\n",
              "    .dataframe tbody tr th:only-of-type {\n",
              "        vertical-align: middle;\n",
              "    }\n",
              "\n",
              "    .dataframe tbody tr th {\n",
              "        vertical-align: top;\n",
              "    }\n",
              "\n",
              "    .dataframe thead th {\n",
              "        text-align: right;\n",
              "    }\n",
              "</style>\n",
              "<table border=\"1\" class=\"dataframe\">\n",
              "  <thead>\n",
              "    <tr style=\"text-align: right;\">\n",
              "      <th></th>\n",
              "      <th>ID</th>\n",
              "      <th>LIMIT_BAL</th>\n",
              "      <th>SEX</th>\n",
              "      <th>EDUCATION</th>\n",
              "      <th>MARRIAGE</th>\n",
              "      <th>AGE</th>\n",
              "      <th>PAY_1</th>\n",
              "      <th>PAY_2</th>\n",
              "      <th>PAY_3</th>\n",
              "      <th>PAY_4</th>\n",
              "      <th>...</th>\n",
              "      <th>BILL_AMT4</th>\n",
              "      <th>BILL_AMT5</th>\n",
              "      <th>BILL_AMT6</th>\n",
              "      <th>PAY_AMT1</th>\n",
              "      <th>PAY_AMT2</th>\n",
              "      <th>PAY_AMT3</th>\n",
              "      <th>PAY_AMT4</th>\n",
              "      <th>PAY_AMT5</th>\n",
              "      <th>PAY_AMT6</th>\n",
              "      <th>DEF_PAY</th>\n",
              "    </tr>\n",
              "  </thead>\n",
              "  <tbody>\n",
              "    <tr>\n",
              "      <th>2197</th>\n",
              "      <td>2198</td>\n",
              "      <td>1000000.0</td>\n",
              "      <td>2</td>\n",
              "      <td>1</td>\n",
              "      <td>1</td>\n",
              "      <td>47</td>\n",
              "      <td>0</td>\n",
              "      <td>0</td>\n",
              "      <td>0</td>\n",
              "      <td>-1</td>\n",
              "      <td>...</td>\n",
              "      <td>891586.0</td>\n",
              "      <td>927171.0</td>\n",
              "      <td>961664.0</td>\n",
              "      <td>50784.0</td>\n",
              "      <td>50723.0</td>\n",
              "      <td>896040.0</td>\n",
              "      <td>50000.0</td>\n",
              "      <td>50000.0</td>\n",
              "      <td>50256.0</td>\n",
              "      <td>0</td>\n",
              "    </tr>\n",
              "  </tbody>\n",
              "</table>\n",
              "<p>1 rows × 25 columns</p>\n",
              "</div>\n",
              "      <button class=\"colab-df-convert\" onclick=\"convertToInteractive('df-97b99205-a0f7-438d-b4de-9119bab2afaa')\"\n",
              "              title=\"Convert this dataframe to an interactive table.\"\n",
              "              style=\"display:none;\">\n",
              "        \n",
              "  <svg xmlns=\"http://www.w3.org/2000/svg\" height=\"24px\"viewBox=\"0 0 24 24\"\n",
              "       width=\"24px\">\n",
              "    <path d=\"M0 0h24v24H0V0z\" fill=\"none\"/>\n",
              "    <path d=\"M18.56 5.44l.94 2.06.94-2.06 2.06-.94-2.06-.94-.94-2.06-.94 2.06-2.06.94zm-11 1L8.5 8.5l.94-2.06 2.06-.94-2.06-.94L8.5 2.5l-.94 2.06-2.06.94zm10 10l.94 2.06.94-2.06 2.06-.94-2.06-.94-.94-2.06-.94 2.06-2.06.94z\"/><path d=\"M17.41 7.96l-1.37-1.37c-.4-.4-.92-.59-1.43-.59-.52 0-1.04.2-1.43.59L10.3 9.45l-7.72 7.72c-.78.78-.78 2.05 0 2.83L4 21.41c.39.39.9.59 1.41.59.51 0 1.02-.2 1.41-.59l7.78-7.78 2.81-2.81c.8-.78.8-2.07 0-2.86zM5.41 20L4 18.59l7.72-7.72 1.47 1.35L5.41 20z\"/>\n",
              "  </svg>\n",
              "      </button>\n",
              "      \n",
              "  <style>\n",
              "    .colab-df-container {\n",
              "      display:flex;\n",
              "      flex-wrap:wrap;\n",
              "      gap: 12px;\n",
              "    }\n",
              "\n",
              "    .colab-df-convert {\n",
              "      background-color: #E8F0FE;\n",
              "      border: none;\n",
              "      border-radius: 50%;\n",
              "      cursor: pointer;\n",
              "      display: none;\n",
              "      fill: #1967D2;\n",
              "      height: 32px;\n",
              "      padding: 0 0 0 0;\n",
              "      width: 32px;\n",
              "    }\n",
              "\n",
              "    .colab-df-convert:hover {\n",
              "      background-color: #E2EBFA;\n",
              "      box-shadow: 0px 1px 2px rgba(60, 64, 67, 0.3), 0px 1px 3px 1px rgba(60, 64, 67, 0.15);\n",
              "      fill: #174EA6;\n",
              "    }\n",
              "\n",
              "    [theme=dark] .colab-df-convert {\n",
              "      background-color: #3B4455;\n",
              "      fill: #D2E3FC;\n",
              "    }\n",
              "\n",
              "    [theme=dark] .colab-df-convert:hover {\n",
              "      background-color: #434B5C;\n",
              "      box-shadow: 0px 1px 3px 1px rgba(0, 0, 0, 0.15);\n",
              "      filter: drop-shadow(0px 1px 2px rgba(0, 0, 0, 0.3));\n",
              "      fill: #FFFFFF;\n",
              "    }\n",
              "  </style>\n",
              "\n",
              "      <script>\n",
              "        const buttonEl =\n",
              "          document.querySelector('#df-97b99205-a0f7-438d-b4de-9119bab2afaa button.colab-df-convert');\n",
              "        buttonEl.style.display =\n",
              "          google.colab.kernel.accessAllowed ? 'block' : 'none';\n",
              "\n",
              "        async function convertToInteractive(key) {\n",
              "          const element = document.querySelector('#df-97b99205-a0f7-438d-b4de-9119bab2afaa');\n",
              "          const dataTable =\n",
              "            await google.colab.kernel.invokeFunction('convertToInteractive',\n",
              "                                                     [key], {});\n",
              "          if (!dataTable) return;\n",
              "\n",
              "          const docLinkHtml = 'Like what you see? Visit the ' +\n",
              "            '<a target=\"_blank\" href=https://colab.research.google.com/notebooks/data_table.ipynb>data table notebook</a>'\n",
              "            + ' to learn more about interactive tables.';\n",
              "          element.innerHTML = '';\n",
              "          dataTable['output_type'] = 'display_data';\n",
              "          await google.colab.output.renderOutput(dataTable, element);\n",
              "          const docLink = document.createElement('div');\n",
              "          docLink.innerHTML = docLinkHtml;\n",
              "          element.appendChild(docLink);\n",
              "        }\n",
              "      </script>\n",
              "    </div>\n",
              "  </div>\n",
              "  "
            ]
          },
          "metadata": {},
          "execution_count": 20
        }
      ]
    },
    {
      "cell_type": "markdown",
      "source": [
        "# **3.4 Check categorical columns**\n",
        "Next, we will check these 3 columns: SEX', 'EDUCATION' and 'MARRIAGE'. The 'SEX' column looks good, while 'EDUCATION' and 'MARRIAGE' columns have some unregulated data and 'EDUCATION' column has duplicated values in different codes."
      ],
      "metadata": {
        "id": "JAHTFxlHHukm"
      }
    },
    {
      "cell_type": "code",
      "source": [
        "categorical_data = []\n",
        "for i in df.columns:\n",
        "  if len(df[i].unique()) <= 15:\n",
        "    categorical_data.append(i)\n"
      ],
      "metadata": {
        "id": "RscL0OHDa20-"
      },
      "execution_count": 21,
      "outputs": []
    },
    {
      "cell_type": "code",
      "source": [
        "categorical_data\n"
      ],
      "metadata": {
        "colab": {
          "base_uri": "https://localhost:8080/"
        },
        "id": "fDgBdBVF8kIT",
        "outputId": "41f93dcb-fa6a-435d-bb67-4b4ce46200b6"
      },
      "execution_count": 22,
      "outputs": [
        {
          "output_type": "execute_result",
          "data": {
            "text/plain": [
              "['SEX',\n",
              " 'EDUCATION',\n",
              " 'MARRIAGE',\n",
              " 'PAY_1',\n",
              " 'PAY_2',\n",
              " 'PAY_3',\n",
              " 'PAY_4',\n",
              " 'PAY_5',\n",
              " 'PAY_6',\n",
              " 'DEF_PAY']"
            ]
          },
          "metadata": {},
          "execution_count": 22
        }
      ]
    },
    {
      "cell_type": "code",
      "source": [
        "# statistics for these columns\n",
        "df[['SEX', 'EDUCATION', 'MARRIAGE']].describe()"
      ],
      "metadata": {
        "id": "_UM9GMPhG0te",
        "colab": {
          "base_uri": "https://localhost:8080/",
          "height": 300
        },
        "outputId": "8c5d4cf1-0be1-4db7-aa53-54cef72e2067"
      },
      "execution_count": 23,
      "outputs": [
        {
          "output_type": "execute_result",
          "data": {
            "text/plain": [
              "                SEX     EDUCATION      MARRIAGE\n",
              "count  30000.000000  30000.000000  30000.000000\n",
              "mean       1.603733      1.853133      1.551867\n",
              "std        0.489129      0.790349      0.521970\n",
              "min        1.000000      0.000000      0.000000\n",
              "25%        1.000000      1.000000      1.000000\n",
              "50%        2.000000      2.000000      2.000000\n",
              "75%        2.000000      2.000000      2.000000\n",
              "max        2.000000      6.000000      3.000000"
            ],
            "text/html": [
              "\n",
              "  <div id=\"df-e3f1f75f-d342-4aef-a685-6bf332361761\">\n",
              "    <div class=\"colab-df-container\">\n",
              "      <div>\n",
              "<style scoped>\n",
              "    .dataframe tbody tr th:only-of-type {\n",
              "        vertical-align: middle;\n",
              "    }\n",
              "\n",
              "    .dataframe tbody tr th {\n",
              "        vertical-align: top;\n",
              "    }\n",
              "\n",
              "    .dataframe thead th {\n",
              "        text-align: right;\n",
              "    }\n",
              "</style>\n",
              "<table border=\"1\" class=\"dataframe\">\n",
              "  <thead>\n",
              "    <tr style=\"text-align: right;\">\n",
              "      <th></th>\n",
              "      <th>SEX</th>\n",
              "      <th>EDUCATION</th>\n",
              "      <th>MARRIAGE</th>\n",
              "    </tr>\n",
              "  </thead>\n",
              "  <tbody>\n",
              "    <tr>\n",
              "      <th>count</th>\n",
              "      <td>30000.000000</td>\n",
              "      <td>30000.000000</td>\n",
              "      <td>30000.000000</td>\n",
              "    </tr>\n",
              "    <tr>\n",
              "      <th>mean</th>\n",
              "      <td>1.603733</td>\n",
              "      <td>1.853133</td>\n",
              "      <td>1.551867</td>\n",
              "    </tr>\n",
              "    <tr>\n",
              "      <th>std</th>\n",
              "      <td>0.489129</td>\n",
              "      <td>0.790349</td>\n",
              "      <td>0.521970</td>\n",
              "    </tr>\n",
              "    <tr>\n",
              "      <th>min</th>\n",
              "      <td>1.000000</td>\n",
              "      <td>0.000000</td>\n",
              "      <td>0.000000</td>\n",
              "    </tr>\n",
              "    <tr>\n",
              "      <th>25%</th>\n",
              "      <td>1.000000</td>\n",
              "      <td>1.000000</td>\n",
              "      <td>1.000000</td>\n",
              "    </tr>\n",
              "    <tr>\n",
              "      <th>50%</th>\n",
              "      <td>2.000000</td>\n",
              "      <td>2.000000</td>\n",
              "      <td>2.000000</td>\n",
              "    </tr>\n",
              "    <tr>\n",
              "      <th>75%</th>\n",
              "      <td>2.000000</td>\n",
              "      <td>2.000000</td>\n",
              "      <td>2.000000</td>\n",
              "    </tr>\n",
              "    <tr>\n",
              "      <th>max</th>\n",
              "      <td>2.000000</td>\n",
              "      <td>6.000000</td>\n",
              "      <td>3.000000</td>\n",
              "    </tr>\n",
              "  </tbody>\n",
              "</table>\n",
              "</div>\n",
              "      <button class=\"colab-df-convert\" onclick=\"convertToInteractive('df-e3f1f75f-d342-4aef-a685-6bf332361761')\"\n",
              "              title=\"Convert this dataframe to an interactive table.\"\n",
              "              style=\"display:none;\">\n",
              "        \n",
              "  <svg xmlns=\"http://www.w3.org/2000/svg\" height=\"24px\"viewBox=\"0 0 24 24\"\n",
              "       width=\"24px\">\n",
              "    <path d=\"M0 0h24v24H0V0z\" fill=\"none\"/>\n",
              "    <path d=\"M18.56 5.44l.94 2.06.94-2.06 2.06-.94-2.06-.94-.94-2.06-.94 2.06-2.06.94zm-11 1L8.5 8.5l.94-2.06 2.06-.94-2.06-.94L8.5 2.5l-.94 2.06-2.06.94zm10 10l.94 2.06.94-2.06 2.06-.94-2.06-.94-.94-2.06-.94 2.06-2.06.94z\"/><path d=\"M17.41 7.96l-1.37-1.37c-.4-.4-.92-.59-1.43-.59-.52 0-1.04.2-1.43.59L10.3 9.45l-7.72 7.72c-.78.78-.78 2.05 0 2.83L4 21.41c.39.39.9.59 1.41.59.51 0 1.02-.2 1.41-.59l7.78-7.78 2.81-2.81c.8-.78.8-2.07 0-2.86zM5.41 20L4 18.59l7.72-7.72 1.47 1.35L5.41 20z\"/>\n",
              "  </svg>\n",
              "      </button>\n",
              "      \n",
              "  <style>\n",
              "    .colab-df-container {\n",
              "      display:flex;\n",
              "      flex-wrap:wrap;\n",
              "      gap: 12px;\n",
              "    }\n",
              "\n",
              "    .colab-df-convert {\n",
              "      background-color: #E8F0FE;\n",
              "      border: none;\n",
              "      border-radius: 50%;\n",
              "      cursor: pointer;\n",
              "      display: none;\n",
              "      fill: #1967D2;\n",
              "      height: 32px;\n",
              "      padding: 0 0 0 0;\n",
              "      width: 32px;\n",
              "    }\n",
              "\n",
              "    .colab-df-convert:hover {\n",
              "      background-color: #E2EBFA;\n",
              "      box-shadow: 0px 1px 2px rgba(60, 64, 67, 0.3), 0px 1px 3px 1px rgba(60, 64, 67, 0.15);\n",
              "      fill: #174EA6;\n",
              "    }\n",
              "\n",
              "    [theme=dark] .colab-df-convert {\n",
              "      background-color: #3B4455;\n",
              "      fill: #D2E3FC;\n",
              "    }\n",
              "\n",
              "    [theme=dark] .colab-df-convert:hover {\n",
              "      background-color: #434B5C;\n",
              "      box-shadow: 0px 1px 3px 1px rgba(0, 0, 0, 0.15);\n",
              "      filter: drop-shadow(0px 1px 2px rgba(0, 0, 0, 0.3));\n",
              "      fill: #FFFFFF;\n",
              "    }\n",
              "  </style>\n",
              "\n",
              "      <script>\n",
              "        const buttonEl =\n",
              "          document.querySelector('#df-e3f1f75f-d342-4aef-a685-6bf332361761 button.colab-df-convert');\n",
              "        buttonEl.style.display =\n",
              "          google.colab.kernel.accessAllowed ? 'block' : 'none';\n",
              "\n",
              "        async function convertToInteractive(key) {\n",
              "          const element = document.querySelector('#df-e3f1f75f-d342-4aef-a685-6bf332361761');\n",
              "          const dataTable =\n",
              "            await google.colab.kernel.invokeFunction('convertToInteractive',\n",
              "                                                     [key], {});\n",
              "          if (!dataTable) return;\n",
              "\n",
              "          const docLinkHtml = 'Like what you see? Visit the ' +\n",
              "            '<a target=\"_blank\" href=https://colab.research.google.com/notebooks/data_table.ipynb>data table notebook</a>'\n",
              "            + ' to learn more about interactive tables.';\n",
              "          element.innerHTML = '';\n",
              "          dataTable['output_type'] = 'display_data';\n",
              "          await google.colab.output.renderOutput(dataTable, element);\n",
              "          const docLink = document.createElement('div');\n",
              "          docLink.innerHTML = docLinkHtml;\n",
              "          element.appendChild(docLink);\n",
              "        }\n",
              "      </script>\n",
              "    </div>\n",
              "  </div>\n",
              "  "
            ]
          },
          "metadata": {},
          "execution_count": 23
        }
      ]
    },
    {
      "cell_type": "code",
      "source": [
        "# Get the total counts of each EDUCATION level\n",
        "df.EDUCATION.value_counts()"
      ],
      "metadata": {
        "colab": {
          "base_uri": "https://localhost:8080/"
        },
        "id": "oRu1G7n1MYiZ",
        "outputId": "a01d01ed-f4d5-44f3-a9df-d0354327bf2b"
      },
      "execution_count": 24,
      "outputs": [
        {
          "output_type": "execute_result",
          "data": {
            "text/plain": [
              "2    14030\n",
              "1    10585\n",
              "3     4917\n",
              "5      280\n",
              "4      123\n",
              "6       51\n",
              "0       14\n",
              "Name: EDUCATION, dtype: int64"
            ]
          },
          "metadata": {},
          "execution_count": 24
        }
      ]
    },
    {
      "cell_type": "code",
      "source": [
        "df['EDUCATION']=np.where(df['EDUCATION'] == 0, 4, df['EDUCATION'])\n",
        "df['EDUCATION']=np.where(df['EDUCATION'] == 5, 4, df['EDUCATION'])\n",
        "df['EDUCATION']=np.where(df['EDUCATION'] == 6, 4, df['EDUCATION'])"
      ],
      "metadata": {
        "id": "9hQJscuBEuDE"
      },
      "execution_count": 25,
      "outputs": []
    },
    {
      "cell_type": "code",
      "source": [
        "df.EDUCATION.value_counts()"
      ],
      "metadata": {
        "colab": {
          "base_uri": "https://localhost:8080/"
        },
        "id": "e-www7joE0Xn",
        "outputId": "e52d8083-3524-4ab6-8ca5-1bac9c596c07"
      },
      "execution_count": 26,
      "outputs": [
        {
          "output_type": "execute_result",
          "data": {
            "text/plain": [
              "2    14030\n",
              "1    10585\n",
              "3     4917\n",
              "4      468\n",
              "Name: EDUCATION, dtype: int64"
            ]
          },
          "metadata": {},
          "execution_count": 26
        }
      ]
    },
    {
      "cell_type": "markdown",
      "source": [
        "The MARRAIGE column also has an undocumented '0' value, so we'll do the same and reassign it as '3' for 'other'. It's safe to do this because 'other' could stand for 'divorced' or another type of relationship status."
      ],
      "metadata": {
        "id": "0ZEEN_xfGwLT"
      }
    },
    {
      "cell_type": "code",
      "source": [
        "# fixing 'MARRIAGE' column by putting unknown variables in 'other' category (3)\n",
        "df.loc[df.MARRIAGE == 0, 'MARRIAGE'] = 3"
      ],
      "metadata": {
        "id": "rcU7Qr1AHnaZ"
      },
      "execution_count": 27,
      "outputs": []
    },
    {
      "cell_type": "code",
      "source": [
        "#total counts after replacing 0 with 3\n",
        "df.MARRIAGE.value_counts()"
      ],
      "metadata": {
        "colab": {
          "base_uri": "https://localhost:8080/"
        },
        "id": "j2rqeUFgM9jx",
        "outputId": "031f9701-649d-43da-98a1-8bd4b1746af2"
      },
      "execution_count": 28,
      "outputs": [
        {
          "output_type": "execute_result",
          "data": {
            "text/plain": [
              "2    15964\n",
              "1    13659\n",
              "3      377\n",
              "Name: MARRIAGE, dtype: int64"
            ]
          },
          "metadata": {},
          "execution_count": 28
        }
      ]
    },
    {
      "cell_type": "code",
      "source": [
        "#Get SEX column's distribution. 1: male; 2: female\n",
        "df['SEX'].value_counts(dropna=False)"
      ],
      "metadata": {
        "id": "1vc7zMIxzfc5",
        "outputId": "decd7991-3420-4109-ba95-1618c64d27a0",
        "colab": {
          "base_uri": "https://localhost:8080/"
        }
      },
      "execution_count": 29,
      "outputs": [
        {
          "output_type": "execute_result",
          "data": {
            "text/plain": [
              "2    18112\n",
              "1    11888\n",
              "Name: SEX, dtype: int64"
            ]
          },
          "metadata": {},
          "execution_count": 29
        }
      ]
    },
    {
      "cell_type": "markdown",
      "source": [
        "## **3.5 Check Numerical Data**"
      ],
      "metadata": {
        "id": "kJTpGvzA89FB"
      }
    },
    {
      "cell_type": "code",
      "source": [
        "numerical_data = []\n",
        "for i in df.columns:\n",
        "  if len(df[i].unique()) > 15:\n",
        "    numerical_data.append(i)"
      ],
      "metadata": {
        "id": "SjqK_gNn9Dyx"
      },
      "execution_count": 30,
      "outputs": []
    },
    {
      "cell_type": "code",
      "source": [
        "numerical_data"
      ],
      "metadata": {
        "colab": {
          "base_uri": "https://localhost:8080/"
        },
        "id": "B6npBbmw9FaR",
        "outputId": "e2bf79d0-dfd6-4c31-eb62-9aadae925446"
      },
      "execution_count": 31,
      "outputs": [
        {
          "output_type": "execute_result",
          "data": {
            "text/plain": [
              "['ID',\n",
              " 'LIMIT_BAL',\n",
              " 'AGE',\n",
              " 'BILL_AMT1',\n",
              " 'BILL_AMT2',\n",
              " 'BILL_AMT3',\n",
              " 'BILL_AMT4',\n",
              " 'BILL_AMT5',\n",
              " 'BILL_AMT6',\n",
              " 'PAY_AMT1',\n",
              " 'PAY_AMT2',\n",
              " 'PAY_AMT3',\n",
              " 'PAY_AMT4',\n",
              " 'PAY_AMT5',\n",
              " 'PAY_AMT6']"
            ]
          },
          "metadata": {},
          "execution_count": 31
        }
      ]
    },
    {
      "cell_type": "code",
      "source": [
        "# Box plot on Numerical Dataset \n",
        "plt.figure(figsize=(15, 8))\n",
        "sns.boxplot(data = df[numerical_data])\n",
        "plt.xticks(rotation = \"vertical\")\n",
        "plt.title(\"BOXPLOT ON NUMERICAL DATASET\")\n",
        "plt.show()"
      ],
      "metadata": {
        "colab": {
          "base_uri": "https://localhost:8080/",
          "height": 542
        },
        "id": "ziYA4Kq194ij",
        "outputId": "aa362801-b2f2-4232-b7a0-0756b3ce58b2"
      },
      "execution_count": 32,
      "outputs": [
        {
          "output_type": "display_data",
          "data": {
            "text/plain": [
              "<Figure size 1080x576 with 1 Axes>"
            ],
            "image/png": "[encoded data removed]"
          },
          "metadata": {
            "needs_background": "light"
          }
        }
      ]
    },
    {
      "cell_type": "markdown",
      "source": [
        "# **4. Exploratory Data Analysis and Data Visualization**\n",
        "\n",
        "When we know all the important features of our experiences, we can go a step ahead by finding the relationship among features. Here, we take the help of visualization because\n",
        "\n",
        "**\"A picture is worth a thousand words\"**"
      ],
      "metadata": {
        "id": "tNZkG6YPKYXp"
      }
    },
    {
      "cell_type": "code",
      "source": [
        "#boxplot on credit card \n",
        "plt.figure(figsize=(15, 8))\n",
        "sns.boxplot(data = df)\n",
        "plt.xticks(rotation = \"vertical\")\n",
        "plt.title(\"BOXPLOT ON CREDIT CARD DEFAULT PREDICTION\")\n",
        "plt.show()"
      ],
      "metadata": {
        "id": "FLUsPY7LNyUz",
        "colab": {
          "base_uri": "https://localhost:8080/",
          "height": 547
        },
        "outputId": "58f1625e-7e6d-4b7a-d993-b4ffee59f9ec"
      },
      "execution_count": 33,
      "outputs": [
        {
          "output_type": "display_data",
          "data": {
            "text/plain": [
              "<Figure size 1080x576 with 1 Axes>"
            ],
            "image/png": "[encoded data removed]"
          },
          "metadata": {
            "needs_background": "light"
          }
        }
      ]
    },
    {
      "cell_type": "code",
      "source": [
        "# Create a new column \"HAS_DEF\" to indicate customers who have at least 1 deafult payment from PAY_1 to Pay_6\n",
        "# 0 : no default ; 1: has default\n",
        "\n",
        "def_condition = (df.PAY_1 >1) | (df.PAY_2 >1) | (df.PAY_3 >1) | (df.PAY_4 >1) | (df.PAY_5 >1) | (df.PAY_6 >1)\n",
        "df.loc[def_condition, \"HAS_DEF\"] = 1\n",
        "df.loc[df.HAS_DEF.isna(), \"HAS_DEF\"] = 0\n",
        "\n",
        "df.columns"
      ],
      "metadata": {
        "colab": {
          "base_uri": "https://localhost:8080/"
        },
        "id": "nR4CRHZyCE5s",
        "outputId": "00ab0ff7-cf1a-45b1-944c-1db002b4aace"
      },
      "execution_count": 34,
      "outputs": [
        {
          "output_type": "execute_result",
          "data": {
            "text/plain": [
              "Index(['ID', 'LIMIT_BAL', 'SEX', 'EDUCATION', 'MARRIAGE', 'AGE', 'PAY_1',\n",
              "       'PAY_2', 'PAY_3', 'PAY_4', 'PAY_5', 'PAY_6', 'BILL_AMT1', 'BILL_AMT2',\n",
              "       'BILL_AMT3', 'BILL_AMT4', 'BILL_AMT5', 'BILL_AMT6', 'PAY_AMT1',\n",
              "       'PAY_AMT2', 'PAY_AMT3', 'PAY_AMT4', 'PAY_AMT5', 'PAY_AMT6', 'DEF_PAY',\n",
              "       'HAS_DEF'],\n",
              "      dtype='object')"
            ]
          },
          "metadata": {},
          "execution_count": 34
        }
      ]
    },
    {
      "cell_type": "markdown",
      "source": [
        "# **4.1 Is the proportion of defaults the same for men and women?**"
      ],
      "metadata": {
        "id": "MpFeOH0H-FEb"
      }
    },
    {
      "cell_type": "code",
      "source": [
        "default_sex_crosstab = pd.crosstab(df['HAS_DEF'],df['SEX'],margins=True,normalize=False)\n",
        "\n",
        "# default payment next month:\n",
        "# 0 = non-default; 1 = default\n",
        "new_index = {0: 'Non-default', 1: 'Default', }\n",
        "\n",
        "# SEX: \n",
        "# 1 = male; 2 = female\n",
        "new_columns = {1 : 'Male', 2 : 'Female'}\n",
        "\n",
        "default_sex_crosstab.rename(index=new_index, columns=new_columns, inplace=True)\n",
        "default_sex_crosstab"
      ],
      "metadata": {
        "id": "_GAWXNnDKmP1",
        "colab": {
          "base_uri": "https://localhost:8080/",
          "height": 175
        },
        "outputId": "dfb76859-9174-4af2-c6db-83ae7e11f5fb"
      },
      "execution_count": 35,
      "outputs": [
        {
          "output_type": "execute_result",
          "data": {
            "text/plain": [
              "SEX           Male  Female    All\n",
              "HAS_DEF                          \n",
              "Non-default   8291   13329  21620\n",
              "Default       3597    4783   8380\n",
              "All          11888   18112  30000"
            ],
            "text/html": [
              "\n",
              "  <div id=\"df-75f4c1ce-4243-4776-90ff-3456afa1be83\">\n",
              "    <div class=\"colab-df-container\">\n",
              "      <div>\n",
              "<style scoped>\n",
              "    .dataframe tbody tr th:only-of-type {\n",
              "        vertical-align: middle;\n",
              "    }\n",
              "\n",
              "    .dataframe tbody tr th {\n",
              "        vertical-align: top;\n",
              "    }\n",
              "\n",
              "    .dataframe thead th {\n",
              "        text-align: right;\n",
              "    }\n",
              "</style>\n",
              "<table border=\"1\" class=\"dataframe\">\n",
              "  <thead>\n",
              "    <tr style=\"text-align: right;\">\n",
              "      <th>SEX</th>\n",
              "      <th>Male</th>\n",
              "      <th>Female</th>\n",
              "      <th>All</th>\n",
              "    </tr>\n",
              "    <tr>\n",
              "      <th>HAS_DEF</th>\n",
              "      <th></th>\n",
              "      <th></th>\n",
              "      <th></th>\n",
              "    </tr>\n",
              "  </thead>\n",
              "  <tbody>\n",
              "    <tr>\n",
              "      <th>Non-default</th>\n",
              "      <td>8291</td>\n",
              "      <td>13329</td>\n",
              "      <td>21620</td>\n",
              "    </tr>\n",
              "    <tr>\n",
              "      <th>Default</th>\n",
              "      <td>3597</td>\n",
              "      <td>4783</td>\n",
              "      <td>8380</td>\n",
              "    </tr>\n",
              "    <tr>\n",
              "      <th>All</th>\n",
              "      <td>11888</td>\n",
              "      <td>18112</td>\n",
              "      <td>30000</td>\n",
              "    </tr>\n",
              "  </tbody>\n",
              "</table>\n",
              "</div>\n",
              "      <button class=\"colab-df-convert\" onclick=\"convertToInteractive('df-75f4c1ce-4243-4776-90ff-3456afa1be83')\"\n",
              "              title=\"Convert this dataframe to an interactive table.\"\n",
              "              style=\"display:none;\">\n",
              "        \n",
              "  <svg xmlns=\"http://www.w3.org/2000/svg\" height=\"24px\"viewBox=\"0 0 24 24\"\n",
              "       width=\"24px\">\n",
              "    <path d=\"M0 0h24v24H0V0z\" fill=\"none\"/>\n",
              "    <path d=\"M18.56 5.44l.94 2.06.94-2.06 2.06-.94-2.06-.94-.94-2.06-.94 2.06-2.06.94zm-11 1L8.5 8.5l.94-2.06 2.06-.94-2.06-.94L8.5 2.5l-.94 2.06-2.06.94zm10 10l.94 2.06.94-2.06 2.06-.94-2.06-.94-.94-2.06-.94 2.06-2.06.94z\"/><path d=\"M17.41 7.96l-1.37-1.37c-.4-.4-.92-.59-1.43-.59-.52 0-1.04.2-1.43.59L10.3 9.45l-7.72 7.72c-.78.78-.78 2.05 0 2.83L4 21.41c.39.39.9.59 1.41.59.51 0 1.02-.2 1.41-.59l7.78-7.78 2.81-2.81c.8-.78.8-2.07 0-2.86zM5.41 20L4 18.59l7.72-7.72 1.47 1.35L5.41 20z\"/>\n",
              "  </svg>\n",
              "      </button>\n",
              "      \n",
              "  <style>\n",
              "    .colab-df-container {\n",
              "      display:flex;\n",
              "      flex-wrap:wrap;\n",
              "      gap: 12px;\n",
              "    }\n",
              "\n",
              "    .colab-df-convert {\n",
              "      background-color: #E8F0FE;\n",
              "      border: none;\n",
              "      border-radius: 50%;\n",
              "      cursor: pointer;\n",
              "      display: none;\n",
              "      fill: #1967D2;\n",
              "      height: 32px;\n",
              "      padding: 0 0 0 0;\n",
              "      width: 32px;\n",
              "    }\n",
              "\n",
              "    .colab-df-convert:hover {\n",
              "      background-color: #E2EBFA;\n",
              "      box-shadow: 0px 1px 2px rgba(60, 64, 67, 0.3), 0px 1px 3px 1px rgba(60, 64, 67, 0.15);\n",
              "      fill: #174EA6;\n",
              "    }\n",
              "\n",
              "    [theme=dark] .colab-df-convert {\n",
              "      background-color: #3B4455;\n",
              "      fill: #D2E3FC;\n",
              "    }\n",
              "\n",
              "    [theme=dark] .colab-df-convert:hover {\n",
              "      background-color: #434B5C;\n",
              "      box-shadow: 0px 1px 3px 1px rgba(0, 0, 0, 0.15);\n",
              "      filter: drop-shadow(0px 1px 2px rgba(0, 0, 0, 0.3));\n",
              "      fill: #FFFFFF;\n",
              "    }\n",
              "  </style>\n",
              "\n",
              "      <script>\n",
              "        const buttonEl =\n",
              "          document.querySelector('#df-75f4c1ce-4243-4776-90ff-3456afa1be83 button.colab-df-convert');\n",
              "        buttonEl.style.display =\n",
              "          google.colab.kernel.accessAllowed ? 'block' : 'none';\n",
              "\n",
              "        async function convertToInteractive(key) {\n",
              "          const element = document.querySelector('#df-75f4c1ce-4243-4776-90ff-3456afa1be83');\n",
              "          const dataTable =\n",
              "            await google.colab.kernel.invokeFunction('convertToInteractive',\n",
              "                                                     [key], {});\n",
              "          if (!dataTable) return;\n",
              "\n",
              "          const docLinkHtml = 'Like what you see? Visit the ' +\n",
              "            '<a target=\"_blank\" href=https://colab.research.google.com/notebooks/data_table.ipynb>data table notebook</a>'\n",
              "            + ' to learn more about interactive tables.';\n",
              "          element.innerHTML = '';\n",
              "          dataTable['output_type'] = 'display_data';\n",
              "          await google.colab.output.renderOutput(dataTable, element);\n",
              "          const docLink = document.createElement('div');\n",
              "          docLink.innerHTML = docLinkHtml;\n",
              "          element.appendChild(docLink);\n",
              "        }\n",
              "      </script>\n",
              "    </div>\n",
              "  </div>\n",
              "  "
            ]
          },
          "metadata": {},
          "execution_count": 35
        }
      ]
    },
    {
      "cell_type": "code",
      "source": [
        "default_sex_crosstab_norm =  default_sex_crosstab / default_sex_crosstab.loc['All']\n",
        "default_sex_crosstab_norm"
      ],
      "metadata": {
        "colab": {
          "base_uri": "https://localhost:8080/",
          "height": 175
        },
        "id": "RiPcRhPvYTsu",
        "outputId": "33ab1fea-bdc2-4505-b8db-98757be994e1"
      },
      "execution_count": 36,
      "outputs": [
        {
          "output_type": "execute_result",
          "data": {
            "text/plain": [
              "SEX              Male    Female       All\n",
              "HAS_DEF                                  \n",
              "Non-default  0.697426  0.735921  0.720667\n",
              "Default      0.302574  0.264079  0.279333\n",
              "All          1.000000  1.000000  1.000000"
            ],
            "text/html": [
              "\n",
              "  <div id=\"df-01708491-b970-4a07-9542-b250d8f3ebd7\">\n",
              "    <div class=\"colab-df-container\">\n",
              "      <div>\n",
              "<style scoped>\n",
              "    .dataframe tbody tr th:only-of-type {\n",
              "        vertical-align: middle;\n",
              "    }\n",
              "\n",
              "    .dataframe tbody tr th {\n",
              "        vertical-align: top;\n",
              "    }\n",
              "\n",
              "    .dataframe thead th {\n",
              "        text-align: right;\n",
              "    }\n",
              "</style>\n",
              "<table border=\"1\" class=\"dataframe\">\n",
              "  <thead>\n",
              "    <tr style=\"text-align: right;\">\n",
              "      <th>SEX</th>\n",
              "      <th>Male</th>\n",
              "      <th>Female</th>\n",
              "      <th>All</th>\n",
              "    </tr>\n",
              "    <tr>\n",
              "      <th>HAS_DEF</th>\n",
              "      <th></th>\n",
              "      <th></th>\n",
              "      <th></th>\n",
              "    </tr>\n",
              "  </thead>\n",
              "  <tbody>\n",
              "    <tr>\n",
              "      <th>Non-default</th>\n",
              "      <td>0.697426</td>\n",
              "      <td>0.735921</td>\n",
              "      <td>0.720667</td>\n",
              "    </tr>\n",
              "    <tr>\n",
              "      <th>Default</th>\n",
              "      <td>0.302574</td>\n",
              "      <td>0.264079</td>\n",
              "      <td>0.279333</td>\n",
              "    </tr>\n",
              "    <tr>\n",
              "      <th>All</th>\n",
              "      <td>1.000000</td>\n",
              "      <td>1.000000</td>\n",
              "      <td>1.000000</td>\n",
              "    </tr>\n",
              "  </tbody>\n",
              "</table>\n",
              "</div>\n",
              "      <button class=\"colab-df-convert\" onclick=\"convertToInteractive('df-01708491-b970-4a07-9542-b250d8f3ebd7')\"\n",
              "              title=\"Convert this dataframe to an interactive table.\"\n",
              "              style=\"display:none;\">\n",
              "        \n",
              "  <svg xmlns=\"http://www.w3.org/2000/svg\" height=\"24px\"viewBox=\"0 0 24 24\"\n",
              "       width=\"24px\">\n",
              "    <path d=\"M0 0h24v24H0V0z\" fill=\"none\"/>\n",
              "    <path d=\"M18.56 5.44l.94 2.06.94-2.06 2.06-.94-2.06-.94-.94-2.06-.94 2.06-2.06.94zm-11 1L8.5 8.5l.94-2.06 2.06-.94-2.06-.94L8.5 2.5l-.94 2.06-2.06.94zm10 10l.94 2.06.94-2.06 2.06-.94-2.06-.94-.94-2.06-.94 2.06-2.06.94z\"/><path d=\"M17.41 7.96l-1.37-1.37c-.4-.4-.92-.59-1.43-.59-.52 0-1.04.2-1.43.59L10.3 9.45l-7.72 7.72c-.78.78-.78 2.05 0 2.83L4 21.41c.39.39.9.59 1.41.59.51 0 1.02-.2 1.41-.59l7.78-7.78 2.81-2.81c.8-.78.8-2.07 0-2.86zM5.41 20L4 18.59l7.72-7.72 1.47 1.35L5.41 20z\"/>\n",
              "  </svg>\n",
              "      </button>\n",
              "      \n",
              "  <style>\n",
              "    .colab-df-container {\n",
              "      display:flex;\n",
              "      flex-wrap:wrap;\n",
              "      gap: 12px;\n",
              "    }\n",
              "\n",
              "    .colab-df-convert {\n",
              "      background-color: #E8F0FE;\n",
              "      border: none;\n",
              "      border-radius: 50%;\n",
              "      cursor: pointer;\n",
              "      display: none;\n",
              "      fill: #1967D2;\n",
              "      height: 32px;\n",
              "      padding: 0 0 0 0;\n",
              "      width: 32px;\n",
              "    }\n",
              "\n",
              "    .colab-df-convert:hover {\n",
              "      background-color: #E2EBFA;\n",
              "      box-shadow: 0px 1px 2px rgba(60, 64, 67, 0.3), 0px 1px 3px 1px rgba(60, 64, 67, 0.15);\n",
              "      fill: #174EA6;\n",
              "    }\n",
              "\n",
              "    [theme=dark] .colab-df-convert {\n",
              "      background-color: #3B4455;\n",
              "      fill: #D2E3FC;\n",
              "    }\n",
              "\n",
              "    [theme=dark] .colab-df-convert:hover {\n",
              "      background-color: #434B5C;\n",
              "      box-shadow: 0px 1px 3px 1px rgba(0, 0, 0, 0.15);\n",
              "      filter: drop-shadow(0px 1px 2px rgba(0, 0, 0, 0.3));\n",
              "      fill: #FFFFFF;\n",
              "    }\n",
              "  </style>\n",
              "\n",
              "      <script>\n",
              "        const buttonEl =\n",
              "          document.querySelector('#df-01708491-b970-4a07-9542-b250d8f3ebd7 button.colab-df-convert');\n",
              "        buttonEl.style.display =\n",
              "          google.colab.kernel.accessAllowed ? 'block' : 'none';\n",
              "\n",
              "        async function convertToInteractive(key) {\n",
              "          const element = document.querySelector('#df-01708491-b970-4a07-9542-b250d8f3ebd7');\n",
              "          const dataTable =\n",
              "            await google.colab.kernel.invokeFunction('convertToInteractive',\n",
              "                                                     [key], {});\n",
              "          if (!dataTable) return;\n",
              "\n",
              "          const docLinkHtml = 'Like what you see? Visit the ' +\n",
              "            '<a target=\"_blank\" href=https://colab.research.google.com/notebooks/data_table.ipynb>data table notebook</a>'\n",
              "            + ' to learn more about interactive tables.';\n",
              "          element.innerHTML = '';\n",
              "          dataTable['output_type'] = 'display_data';\n",
              "          await google.colab.output.renderOutput(dataTable, element);\n",
              "          const docLink = document.createElement('div');\n",
              "          docLink.innerHTML = docLinkHtml;\n",
              "          element.appendChild(docLink);\n",
              "        }\n",
              "      </script>\n",
              "    </div>\n",
              "  </div>\n",
              "  "
            ]
          },
          "metadata": {},
          "execution_count": 36
        }
      ]
    },
    {
      "cell_type": "markdown",
      "source": [
        "The data set contains 11888 males and 18112 females.\n",
        "30% male have default payment while 26% female have default payment\n",
        "The proportion of defaults for men is slightly higher than the proportion of defaults for women. However, this difference appears to be small and may not be statistically significant.\n",
        "\n",
        "\n",
        "\n"
      ],
      "metadata": {
        "id": "8Vz3GH5PUgcV"
      }
    },
    {
      "cell_type": "markdown",
      "source": [
        "# **4.2 Did customers with higher education have less number of delayed payment?**"
      ],
      "metadata": {
        "id": "Ls5UkwGbaKRs"
      }
    },
    {
      "cell_type": "code",
      "source": [
        "# Create a table of \n",
        "# education (Graduate school / University / High school /Others) and\n",
        "# default status (default / non-default)\n",
        "\n",
        "default_edu_crosstab = pd.crosstab(df['HAS_DEF'], \n",
        "                                   df['EDUCATION'], \n",
        "                                   margins=True,\n",
        "                                   normalize=False)\n",
        "\n",
        "# default payment next month:\n",
        "# 0 = non-default; 1 = default\n",
        "new_index = {0: 'Non-default', 1: 'Default', }\n",
        "\n",
        "# EDUCATION: \n",
        "# 1 = graduate school; 2 = university; 3 = high school; 4 = others.\n",
        "new_columns = {1 : 'Graduate school', \n",
        "               2 : 'University', \n",
        "               3 : 'High school', \n",
        "               4 : 'Others'}\n",
        "\n",
        "default_edu_crosstab.rename(index=new_index, columns=new_columns, inplace=True)\n",
        "default_edu_crosstab"
      ],
      "metadata": {
        "colab": {
          "base_uri": "https://localhost:8080/",
          "height": 175
        },
        "id": "AN2X85-3YtnL",
        "outputId": "1a6ee408-dfbb-4fb8-ddb4-cf54ad2a15cf"
      },
      "execution_count": 37,
      "outputs": [
        {
          "output_type": "execute_result",
          "data": {
            "text/plain": [
              "EDUCATION    Graduate school  University  High school  Others    All\n",
              "HAS_DEF                                                             \n",
              "Non-default             8205        9727         3271     417  21620\n",
              "Default                 2380        4303         1646      51   8380\n",
              "All                    10585       14030         4917     468  30000"
            ],
            "text/html": [
              "\n",
              "  <div id=\"df-6e1b3f0d-9819-49b0-88ad-08cff0e701cb\">\n",
              "    <div class=\"colab-df-container\">\n",
              "      <div>\n",
              "<style scoped>\n",
              "    .dataframe tbody tr th:only-of-type {\n",
              "        vertical-align: middle;\n",
              "    }\n",
              "\n",
              "    .dataframe tbody tr th {\n",
              "        vertical-align: top;\n",
              "    }\n",
              "\n",
              "    .dataframe thead th {\n",
              "        text-align: right;\n",
              "    }\n",
              "</style>\n",
              "<table border=\"1\" class=\"dataframe\">\n",
              "  <thead>\n",
              "    <tr style=\"text-align: right;\">\n",
              "      <th>EDUCATION</th>\n",
              "      <th>Graduate school</th>\n",
              "      <th>University</th>\n",
              "      <th>High school</th>\n",
              "      <th>Others</th>\n",
              "      <th>All</th>\n",
              "    </tr>\n",
              "    <tr>\n",
              "      <th>HAS_DEF</th>\n",
              "      <th></th>\n",
              "      <th></th>\n",
              "      <th></th>\n",
              "      <th></th>\n",
              "      <th></th>\n",
              "    </tr>\n",
              "  </thead>\n",
              "  <tbody>\n",
              "    <tr>\n",
              "      <th>Non-default</th>\n",
              "      <td>8205</td>\n",
              "      <td>9727</td>\n",
              "      <td>3271</td>\n",
              "      <td>417</td>\n",
              "      <td>21620</td>\n",
              "    </tr>\n",
              "    <tr>\n",
              "      <th>Default</th>\n",
              "      <td>2380</td>\n",
              "      <td>4303</td>\n",
              "      <td>1646</td>\n",
              "      <td>51</td>\n",
              "      <td>8380</td>\n",
              "    </tr>\n",
              "    <tr>\n",
              "      <th>All</th>\n",
              "      <td>10585</td>\n",
              "      <td>14030</td>\n",
              "      <td>4917</td>\n",
              "      <td>468</td>\n",
              "      <td>30000</td>\n",
              "    </tr>\n",
              "  </tbody>\n",
              "</table>\n",
              "</div>\n",
              "      <button class=\"colab-df-convert\" onclick=\"convertToInteractive('df-6e1b3f0d-9819-49b0-88ad-08cff0e701cb')\"\n",
              "              title=\"Convert this dataframe to an interactive table.\"\n",
              "              style=\"display:none;\">\n",
              "        \n",
              "  <svg xmlns=\"http://www.w3.org/2000/svg\" height=\"24px\"viewBox=\"0 0 24 24\"\n",
              "       width=\"24px\">\n",
              "    <path d=\"M0 0h24v24H0V0z\" fill=\"none\"/>\n",
              "    <path d=\"M18.56 5.44l.94 2.06.94-2.06 2.06-.94-2.06-.94-.94-2.06-.94 2.06-2.06.94zm-11 1L8.5 8.5l.94-2.06 2.06-.94-2.06-.94L8.5 2.5l-.94 2.06-2.06.94zm10 10l.94 2.06.94-2.06 2.06-.94-2.06-.94-.94-2.06-.94 2.06-2.06.94z\"/><path d=\"M17.41 7.96l-1.37-1.37c-.4-.4-.92-.59-1.43-.59-.52 0-1.04.2-1.43.59L10.3 9.45l-7.72 7.72c-.78.78-.78 2.05 0 2.83L4 21.41c.39.39.9.59 1.41.59.51 0 1.02-.2 1.41-.59l7.78-7.78 2.81-2.81c.8-.78.8-2.07 0-2.86zM5.41 20L4 18.59l7.72-7.72 1.47 1.35L5.41 20z\"/>\n",
              "  </svg>\n",
              "      </button>\n",
              "      \n",
              "  <style>\n",
              "    .colab-df-container {\n",
              "      display:flex;\n",
              "      flex-wrap:wrap;\n",
              "      gap: 12px;\n",
              "    }\n",
              "\n",
              "    .colab-df-convert {\n",
              "      background-color: #E8F0FE;\n",
              "      border: none;\n",
              "      border-radius: 50%;\n",
              "      cursor: pointer;\n",
              "      display: none;\n",
              "      fill: #1967D2;\n",
              "      height: 32px;\n",
              "      padding: 0 0 0 0;\n",
              "      width: 32px;\n",
              "    }\n",
              "\n",
              "    .colab-df-convert:hover {\n",
              "      background-color: #E2EBFA;\n",
              "      box-shadow: 0px 1px 2px rgba(60, 64, 67, 0.3), 0px 1px 3px 1px rgba(60, 64, 67, 0.15);\n",
              "      fill: #174EA6;\n",
              "    }\n",
              "\n",
              "    [theme=dark] .colab-df-convert {\n",
              "      background-color: #3B4455;\n",
              "      fill: #D2E3FC;\n",
              "    }\n",
              "\n",
              "    [theme=dark] .colab-df-convert:hover {\n",
              "      background-color: #434B5C;\n",
              "      box-shadow: 0px 1px 3px 1px rgba(0, 0, 0, 0.15);\n",
              "      filter: drop-shadow(0px 1px 2px rgba(0, 0, 0, 0.3));\n",
              "      fill: #FFFFFF;\n",
              "    }\n",
              "  </style>\n",
              "\n",
              "      <script>\n",
              "        const buttonEl =\n",
              "          document.querySelector('#df-6e1b3f0d-9819-49b0-88ad-08cff0e701cb button.colab-df-convert');\n",
              "        buttonEl.style.display =\n",
              "          google.colab.kernel.accessAllowed ? 'block' : 'none';\n",
              "\n",
              "        async function convertToInteractive(key) {\n",
              "          const element = document.querySelector('#df-6e1b3f0d-9819-49b0-88ad-08cff0e701cb');\n",
              "          const dataTable =\n",
              "            await google.colab.kernel.invokeFunction('convertToInteractive',\n",
              "                                                     [key], {});\n",
              "          if (!dataTable) return;\n",
              "\n",
              "          const docLinkHtml = 'Like what you see? Visit the ' +\n",
              "            '<a target=\"_blank\" href=https://colab.research.google.com/notebooks/data_table.ipynb>data table notebook</a>'\n",
              "            + ' to learn more about interactive tables.';\n",
              "          element.innerHTML = '';\n",
              "          dataTable['output_type'] = 'display_data';\n",
              "          await google.colab.output.renderOutput(dataTable, element);\n",
              "          const docLink = document.createElement('div');\n",
              "          docLink.innerHTML = docLinkHtml;\n",
              "          element.appendChild(docLink);\n",
              "        }\n",
              "      </script>\n",
              "    </div>\n",
              "  </div>\n",
              "  "
            ]
          },
          "metadata": {},
          "execution_count": 37
        }
      ]
    },
    {
      "cell_type": "code",
      "source": [
        "# Normalize the contingency table columns\n",
        "# by dividing each column by the column's total.\n",
        "\n",
        "default_edu_crosstab_norm =  default_edu_crosstab / default_edu_crosstab.loc['All']\n",
        "default_edu_crosstab_norm"
      ],
      "metadata": {
        "colab": {
          "base_uri": "https://localhost:8080/",
          "height": 175
        },
        "id": "x6QQCnQobvqG",
        "outputId": "6f3f5897-86f9-43e1-c988-eae458f3ba34"
      },
      "execution_count": 38,
      "outputs": [
        {
          "output_type": "execute_result",
          "data": {
            "text/plain": [
              "EDUCATION    Graduate school  University  High school    Others       All\n",
              "HAS_DEF                                                                  \n",
              "Non-default         0.775154      0.6933     0.665243  0.891026  0.720667\n",
              "Default             0.224846      0.3067     0.334757  0.108974  0.279333\n",
              "All                 1.000000      1.0000     1.000000  1.000000  1.000000"
            ],
            "text/html": [
              "\n",
              "  <div id=\"df-5a5aa2e2-8cee-45bf-95e9-3dcece38872d\">\n",
              "    <div class=\"colab-df-container\">\n",
              "      <div>\n",
              "<style scoped>\n",
              "    .dataframe tbody tr th:only-of-type {\n",
              "        vertical-align: middle;\n",
              "    }\n",
              "\n",
              "    .dataframe tbody tr th {\n",
              "        vertical-align: top;\n",
              "    }\n",
              "\n",
              "    .dataframe thead th {\n",
              "        text-align: right;\n",
              "    }\n",
              "</style>\n",
              "<table border=\"1\" class=\"dataframe\">\n",
              "  <thead>\n",
              "    <tr style=\"text-align: right;\">\n",
              "      <th>EDUCATION</th>\n",
              "      <th>Graduate school</th>\n",
              "      <th>University</th>\n",
              "      <th>High school</th>\n",
              "      <th>Others</th>\n",
              "      <th>All</th>\n",
              "    </tr>\n",
              "    <tr>\n",
              "      <th>HAS_DEF</th>\n",
              "      <th></th>\n",
              "      <th></th>\n",
              "      <th></th>\n",
              "      <th></th>\n",
              "      <th></th>\n",
              "    </tr>\n",
              "  </thead>\n",
              "  <tbody>\n",
              "    <tr>\n",
              "      <th>Non-default</th>\n",
              "      <td>0.775154</td>\n",
              "      <td>0.6933</td>\n",
              "      <td>0.665243</td>\n",
              "      <td>0.891026</td>\n",
              "      <td>0.720667</td>\n",
              "    </tr>\n",
              "    <tr>\n",
              "      <th>Default</th>\n",
              "      <td>0.224846</td>\n",
              "      <td>0.3067</td>\n",
              "      <td>0.334757</td>\n",
              "      <td>0.108974</td>\n",
              "      <td>0.279333</td>\n",
              "    </tr>\n",
              "    <tr>\n",
              "      <th>All</th>\n",
              "      <td>1.000000</td>\n",
              "      <td>1.0000</td>\n",
              "      <td>1.000000</td>\n",
              "      <td>1.000000</td>\n",
              "      <td>1.000000</td>\n",
              "    </tr>\n",
              "  </tbody>\n",
              "</table>\n",
              "</div>\n",
              "      <button class=\"colab-df-convert\" onclick=\"convertToInteractive('df-5a5aa2e2-8cee-45bf-95e9-3dcece38872d')\"\n",
              "              title=\"Convert this dataframe to an interactive table.\"\n",
              "              style=\"display:none;\">\n",
              "        \n",
              "  <svg xmlns=\"http://www.w3.org/2000/svg\" height=\"24px\"viewBox=\"0 0 24 24\"\n",
              "       width=\"24px\">\n",
              "    <path d=\"M0 0h24v24H0V0z\" fill=\"none\"/>\n",
              "    <path d=\"M18.56 5.44l.94 2.06.94-2.06 2.06-.94-2.06-.94-.94-2.06-.94 2.06-2.06.94zm-11 1L8.5 8.5l.94-2.06 2.06-.94-2.06-.94L8.5 2.5l-.94 2.06-2.06.94zm10 10l.94 2.06.94-2.06 2.06-.94-2.06-.94-.94-2.06-.94 2.06-2.06.94z\"/><path d=\"M17.41 7.96l-1.37-1.37c-.4-.4-.92-.59-1.43-.59-.52 0-1.04.2-1.43.59L10.3 9.45l-7.72 7.72c-.78.78-.78 2.05 0 2.83L4 21.41c.39.39.9.59 1.41.59.51 0 1.02-.2 1.41-.59l7.78-7.78 2.81-2.81c.8-.78.8-2.07 0-2.86zM5.41 20L4 18.59l7.72-7.72 1.47 1.35L5.41 20z\"/>\n",
              "  </svg>\n",
              "      </button>\n",
              "      \n",
              "  <style>\n",
              "    .colab-df-container {\n",
              "      display:flex;\n",
              "      flex-wrap:wrap;\n",
              "      gap: 12px;\n",
              "    }\n",
              "\n",
              "    .colab-df-convert {\n",
              "      background-color: #E8F0FE;\n",
              "      border: none;\n",
              "      border-radius: 50%;\n",
              "      cursor: pointer;\n",
              "      display: none;\n",
              "      fill: #1967D2;\n",
              "      height: 32px;\n",
              "      padding: 0 0 0 0;\n",
              "      width: 32px;\n",
              "    }\n",
              "\n",
              "    .colab-df-convert:hover {\n",
              "      background-color: #E2EBFA;\n",
              "      box-shadow: 0px 1px 2px rgba(60, 64, 67, 0.3), 0px 1px 3px 1px rgba(60, 64, 67, 0.15);\n",
              "      fill: #174EA6;\n",
              "    }\n",
              "\n",
              "    [theme=dark] .colab-df-convert {\n",
              "      background-color: #3B4455;\n",
              "      fill: #D2E3FC;\n",
              "    }\n",
              "\n",
              "    [theme=dark] .colab-df-convert:hover {\n",
              "      background-color: #434B5C;\n",
              "      box-shadow: 0px 1px 3px 1px rgba(0, 0, 0, 0.15);\n",
              "      filter: drop-shadow(0px 1px 2px rgba(0, 0, 0, 0.3));\n",
              "      fill: #FFFFFF;\n",
              "    }\n",
              "  </style>\n",
              "\n",
              "      <script>\n",
              "        const buttonEl =\n",
              "          document.querySelector('#df-5a5aa2e2-8cee-45bf-95e9-3dcece38872d button.colab-df-convert');\n",
              "        buttonEl.style.display =\n",
              "          google.colab.kernel.accessAllowed ? 'block' : 'none';\n",
              "\n",
              "        async function convertToInteractive(key) {\n",
              "          const element = document.querySelector('#df-5a5aa2e2-8cee-45bf-95e9-3dcece38872d');\n",
              "          const dataTable =\n",
              "            await google.colab.kernel.invokeFunction('convertToInteractive',\n",
              "                                                     [key], {});\n",
              "          if (!dataTable) return;\n",
              "\n",
              "          const docLinkHtml = 'Like what you see? Visit the ' +\n",
              "            '<a target=\"_blank\" href=https://colab.research.google.com/notebooks/data_table.ipynb>data table notebook</a>'\n",
              "            + ' to learn more about interactive tables.';\n",
              "          element.innerHTML = '';\n",
              "          dataTable['output_type'] = 'display_data';\n",
              "          await google.colab.output.renderOutput(dataTable, element);\n",
              "          const docLink = document.createElement('div');\n",
              "          docLink.innerHTML = docLinkHtml;\n",
              "          element.appendChild(docLink);\n",
              "        }\n",
              "      </script>\n",
              "    </div>\n",
              "  </div>\n",
              "  "
            ]
          },
          "metadata": {},
          "execution_count": 38
        }
      ]
    },
    {
      "cell_type": "code",
      "source": [
        "# Plot the proportion of defaults by level of education, showing:\n",
        "#   1. the proportion of defaults for individuals with high school education;\n",
        "#   2. the proportion of defaults for individuals with university education;\n",
        "#   3. the proportion of defaults for individuals with graduate school education;\n",
        "#   4. the proportion of defaults for individuals categorized as 'others';\n",
        "#   5. the proportion of defaults for the entire data set.\n",
        "\n",
        "fig, ax = plt.subplots(1, 1)\n",
        "default_edu_crosstab_norm[0:2].T.plot.barh(stacked=True,figsize=(10,4),fontsize=14,                        \n",
        "                                           ax=ax)\n",
        "\n",
        "lgd = plt.legend(loc='center left', bbox_to_anchor=(1.0, 0.5), fontsize=14)\n",
        "plt.title('Proportion of Defaults by Education', fontsize=20)\n",
        "plt.xlabel('Proportion of Defaults', fontsize=14)\n",
        "\n",
        "\n",
        "plt.show()"
      ],
      "metadata": {
        "colab": {
          "base_uri": "https://localhost:8080/",
          "height": 308
        },
        "id": "ltmM_lKefiYs",
        "outputId": "798d3318-9c2a-4b09-fcbb-3bd8370ec164"
      },
      "execution_count": 39,
      "outputs": [
        {
          "output_type": "display_data",
          "data": {
            "text/plain": [
              "<Figure size 720x288 with 1 Axes>"
            ],
            "image/png": "[encoded data removed]"
          },
          "metadata": {
            "needs_background": "light"
          }
        }
      ]
    },
    {
      "cell_type": "markdown",
      "source": [
        "The proportion of defaults seems to decrease as the level of education increases.Customers with high school and university educational level had higher default proportions than customers with grad school education.\n",
        "More number of credit holders are university students followed by Graduates and then High school students\n"
      ],
      "metadata": {
        "id": "L_e9V0TsewTq"
      }
    },
    {
      "cell_type": "markdown",
      "source": [
        "# **4.3 Did customers with a higher education level get higher credit limits?**\n",
        "\n"
      ],
      "metadata": {
        "id": "bjrubl5PhRR9"
      }
    },
    {
      "cell_type": "code",
      "source": [
        "\n",
        "# boxplot to visualize credit limit grouped by education level\n",
        "sns.boxplot(x='EDUCATION',hue='DEF_PAY', y='LIMIT_BAL',data=df,palette=\"deep\")"
      ],
      "metadata": {
        "colab": {
          "base_uri": "https://localhost:8080/",
          "height": 307
        },
        "id": "SweU2c-O_ggc",
        "outputId": "b3e14fa6-1d2f-4534-8a3c-fd0681dc9bba"
      },
      "execution_count": 40,
      "outputs": [
        {
          "output_type": "execute_result",
          "data": {
            "text/plain": [
              "<matplotlib.axes._subplots.AxesSubplot at 0x7f6ee9f309d0>"
            ]
          },
          "metadata": {},
          "execution_count": 40
        },
        {
          "output_type": "display_data",
          "data": {
            "text/plain": [
              "<Figure size 432x288 with 1 Axes>"
            ],
            "image/png": "[encoded data removed]"
          },
          "metadata": {
            "needs_background": "light"
          }
        }
      ]
    },
    {
      "cell_type": "markdown",
      "source": [
        "clients who have lower than high school level education tend to have default payment more."
      ],
      "metadata": {
        "id": "kuEmwgCkCdct"
      }
    },
    {
      "cell_type": "markdown",
      "source": [
        "#4.4)Does age has any relation with Credit Limit and Default Payments "
      ],
      "metadata": {
        "id": "tuwbuEfCEOBY"
      }
    },
    {
      "cell_type": "code",
      "source": [
        "df[(df['AGE']>60)].shape # There are around 272 senior citizens in given data set\n"
      ],
      "metadata": {
        "id": "ywGrYKl8D76Z",
        "colab": {
          "base_uri": "https://localhost:8080/"
        },
        "outputId": "6a9baf5e-0d84-4f92-f2e2-4e38da55f90f"
      },
      "execution_count": 41,
      "outputs": [
        {
          "output_type": "execute_result",
          "data": {
            "text/plain": [
              "(272, 26)"
            ]
          },
          "metadata": {},
          "execution_count": 41
        }
      ]
    },
    {
      "cell_type": "code",
      "source": [
        "#4.2) to check if age has any relation with target(defaulting loan or not!)\n",
        "def conv(x):\n",
        "    if x>20 and x<=40:\n",
        "        return 'Adult'\n",
        "    elif x>40 and x<60:\n",
        "        return 'Middle Age'\n",
        "    else:\n",
        "        return 'Senior citizen'\n",
        "df['NEWAGE']=df['AGE'].apply(conv)"
      ],
      "metadata": {
        "id": "K4S0I9vTKmC0"
      },
      "execution_count": 42,
      "outputs": []
    },
    {
      "cell_type": "code",
      "source": [
        "# df['NEWAGE'].value_counts().plot(kind='pie',autopct='%1.2f%%')\n",
        "# plt.show()\n",
        "# sns.countplot(df['NEWAGE']) \n",
        "# plt.show()\n",
        "\n",
        "fig,axes=plt.subplots(1,2,figsize=(10,5))\n",
        "df['NEWAGE'].value_counts().plot(kind='pie',autopct='%1.2f%%',ax=axes[0])\n",
        "sns.countplot(df['NEWAGE'],ax=axes[1])\n",
        "fig.tight_layout(pad=8)\n",
        "plt.show()\n",
        "\n"
      ],
      "metadata": {
        "id": "1GbvfoXJKmGf",
        "colab": {
          "base_uri": "https://localhost:8080/",
          "height": 286
        },
        "outputId": "e51df1c9-d9eb-4fe2-a00d-2efe87c9a18e"
      },
      "execution_count": 43,
      "outputs": [
        {
          "output_type": "stream",
          "name": "stderr",
          "text": [
            "/usr/local/lib/python3.7/dist-packages/seaborn/_decorators.py:43: FutureWarning: Pass the following variable as a keyword arg: x. From version 0.12, the only valid positional argument will be `data`, and passing other arguments without an explicit keyword will result in an error or misinterpretation.\n",
            "  FutureWarning\n"
          ]
        },
        {
          "output_type": "display_data",
          "data": {
            "text/plain": [
              "<Figure size 720x360 with 2 Axes>"
            ],
            "image/png": "[encoded data removed]"
          },
          "metadata": {
            "needs_background": "light"
          }
        }
      ]
    },
    {
      "cell_type": "code",
      "source": [
        "#line graph for Age and Credit Limit \n",
        "plt.figure(figsize = (19,6))\n",
        "sns.lineplot(data= df, x=\"AGE\", y=\"LIMIT_BAL\")\n",
        "plt.show()"
      ],
      "metadata": {
        "colab": {
          "base_uri": "https://localhost:8080/",
          "height": 388
        },
        "id": "CeF6ePMaSMRO",
        "outputId": "017ee245-65f9-4d81-8142-12e8c9bebd55"
      },
      "execution_count": 44,
      "outputs": [
        {
          "output_type": "display_data",
          "data": {
            "text/plain": [
              "<Figure size 1368x432 with 1 Axes>"
            ],
            "image/png": "[encoded data removed]"
          },
          "metadata": {
            "needs_background": "light"
          }
        }
      ]
    },
    {
      "cell_type": "code",
      "source": [
        "#Countplot of defaults and non defaults with respect to AGE\n",
        "plt.figure(figsize = (19,6))\n",
        "sns.countplot(x = \"AGE\" , data = df, palette = [\"lightblue\", \"grey\"], hue = \"HAS_DEF\")\n",
        "plt.show()"
      ],
      "metadata": {
        "colab": {
          "base_uri": "https://localhost:8080/",
          "height": 388
        },
        "id": "PGDGHWvrRkhG",
        "outputId": "78bc080e-ea21-4b4f-b7cf-62d7c5a0a844"
      },
      "execution_count": 45,
      "outputs": [
        {
          "output_type": "display_data",
          "data": {
            "text/plain": [
              "<Figure size 1368x432 with 1 Axes>"
            ],
            "image/png": "[encoded data removed]"
          },
          "metadata": {
            "needs_background": "light"
          }
        }
      ]
    },
    {
      "cell_type": "markdown",
      "source": [
        "There are more adults as compared to old people above 40 and below 60\n",
        "\n",
        "There are very low senior citizens\n",
        "\n",
        "Customers aged between 30-50 had the lowest delayed payment rate, while younger groups (20-30) and older groups (50-70) all had higher delayed payment rates. However, the delayed rate dropped slightly again in customers older than 70 years."
      ],
      "metadata": {
        "id": "NaO2PBWrIV1P"
      }
    },
    {
      "cell_type": "markdown",
      "source": [
        "# **4.5 Has the repayment status changed in the 6 month from April 2005 (PAY_6) to September 2005(PAY_1)?**\n",
        "\n"
      ],
      "metadata": {
        "id": "VMj6d_rGhBBI"
      }
    },
    {
      "cell_type": "code",
      "source": [
        "\n",
        "#A dataframe with the records that have default\n",
        "\n",
        "has_default  = df[df['HAS_DEF']== 1]\n",
        "default_trend = has_default[['PAY_6','PAY_5','PAY_4','PAY_3','PAY_2','PAY_1']].sum(axis=0)\n",
        "\n",
        "# Draw a line chart to show the trend. The lower the number, the shorter delayed payment\n",
        "fig,ax = plt.subplots()\n",
        "ax.plot(default_trend)\n",
        "plt.xticks(['PAY_6','PAY_5','PAY_4','PAY_3','PAY_2','PAY_1'],['Apr','May','Jun','Jul','Aug','Sep'])\n",
        "\n",
        "plt.xlabel('Months in 2005',fontweight='bold')\n",
        "plt.ylabel('Total delayed months',fontweight='bold')\n",
        "plt.title('Delayed payment trend',fontweight='bold')\n",
        "\n",
        "plt.show()"
      ],
      "metadata": {
        "colab": {
          "base_uri": "https://localhost:8080/",
          "height": 295
        },
        "id": "vXR-Z_gMbbYL",
        "outputId": "23fb5e14-2960-4e6a-b1aa-b4dda2ee4945"
      },
      "execution_count": 46,
      "outputs": [
        {
          "output_type": "display_data",
          "data": {
            "text/plain": [
              "<Figure size 432x288 with 1 Axes>"
            ],
            "image/png": "[encoded data removed]"
          },
          "metadata": {
            "needs_background": "light"
          }
        }
      ]
    },
    {
      "cell_type": "markdown",
      "source": [
        "There was a huge jump from May,2005 (PAY_5) to July, 2005 (PAY_3) when delayed payment increased significantly, then it peaked at August, 2005 (PAY_2), things started to get better in September, 2005 (PAY_1)."
      ],
      "metadata": {
        "id": "u3poF6DfhH35"
      }
    },
    {
      "cell_type": "markdown",
      "source": [
        "# **4.6 Distribution of credit limit to customers**"
      ],
      "metadata": {
        "id": "IFQhD_0A6u--"
      }
    },
    {
      "cell_type": "code",
      "source": [
        "# Amount of credit limit\n",
        "\n",
        "plt.figure(figsize = (14,6))\n",
        "plt.title('Amount of Credit Limit - Density Plot')\n",
        "sns.set_color_codes(\"pastel\")\n",
        "sns.distplot(df[\"LIMIT_BAL\"],kde=True,bins=200, color=\"red\")\n",
        "plt.xlabel('Credit Limit Balance (NT dollar)')\n",
        "plt.ticklabel_format(axis='x',scilimits = (0,1000000))\n",
        "plt.show()\n",
        "\n",
        "# Closer look to the amount of credit limit (exclude outliers ie 1000000)\n",
        "\n",
        "plt.figure(figsize = (14,6))\n",
        "plt.title('Amount of Credit Limit - Density Plot ( Credit Limit =< 500000)')\n",
        "#sns.set_color_codes(\"pastel\")\n",
        "sns.distplot(df[\"LIMIT_BAL\"],kde=True,bins=200, color=\"blue\")\n",
        "plt.xlabel('Credit Limit Balance (NT dollar)')\n",
        "plt.ticklabel_format(axis='x',scilimits = (0,500000))\n",
        "plt.xlim(0,500000) \n",
        "plt.show()"
      ],
      "metadata": {
        "colab": {
          "base_uri": "https://localhost:8080/",
          "height": 880
        },
        "id": "eINHSNotwVhM",
        "outputId": "8481fd6c-43f8-4fdc-dbc2-e1567cece4d4"
      },
      "execution_count": 47,
      "outputs": [
        {
          "output_type": "stream",
          "name": "stderr",
          "text": [
            "/usr/local/lib/python3.7/dist-packages/seaborn/distributions.py:2619: FutureWarning: `distplot` is a deprecated function and will be removed in a future version. Please adapt your code to use either `displot` (a figure-level function with similar flexibility) or `histplot` (an axes-level function for histograms).\n",
            "  warnings.warn(msg, FutureWarning)\n"
          ]
        },
        {
          "output_type": "display_data",
          "data": {
            "text/plain": [
              "<Figure size 1008x432 with 1 Axes>"
            ],
            "image/png": "[encoded data removed]"
          },
          "metadata": {
            "needs_background": "light"
          }
        },
        {
          "output_type": "stream",
          "name": "stderr",
          "text": [
            "/usr/local/lib/python3.7/dist-packages/seaborn/distributions.py:2619: FutureWarning: `distplot` is a deprecated function and will be removed in a future version. Please adapt your code to use either `displot` (a figure-level function with similar flexibility) or `histplot` (an axes-level function for histograms).\n",
            "  warnings.warn(msg, FutureWarning)\n"
          ]
        },
        {
          "output_type": "display_data",
          "data": {
            "text/plain": [
              "<Figure size 1008x432 with 1 Axes>"
            ],
            "image/png": "[encoded data removed]"
          },
          "metadata": {
            "needs_background": "light"
          }
        }
      ]
    },
    {
      "cell_type": "code",
      "source": [
        "df['LIMIT_BAL'].value_counts().head(5)"
      ],
      "metadata": {
        "colab": {
          "base_uri": "https://localhost:8080/"
        },
        "id": "9I2_rpoU9XZ2",
        "outputId": "22f721ce-bccc-48b3-d37b-45a851c67069"
      },
      "execution_count": 48,
      "outputs": [
        {
          "output_type": "execute_result",
          "data": {
            "text/plain": [
              "50000.0     3365\n",
              "20000.0     1976\n",
              "30000.0     1610\n",
              "80000.0     1567\n",
              "200000.0    1528\n",
              "Name: LIMIT_BAL, dtype: int64"
            ]
          },
          "metadata": {},
          "execution_count": 48
        }
      ]
    },
    {
      "cell_type": "markdown",
      "source": [
        "the credit limit of customers are usually lower than 2,00,000 TWD. Credit limit at 50,000 TWD has the highest density among all the credit limit levels, followed by 20,000 TWD credit limit. 2,00,000 TWD credit limit reaches another peak after the credit limit at 80,000 TWD"
      ],
      "metadata": {
        "id": "gqbj4tH28EK_"
      }
    },
    {
      "cell_type": "markdown",
      "source": [
        "# **4.7 Correlation Matrix - HEATMAP**"
      ],
      "metadata": {
        "id": "TAxXY_vkKd92"
      }
    },
    {
      "cell_type": "code",
      "source": [
        "#Correlation Matrix - HEATMAP\n",
        "plt.figure(figsize=(19,16))\n",
        "sns.heatmap(df.corr(),annot=True,center = 0 , cmap ='viridis')\n",
        "plt.show()"
      ],
      "metadata": {
        "colab": {
          "base_uri": "https://localhost:8080/",
          "height": 970
        },
        "id": "qYRjVnwKwWLA",
        "outputId": "be31ea7a-d0fd-4702-fd58-e25b8ca94d0f"
      },
      "execution_count": 49,
      "outputs": [
        {
          "output_type": "display_data",
          "data": {
            "text/plain": [
              "<Figure size 1368x1152 with 2 Axes>"
            ],
            "image/png": "[encoded data removed]"
          },
          "metadata": {
            "needs_background": "light"
          }
        }
      ]
    },
    {
      "cell_type": "markdown",
      "source": [
        "The variable \"age\" is inversely correlated with \"Marraige\".\n",
        "\n",
        "\n",
        "An interesting finding is that the bill amounts from April to September are highly positively correlated.\n",
        "\n",
        "Multicollinearity exists between the payment status variables.\n",
        "\n",
        "Moreover, the bill amounts of each month are weakly positively correlated or even NOT correlated to the payment amount of the same month, meaning that the customers are not paying the exact amount of their bills.\n",
        "\n",
        "The payment status(PAY_1 TO PAY_6) and credit limit(LIMIT_BAL) are negatively correlated, i.e. the later the repayment, the lower the credit limit.\n",
        "\n",
        "The credit limit is inversely correlated with the customer having a default payment next month."
      ],
      "metadata": {
        "id": "Ui7t8detygGe"
      }
    },
    {
      "cell_type": "markdown",
      "source": [
        "# **4.8 Bivariate Analysis**"
      ],
      "metadata": {
        "id": "MP95eNAKKnEX"
      }
    },
    {
      "cell_type": "code",
      "source": [
        "#bivariate Analysis \n",
        "cateogical_data = []\n",
        "for i in df.columns:\n",
        "  if len(df[i].unique()) <= 15:\n",
        "    cateogical_data.append(i)\n"
      ],
      "metadata": {
        "id": "X3WCKTd4tmtO"
      },
      "execution_count": 50,
      "outputs": []
    },
    {
      "cell_type": "code",
      "source": [
        "cateogical_data"
      ],
      "metadata": {
        "colab": {
          "base_uri": "https://localhost:8080/"
        },
        "id": "EPOejdNJtnzr",
        "outputId": "eebc1697-c238-4234-f86e-e5624a17aaa9"
      },
      "execution_count": 51,
      "outputs": [
        {
          "output_type": "execute_result",
          "data": {
            "text/plain": [
              "['SEX',\n",
              " 'EDUCATION',\n",
              " 'MARRIAGE',\n",
              " 'PAY_1',\n",
              " 'PAY_2',\n",
              " 'PAY_3',\n",
              " 'PAY_4',\n",
              " 'PAY_5',\n",
              " 'PAY_6',\n",
              " 'DEF_PAY',\n",
              " 'HAS_DEF',\n",
              " 'NEWAGE']"
            ]
          },
          "metadata": {},
          "execution_count": 51
        }
      ]
    },
    {
      "cell_type": "code",
      "source": [
        "\n",
        "fig, axes = plt.subplots(3, 3, figsize=(20, 15), facecolor='white')\n",
        "fig.suptitle('FREQUENCY OF CATEGORICAL VARIABLES BY DEFAULT (TARGET VARIABLE)')\n",
        "sns.countplot(x = df[cateogical_data[0]], data = df, hue = df[\"HAS_DEF\"], ax=axes[0,0], palette = [\"lightblue\", \"grey\"])\n",
        "sns.countplot(x = df[cateogical_data[1]], data = df, hue = df[\"HAS_DEF\"], ax=axes[0,1], palette = [\"lightblue\", \"grey\"])\n",
        "sns.countplot(x = df[cateogical_data[2]], data = df, hue = df[\"HAS_DEF\"], ax=axes[0,2], palette = [\"lightblue\", \"grey\"])\n",
        "sns.countplot(x = df[cateogical_data[3]], data = df, hue = df[\"HAS_DEF\"], ax=axes[1,0], palette = [\"lightblue\", \"grey\"])\n",
        "sns.countplot(x = df[cateogical_data[4]], data = df, hue = df[\"HAS_DEF\"], ax=axes[1,1], palette = [\"lightblue\", \"grey\"])\n",
        "sns.countplot(x = df[cateogical_data[5]], data = df, hue = df[\"HAS_DEF\"], ax=axes[1,2], palette = [\"lightblue\", \"grey\"])\n",
        "sns.countplot(x = df[cateogical_data[6]], data = df, hue = df[\"HAS_DEF\"], ax=axes[2,0], palette = [\"lightblue\", \"grey\"])\n",
        "sns.countplot(x = df[cateogical_data[7]], data = df, hue = df[\"HAS_DEF\"], ax=axes[2,1], palette = [\"lightblue\", \"grey\"])\n",
        "sns.countplot(x = df[cateogical_data[8]], data = df, hue = df[\"HAS_DEF\"], ax=axes[2,2], palette = [\"lightblue\", \"grey\"])\n",
        "plt.show()"
      ],
      "metadata": {
        "colab": {
          "base_uri": "https://localhost:8080/",
          "height": 986
        },
        "id": "3CpHgNmzg_8A",
        "outputId": "1b3f1358-8d14-40da-9e91-98da09ff0a13"
      },
      "execution_count": 52,
      "outputs": [
        {
          "output_type": "display_data",
          "data": {
            "text/plain": [
              "<Figure size 1440x1080 with 9 Axes>"
            ],
            "image/png": "[encoded data removed]"
          },
          "metadata": {}
        }
      ]
    },
    {
      "cell_type": "markdown",
      "source": [
        "Male customers have more number of default payments than female customers.\n",
        "\n",
        "There is NO significant difference in the proportion of default payment across differenct education levels. But clients who have lower than high school level eductation tend to have default payment more.\n",
        "\n",
        "Married clients have a higher default payment rate than single or other marital status clients.\n",
        "\n",
        "People who have the payment delay for two months have a high ratio of default next month (October). In September, a quarter of customers who repay one month later have default payment next month in October. This situation does not exist in other months as almost no one repay one month later."
      ],
      "metadata": {
        "id": "e0I5DYttwA4L"
      }
    },
    {
      "cell_type": "markdown",
      "source": [
        "## **5.Splitting Dataset into Training(80%) and Test Set(20%)**"
      ],
      "metadata": {
        "id": "KvWXeqUSeu3n"
      }
    },
    {
      "cell_type": "code",
      "source": [
        "#using MinMaxScaler to normalize features\n",
        "from sklearn.preprocessing import MinMaxScaler\n",
        "scaler = MinMaxScaler()\n",
        "#functions to calculate mean and std deviation\n",
        "scaler.fit(X)\n",
        "X = scaler.transform(X)"
      ],
      "metadata": {
        "id": "LMpjHoQV5SyC"
      },
      "execution_count": null,
      "outputs": []
    },
    {
      "cell_type": "markdown",
      "source": [
        "5.1 LOGISTIC REGRESSION "
      ],
      "metadata": {
        "id": "LGziKLcQ5LQe"
      }
    },
    {
      "cell_type": "code",
      "source": [
        "#importing the necessary libraries\n",
        "from sklearn.model_selection import train_test_split\n",
        "from sklearn.linear_model import LogisticRegression"
      ],
      "metadata": {
        "id": "GapnXzFHz2zx"
      },
      "execution_count": null,
      "outputs": []
    },
    {
      "cell_type": "code",
      "source": [
        "# Splitting the data test into train 80% and test 20%.\n",
        "# X_train, Y_train are training data and labels respectively \n",
        "# X_test, Y_test are testing data and labels respectively \n",
        "X_train, X_test, Y_train, Y_test = train_test_split(X, Y ,stratify=  Y, train_size = 0.8, random_state=2)"
      ],
      "metadata": {
        "id": "jSTmy5n21K-k"
      },
      "execution_count": null,
      "outputs": []
    },
    {
      "cell_type": "code",
      "source": [
        "#Making the logistic regression model\n",
        "LR = LogisticRegression()\n",
        "#Training the model on the training data and labels\n",
        "LR.fit(X_train, Y_train)"
      ],
      "metadata": {
        "colab": {
          "base_uri": "https://localhost:8080/"
        },
        "id": "rF6bC_T4174u",
        "outputId": "32338ffd-cf54-4f91-cc59-a4d6594d51a1"
      },
      "execution_count": null,
      "outputs": [
        {
          "output_type": "execute_result",
          "data": {
            "text/plain": [
              "LogisticRegression()"
            ]
          },
          "metadata": {},
          "execution_count": 142
        }
      ]
    },
    {
      "cell_type": "code",
      "source": [
        "# Using the model to predict the labels of the test data\n",
        "y_pred= LR.predict(X_test)\n"
      ],
      "metadata": {
        "id": "Wj8k2Z0K22BQ"
      },
      "execution_count": null,
      "outputs": []
    },
    {
      "cell_type": "code",
      "source": [
        "# predicting the training set\n",
        "train_class_preds = LR.predict(X_train)"
      ],
      "metadata": {
        "id": "LpKWbxtkKc0m"
      },
      "execution_count": null,
      "outputs": []
    },
    {
      "cell_type": "code",
      "source": [
        "# Evaluating the accuracy of the model using the sklearn functions\n",
        "#importing the functions \n",
        "from sklearn.metrics import accuracy_score,precision_score,recall_score"
      ],
      "metadata": {
        "id": "ZaZ-EXa63XZk"
      },
      "execution_count": null,
      "outputs": []
    },
    {
      "cell_type": "code",
      "source": [
        "# Printing the results\n",
        "print(\"Accuracy on train data: \" ,accuracy_score(train_class_preds,Y_train))\n",
        "print(\"Accuracy on test data:\",accuracy_score(Y_test, y_pred))\n",
        "print(\"Precision:\",precision_score(Y_test, y_pred))\n",
        "print(\"Recall:\",recall_score(Y_test, y_pred))"
      ],
      "metadata": {
        "colab": {
          "base_uri": "https://localhost:8080/"
        },
        "id": "zuUkgC7F3LnK",
        "outputId": "41a467bb-b5c5-4deb-97c9-a3cb770c696a"
      },
      "execution_count": null,
      "outputs": [
        {
          "output_type": "stream",
          "name": "stdout",
          "text": [
            "Accuracy on train data:  0.81025\n",
            "Accuracy on test data: 0.8088333333333333\n",
            "Precision: 0.7163461538461539\n",
            "Recall: 0.22456669178598343\n"
          ]
        }
      ]
    },
    {
      "cell_type": "markdown",
      "source": [
        "GRID SEARCH "
      ],
      "metadata": {
        "id": "XEjmcAty_xcc"
      }
    },
    {
      "cell_type": "code",
      "source": [
        "#Import the library - GridSearchCV\n",
        "from sklearn.model_selection import GridSearchCV"
      ],
      "metadata": {
        "id": "-RMaL2ar3r81"
      },
      "execution_count": null,
      "outputs": []
    },
    {
      "cell_type": "code",
      "source": [
        "#Initializing an object\n",
        "grid = GridSearchCV"
      ],
      "metadata": {
        "id": "N4q0P-YppJg1"
      },
      "execution_count": null,
      "outputs": []
    },
    {
      "cell_type": "code",
      "source": [
        "#for handling penalities \n",
        "lr_model = grid(LR,\n",
        "                param_grid = {'solver' : ['newton-cg', 'lbfgs', 'liblinear'],\n",
        "'penalty' : ['l2'],\n",
        "'C' : [1.0, 0.1, 0.01]}, cv = 3 , verbose = 1)"
      ],
      "metadata": {
        "id": "HTARNk3epPwt"
      },
      "execution_count": null,
      "outputs": []
    },
    {
      "cell_type": "code",
      "source": [
        "#Training the model on the training data and labels\n",
        "lr_model.fit(X_train, Y_train)"
      ],
      "metadata": {
        "colab": {
          "base_uri": "https://localhost:8080/"
        },
        "id": "HrTDc2MJrlxm",
        "outputId": "405e26d0-8c73-42f1-94ff-8a258119f8ac"
      },
      "execution_count": null,
      "outputs": [
        {
          "output_type": "stream",
          "name": "stdout",
          "text": [
            "Fitting 3 folds for each of 9 candidates, totalling 27 fits\n"
          ]
        },
        {
          "output_type": "execute_result",
          "data": {
            "text/plain": [
              "GridSearchCV(cv=3, estimator=LogisticRegression(),\n",
              "             param_grid={'C': [1.0, 0.1, 0.01], 'penalty': ['l2'],\n",
              "                         'solver': ['newton-cg', 'lbfgs', 'liblinear']},\n",
              "             verbose=1)"
            ]
          },
          "metadata": {},
          "execution_count": 75
        }
      ]
    },
    {
      "cell_type": "code",
      "source": [
        "#hyperparameter values \n",
        "lr_model.best_params_"
      ],
      "metadata": {
        "colab": {
          "base_uri": "https://localhost:8080/"
        },
        "id": "JPjwoADhso5c",
        "outputId": "b5eaa9f0-f52c-4aab-ffca-024ebce611f0"
      },
      "execution_count": null,
      "outputs": [
        {
          "output_type": "execute_result",
          "data": {
            "text/plain": [
              "{'C': 1.0, 'penalty': 'l2', 'solver': 'newton-cg'}"
            ]
          },
          "metadata": {},
          "execution_count": 76
        }
      ]
    },
    {
      "cell_type": "code",
      "source": [
        "#to refit a final model to the full training set using the optimal hyperparameter values found\n",
        "lr_model = lr_model.best_estimator_"
      ],
      "metadata": {
        "id": "GhPM0S8ssz7H"
      },
      "execution_count": null,
      "outputs": []
    },
    {
      "cell_type": "code",
      "source": [
        "#Using the model to predict the labels of the test data\n",
        "y_pred = lr_model.predict(X_test)"
      ],
      "metadata": {
        "id": "QXoBGQz7tQyn"
      },
      "execution_count": null,
      "outputs": []
    },
    {
      "cell_type": "code",
      "source": [
        "#printing the results \n",
        "print(\"Accuracy on train data: \" ,accuracy_score(train_class_preds,Y_train))\n",
        "print(\"Accuracy on test data:\",accuracy_score(Y_test, y_pred))\n",
        "print(\"Precision:\",precision_score(Y_test, y_pred))\n",
        "print(\"Recall:\",recall_score(Y_test, y_pred))"
      ],
      "metadata": {
        "colab": {
          "base_uri": "https://localhost:8080/"
        },
        "id": "jLE5mDSHtYdd",
        "outputId": "43ff1fe8-f6d1-4b23-b180-bd782a338bd4"
      },
      "execution_count": null,
      "outputs": [
        {
          "output_type": "stream",
          "name": "stdout",
          "text": [
            "Accuracy: 0.8078333333333333\n",
            "Precision: 0.6933333333333334\n",
            "Recall: 0.2351168048229088\n"
          ]
        }
      ]
    },
    {
      "cell_type": "markdown",
      "source": [
        "SUPPORT VECTOR CLASSIFICATION"
      ],
      "metadata": {
        "id": "BhFWU26lIYvG"
      }
    },
    {
      "cell_type": "code",
      "source": [
        "## Fitting SVM to the Training set\n",
        "from sklearn.svm import SVC"
      ],
      "metadata": {
        "id": "cYk2ROAWyGac"
      },
      "execution_count": null,
      "outputs": []
    },
    {
      "cell_type": "code",
      "source": [
        "svc = SVC(gamma=\"scale\")"
      ],
      "metadata": {
        "id": "SNzc3_qmyhhW"
      },
      "execution_count": null,
      "outputs": []
    },
    {
      "cell_type": "code",
      "source": [
        "svc.fit(X_train, Y_train)"
      ],
      "metadata": {
        "id": "rWNIEVevyqn9",
        "colab": {
          "base_uri": "https://localhost:8080/"
        },
        "outputId": "7a6ffa17-ba9a-4a35-b15d-150857c5fdfd"
      },
      "execution_count": null,
      "outputs": [
        {
          "output_type": "execute_result",
          "data": {
            "text/plain": [
              "SVC()"
            ]
          },
          "metadata": {},
          "execution_count": 92
        }
      ]
    },
    {
      "cell_type": "code",
      "source": [
        "# Predicting the Test set results\n",
        "y_pred = svc.predict(X_test)"
      ],
      "metadata": {
        "id": "aYmVc-5NzBGb"
      },
      "execution_count": null,
      "outputs": []
    },
    {
      "cell_type": "code",
      "source": [
        "#printing the results\n",
        "print(\"Accuracy on train data: \"accuracy_score(train_class_preds,y_train))\n",
        "print(\"Accuracy on test data:\",accuracy_score(Y_test, y_pred))\n",
        "print(\"Precision:\",precision_score(Y_test, y_pred))\n",
        "print(\"Recall:\",recall_score(Y_test, y_pred))"
      ],
      "metadata": {
        "id": "kIPnUfuYznNK",
        "colab": {
          "base_uri": "https://localhost:8080/"
        },
        "outputId": "1b4c0fdf-9dca-4dcf-8cb0-3886ac61457f"
      },
      "execution_count": null,
      "outputs": [
        {
          "output_type": "stream",
          "name": "stdout",
          "text": [
            "Accuracy: 0.8153333333333334\n",
            "Precision: 0.6661608497723824\n",
            "Recall: 0.3308214016578749\n"
          ]
        }
      ]
    },
    {
      "cell_type": "code",
      "source": [
        "#defining Parameter range\n",
        "svc_model = GridSearchCV(SVC(), param_grid= {'kernel':['poly', 'rbf'],'C':[1.0, 0.1, 0.01],'gamma':[ 'auto']}, cv= 2, verbose= 1)"
      ],
      "metadata": {
        "id": "yZlojqFnPCnd"
      },
      "execution_count": null,
      "outputs": []
    },
    {
      "cell_type": "code",
      "source": [
        "# fitting the model for grid search\n",
        "svc_model.fit(X_train, Y_train)"
      ],
      "metadata": {
        "colab": {
          "base_uri": "https://localhost:8080/"
        },
        "id": "Z4Oj_GSmQvpy",
        "outputId": "1c3907d7-bd69-4efa-8033-07f9529b1433"
      },
      "execution_count": null,
      "outputs": [
        {
          "output_type": "stream",
          "name": "stdout",
          "text": [
            "Fitting 2 folds for each of 6 candidates, totalling 12 fits\n"
          ]
        },
        {
          "output_type": "execute_result",
          "data": {
            "text/plain": [
              "GridSearchCV(cv=2, estimator=SVC(),\n",
              "             param_grid={'C': [1.0, 0.1, 0.01], 'gamma': ['auto'],\n",
              "                         'kernel': ['poly', 'rbf']},\n",
              "             verbose=1)"
            ]
          },
          "metadata": {},
          "execution_count": 86
        }
      ]
    },
    {
      "cell_type": "code",
      "source": [
        "# print best parameter after tuning\n",
        "svc_model.best_params_"
      ],
      "metadata": {
        "id": "G4f8iHSkPuiQ",
        "colab": {
          "base_uri": "https://localhost:8080/"
        },
        "outputId": "649399fa-58b7-4014-a73a-5b46fe68501e"
      },
      "execution_count": null,
      "outputs": [
        {
          "output_type": "execute_result",
          "data": {
            "text/plain": [
              "{'C': 1.0, 'gamma': 'auto', 'kernel': 'rbf'}"
            ]
          },
          "metadata": {},
          "execution_count": 87
        }
      ]
    },
    {
      "cell_type": "code",
      "source": [
        "# print how the model looks after hyper-parameter tuning\n",
        "svc_model = svc_model.best_estimator_"
      ],
      "metadata": {
        "id": "be2QBzTkRBJT"
      },
      "execution_count": null,
      "outputs": []
    },
    {
      "cell_type": "code",
      "source": [
        "#predictions \n",
        "y_pred = svc_model.predict(X_test)"
      ],
      "metadata": {
        "id": "9xchurW8RBJT"
      },
      "execution_count": null,
      "outputs": []
    },
    {
      "cell_type": "code",
      "source": [
        "#Printing the results \n",
        "print(\"Accuracy on train data: \",accuracy_score(train_class_preds,y_train))\n",
        "print(\"Accuracy on test data:\",accuracy_score(Y_test, y_pred))\n",
        "print(\"Precision:\",precision_score(Y_test, y_pred))\n",
        "print(\"Recall:\",recall_score(Y_test, y_pred))"
      ],
      "metadata": {
        "id": "1I88K4CvRBJU",
        "colab": {
          "base_uri": "https://localhost:8080/"
        },
        "outputId": "b33e6544-ffc6-4dd3-976f-053c610cb1d2"
      },
      "execution_count": null,
      "outputs": [
        {
          "output_type": "stream",
          "name": "stdout",
          "text": [
            "Accuracy: 0.7886666666666666\n",
            "Precision: 0.7322834645669292\n",
            "Recall: 0.07008289374529013\n"
          ]
        }
      ]
    },
    {
      "cell_type": "markdown",
      "source": [
        "BAGGING CLASSIFIER "
      ],
      "metadata": {
        "id": "kKOD5rIBQfzy"
      }
    },
    {
      "cell_type": "code",
      "source": [
        "#importing libraries for BaggingClassifier\n",
        "from sklearn.ensemble import BaggingClassifier"
      ],
      "metadata": {
        "id": "x8TSEUUxRHo3"
      },
      "execution_count": null,
      "outputs": []
    },
    {
      "cell_type": "code",
      "source": [
        "#instantiation \n",
        "bc = BaggingClassifier()\n"
      ],
      "metadata": {
        "id": "1aBA2CggZe6k"
      },
      "execution_count": null,
      "outputs": []
    },
    {
      "cell_type": "code",
      "source": [
        "bc.fit(X_train, Y_train)"
      ],
      "metadata": {
        "colab": {
          "base_uri": "https://localhost:8080/"
        },
        "id": "MRq0Sa95Zrx1",
        "outputId": "2b028edc-ead1-47f0-fa0f-900685e4e645"
      },
      "execution_count": null,
      "outputs": [
        {
          "output_type": "execute_result",
          "data": {
            "text/plain": [
              "BaggingClassifier()"
            ]
          },
          "metadata": {},
          "execution_count": 97
        }
      ]
    },
    {
      "cell_type": "code",
      "source": [
        "y_pred = bc.predict(X_test)"
      ],
      "metadata": {
        "id": "76MgoQMJa-67"
      },
      "execution_count": null,
      "outputs": []
    },
    {
      "cell_type": "code",
      "source": [
        "print(\"Accuracy on train data: \"accuracy_score(train_class_preds,y_train))\n",
        "print(\"Accuracy on test data:\",accuracy_score(Y_test, y_pred))\n",
        "print(\"Precision:\",precision_score(Y_test, y_pred))\n",
        "print(\"Recall:\",recall_score(Y_test, y_pred))"
      ],
      "metadata": {
        "colab": {
          "base_uri": "https://localhost:8080/"
        },
        "id": "_FpP4RVOa-7B",
        "outputId": "fa4e99a3-2fa5-47d2-ab5b-09e9a4ae76da"
      },
      "execution_count": null,
      "outputs": [
        {
          "output_type": "stream",
          "name": "stdout",
          "text": [
            "Accuracy: 0.7996666666666666\n",
            "Precision: 0.5836680053547524\n",
            "Recall: 0.3285606631499623\n"
          ]
        }
      ]
    },
    {
      "cell_type": "code",
      "source": [
        "bc_model = GridSearchCV(bc, param_grid= {'n_estimators':[45,50, 65]}, verbose = 1 , cv = 3)"
      ],
      "metadata": {
        "id": "LT3eJ302bCwJ"
      },
      "execution_count": null,
      "outputs": []
    },
    {
      "cell_type": "code",
      "source": [
        "bc_model.fit(X_train, Y_train)"
      ],
      "metadata": {
        "colab": {
          "base_uri": "https://localhost:8080/"
        },
        "id": "8aJYtAyGcQ7f",
        "outputId": "133ed918-f622-4c03-80ae-e88177925a29"
      },
      "execution_count": null,
      "outputs": [
        {
          "output_type": "stream",
          "name": "stdout",
          "text": [
            "Fitting 3 folds for each of 3 candidates, totalling 9 fits\n"
          ]
        },
        {
          "output_type": "execute_result",
          "data": {
            "text/plain": [
              "GridSearchCV(cv=3, estimator=BaggingClassifier(),\n",
              "             param_grid={'n_estimators': [45, 50, 65]}, verbose=1)"
            ]
          },
          "metadata": {},
          "execution_count": 101
        }
      ]
    },
    {
      "cell_type": "code",
      "source": [
        "bc_model.best_params_"
      ],
      "metadata": {
        "colab": {
          "base_uri": "https://localhost:8080/"
        },
        "id": "s6nGU2YzcR1O",
        "outputId": "f47ab050-f15e-4b59-81cc-70582f2e508f"
      },
      "execution_count": null,
      "outputs": [
        {
          "output_type": "execute_result",
          "data": {
            "text/plain": [
              "{'n_estimators': 45}"
            ]
          },
          "metadata": {},
          "execution_count": 102
        }
      ]
    },
    {
      "cell_type": "code",
      "source": [
        "bc_model = bc_model.best_estimator_"
      ],
      "metadata": {
        "id": "2XhTkMnpdY2-"
      },
      "execution_count": null,
      "outputs": []
    },
    {
      "cell_type": "code",
      "source": [
        "bc_model.fit(X_train, Y_train)"
      ],
      "metadata": {
        "colab": {
          "base_uri": "https://localhost:8080/"
        },
        "outputId": "2c84a55f-211e-4019-e8de-cca305c1a351",
        "id": "QMAmYKBMdk8P"
      },
      "execution_count": null,
      "outputs": [
        {
          "output_type": "execute_result",
          "data": {
            "text/plain": [
              "BaggingClassifier(n_estimators=45)"
            ]
          },
          "metadata": {},
          "execution_count": 104
        }
      ]
    },
    {
      "cell_type": "code",
      "source": [
        "y_pred = bc_model.predict(X_test)"
      ],
      "metadata": {
        "id": "9OoICppYdk8Q"
      },
      "execution_count": null,
      "outputs": []
    },
    {
      "cell_type": "code",
      "source": [
        "print(\"Accuracy on train data: \"accuracy_score(train_class_preds,y_train))\n",
        "print(\"Accuracy on test data:\",accuracy_score(Y_test, y_pred))\n",
        "print(\"Precision:\",precision_score(Y_test, y_pred))\n",
        "print(\"Recall:\",recall_score(Y_test, y_pred))"
      ],
      "metadata": {
        "colab": {
          "base_uri": "https://localhost:8080/"
        },
        "outputId": "e0cdcb1f-8b76-45e5-fed9-55a68b757800",
        "id": "xoi5h5BQdk8Q"
      },
      "execution_count": null,
      "outputs": [
        {
          "output_type": "stream",
          "name": "stdout",
          "text": [
            "Accuracy: 0.8125\n",
            "Precision: 0.6268844221105527\n",
            "Recall: 0.3760361718161266\n"
          ]
        }
      ]
    },
    {
      "cell_type": "markdown",
      "source": [
        "RANDOM FOREST CLASSIFIER"
      ],
      "metadata": {
        "id": "U67revi-PX7f"
      }
    },
    {
      "cell_type": "code",
      "source": [
        "from sklearn.ensemble import RandomForestClassifier"
      ],
      "metadata": {
        "id": "Yjcr9XUadrJO"
      },
      "execution_count": null,
      "outputs": []
    },
    {
      "cell_type": "code",
      "source": [
        "rfc = RandomForestClassifier()"
      ],
      "metadata": {
        "id": "9ANy0Mt5gaAA"
      },
      "execution_count": null,
      "outputs": []
    },
    {
      "cell_type": "code",
      "source": [
        "rfc.fit(X_train, Y_train)"
      ],
      "metadata": {
        "colab": {
          "base_uri": "https://localhost:8080/"
        },
        "id": "Li3WZvoHggrX",
        "outputId": "b362d6bb-57e7-4079-bdd6-833df6f35ba1"
      },
      "execution_count": null,
      "outputs": [
        {
          "output_type": "execute_result",
          "data": {
            "text/plain": [
              "RandomForestClassifier()"
            ]
          },
          "metadata": {},
          "execution_count": 109
        }
      ]
    },
    {
      "cell_type": "code",
      "source": [
        "y_pred = rfc.predict(X_test)"
      ],
      "metadata": {
        "id": "0RtA9U-LglXS"
      },
      "execution_count": null,
      "outputs": []
    },
    {
      "cell_type": "code",
      "source": [
        "print(\"Accuracy on train data: \"accuracy_score(train_class_preds,y_train))\n",
        "print(\"Accuracy on test data:\",accuracy_score(Y_test, y_pred))\n",
        "print(\"Precision:\",precision_score(Y_test, y_pred))\n",
        "print(\"Recall:\",recall_score(Y_test, y_pred))"
      ],
      "metadata": {
        "colab": {
          "base_uri": "https://localhost:8080/"
        },
        "id": "VgVwfGcBgsHV",
        "outputId": "2ee9e30c-5b5a-4461-971d-b457c7530a1a"
      },
      "execution_count": null,
      "outputs": [
        {
          "output_type": "stream",
          "name": "stdout",
          "text": [
            "Accuracy: 0.8126666666666666\n",
            "Precision: 0.6313065976714101\n",
            "Recall: 0.3677467972871138\n"
          ]
        }
      ]
    },
    {
      "cell_type": "code",
      "source": [
        "from sklearn.model_selection import RepeatedStratifiedKFold"
      ],
      "metadata": {
        "id": "X2YHQMWqhYbR"
      },
      "execution_count": null,
      "outputs": []
    },
    {
      "cell_type": "code",
      "source": [
        "rfc_model = GridSearchCV(rfc, param_grid = dict(n_estimators = [10, 100, 1000]), cv = 3, verbose= 1)"
      ],
      "metadata": {
        "id": "1h0BkT8-guAH"
      },
      "execution_count": null,
      "outputs": []
    },
    {
      "cell_type": "code",
      "source": [
        "rfc_model.fit(X_train, Y_train)"
      ],
      "metadata": {
        "colab": {
          "base_uri": "https://localhost:8080/"
        },
        "id": "891VZItNhT-I",
        "outputId": "b7301efb-d862-4174-a94b-3f027d6aebcb"
      },
      "execution_count": null,
      "outputs": [
        {
          "output_type": "stream",
          "name": "stdout",
          "text": [
            "Fitting 3 folds for each of 3 candidates, totalling 9 fits\n"
          ]
        },
        {
          "output_type": "execute_result",
          "data": {
            "text/plain": [
              "GridSearchCV(cv=3, estimator=RandomForestClassifier(),\n",
              "             param_grid={'n_estimators': [10, 100, 1000]}, verbose=1)"
            ]
          },
          "metadata": {},
          "execution_count": 115
        }
      ]
    },
    {
      "cell_type": "code",
      "source": [
        "rfc_model.best_params_"
      ],
      "metadata": {
        "colab": {
          "base_uri": "https://localhost:8080/"
        },
        "id": "uC6qitdKhe1j",
        "outputId": "c9f48bbb-d3c8-4d97-ad7f-fa7c5787baff"
      },
      "execution_count": null,
      "outputs": [
        {
          "output_type": "execute_result",
          "data": {
            "text/plain": [
              "{'n_estimators': 1000}"
            ]
          },
          "metadata": {},
          "execution_count": 116
        }
      ]
    },
    {
      "cell_type": "code",
      "source": [
        "rfc_model = rfc_model.best_estimator_"
      ],
      "metadata": {
        "id": "F2CKHzrqiGUR"
      },
      "execution_count": null,
      "outputs": []
    },
    {
      "cell_type": "code",
      "source": [
        "rfc_model.fit(X_train, Y_train)"
      ],
      "metadata": {
        "colab": {
          "base_uri": "https://localhost:8080/"
        },
        "outputId": "26279ea0-e358-4939-8a2f-9893b4f80917",
        "id": "ekN798gnrkzf"
      },
      "execution_count": null,
      "outputs": [
        {
          "output_type": "execute_result",
          "data": {
            "text/plain": [
              "RandomForestClassifier(n_estimators=1000)"
            ]
          },
          "metadata": {},
          "execution_count": 118
        }
      ]
    },
    {
      "cell_type": "code",
      "source": [
        "y_pred = rfc_model.predict(X_test)"
      ],
      "metadata": {
        "id": "XLi0Qvp9rkzg"
      },
      "execution_count": null,
      "outputs": []
    },
    {
      "cell_type": "code",
      "source": [
        "print(\"Accuracy on train data: \"accuracy_score(train_class_preds,y_train))\n",
        "print(\"Accuracy on test data:\",accuracy_score(Y_test, y_pred))\n",
        "print(\"Precision:\",precision_score(Y_test, y_pred))\n",
        "print(\"Recall:\",recall_score(Y_test, y_pred))"
      ],
      "metadata": {
        "colab": {
          "base_uri": "https://localhost:8080/"
        },
        "outputId": "c41ef4bb-2c3b-400b-c777-fd77ef862843",
        "id": "bICguMgdrkzg"
      },
      "execution_count": null,
      "outputs": [
        {
          "output_type": "stream",
          "name": "stdout",
          "text": [
            "Accuracy: 0.8135\n",
            "Precision: 0.6357702349869452\n",
            "Recall: 0.36699321778447624\n"
          ]
        }
      ]
    },
    {
      "cell_type": "markdown",
      "source": [
        ""
      ],
      "metadata": {
        "id": "qUmTblPjPkIZ"
      }
    },
    {
      "cell_type": "markdown",
      "source": [
        "GRADIENT BOOSTING CLASSIFIER"
      ],
      "metadata": {
        "id": "p69BBGfYPkLa"
      }
    },
    {
      "cell_type": "code",
      "source": [
        "from sklearn.ensemble import GradientBoostingClassifier"
      ],
      "metadata": {
        "id": "pYI8FQqCroTI"
      },
      "execution_count": null,
      "outputs": []
    },
    {
      "cell_type": "code",
      "source": [
        "gbc = GradientBoostingClassifier()"
      ],
      "metadata": {
        "id": "b5y-XA16x0o-"
      },
      "execution_count": null,
      "outputs": []
    },
    {
      "cell_type": "code",
      "source": [
        "gbc.fit(X_train, Y_train)"
      ],
      "metadata": {
        "colab": {
          "base_uri": "https://localhost:8080/"
        },
        "id": "ul6l5s0hx4yI",
        "outputId": "ed116e3b-898b-4c53-a80c-33ac795b02be"
      },
      "execution_count": null,
      "outputs": [
        {
          "output_type": "execute_result",
          "data": {
            "text/plain": [
              "GradientBoostingClassifier()"
            ]
          },
          "metadata": {},
          "execution_count": 123
        }
      ]
    },
    {
      "cell_type": "code",
      "source": [
        "y_pred = gbc.predict(X_test)"
      ],
      "metadata": {
        "id": "SuTidYttx9IM"
      },
      "execution_count": null,
      "outputs": []
    },
    {
      "cell_type": "code",
      "source": [
        "print(\"Accuracy on train data: \"accuracy_score(train_class_preds,y_train))\n",
        "print(\"Accuracy on test data:\",accuracy_score(Y_test, y_pred))\n",
        "print(\"Precision:\",precision_score(Y_test, y_pred))\n",
        "print(\"Recall:\",recall_score(Y_test, y_pred))"
      ],
      "metadata": {
        "colab": {
          "base_uri": "https://localhost:8080/"
        },
        "id": "uKVezORqyCxF",
        "outputId": "f9847c99-2fd1-4664-b5da-bf03eff93253"
      },
      "execution_count": null,
      "outputs": [
        {
          "output_type": "stream",
          "name": "stdout",
          "text": [
            "Accuracy: 0.8186666666666667\n",
            "Precision: 0.6662030598052852\n",
            "Recall: 0.36096458176337604\n"
          ]
        }
      ]
    },
    {
      "cell_type": "code",
      "source": [
        "gbc_model = GridSearchCV(gbc, param_grid = dict(n_estimators = [10, 50],\n",
        "learning_rate = [0.001, 0.01, 0.1],\n",
        "subsample = [0.5, 0.7, 1.0],\n",
        "max_depth = [3, 7, 9]) , cv= 3, verbose= 2)"
      ],
      "metadata": {
        "id": "nBMScFwayFLL"
      },
      "execution_count": null,
      "outputs": []
    },
    {
      "cell_type": "code",
      "source": [
        "gbc_model.fit(X_train, Y_train)"
      ],
      "metadata": {
        "colab": {
          "base_uri": "https://localhost:8080/"
        },
        "id": "xex1Oqx5yfWx",
        "outputId": "4f79ef6a-e796-4980-a63c-05b0a8cb36f9"
      },
      "execution_count": null,
      "outputs": [
        {
          "output_type": "stream",
          "name": "stdout",
          "text": [
            "Fitting 3 folds for each of 54 candidates, totalling 162 fits\n",
            "[CV] END learning_rate=0.001, max_depth=3, n_estimators=10, subsample=0.5; total time=   0.4s\n",
            "[CV] END learning_rate=0.001, max_depth=3, n_estimators=10, subsample=0.5; total time=   0.4s\n",
            "[CV] END learning_rate=0.001, max_depth=3, n_estimators=10, subsample=0.5; total time=   0.4s\n",
            "[CV] END learning_rate=0.001, max_depth=3, n_estimators=10, subsample=0.7; total time=   0.5s\n",
            "[CV] END learning_rate=0.001, max_depth=3, n_estimators=10, subsample=0.7; total time=   0.5s\n",
            "[CV] END learning_rate=0.001, max_depth=3, n_estimators=10, subsample=0.7; total time=   0.5s\n",
            "[CV] END learning_rate=0.001, max_depth=3, n_estimators=10, subsample=1.0; total time=   0.6s\n",
            "[CV] END learning_rate=0.001, max_depth=3, n_estimators=10, subsample=1.0; total time=   0.6s\n",
            "[CV] END learning_rate=0.001, max_depth=3, n_estimators=10, subsample=1.0; total time=   0.7s\n",
            "[CV] END learning_rate=0.001, max_depth=3, n_estimators=50, subsample=0.5; total time=   1.8s\n",
            "[CV] END learning_rate=0.001, max_depth=3, n_estimators=50, subsample=0.5; total time=   1.8s\n",
            "[CV] END learning_rate=0.001, max_depth=3, n_estimators=50, subsample=0.5; total time=   1.8s\n",
            "[CV] END learning_rate=0.001, max_depth=3, n_estimators=50, subsample=0.7; total time=   2.4s\n",
            "[CV] END learning_rate=0.001, max_depth=3, n_estimators=50, subsample=0.7; total time=   2.4s\n",
            "[CV] END learning_rate=0.001, max_depth=3, n_estimators=50, subsample=0.7; total time=   2.4s\n",
            "[CV] END learning_rate=0.001, max_depth=3, n_estimators=50, subsample=1.0; total time=   3.2s\n",
            "[CV] END learning_rate=0.001, max_depth=3, n_estimators=50, subsample=1.0; total time=   3.2s\n",
            "[CV] END learning_rate=0.001, max_depth=3, n_estimators=50, subsample=1.0; total time=   3.2s\n",
            "[CV] END learning_rate=0.001, max_depth=7, n_estimators=10, subsample=0.5; total time=   0.8s\n",
            "[CV] END learning_rate=0.001, max_depth=7, n_estimators=10, subsample=0.5; total time=   0.8s\n",
            "[CV] END learning_rate=0.001, max_depth=7, n_estimators=10, subsample=0.5; total time=   0.8s\n",
            "[CV] END learning_rate=0.001, max_depth=7, n_estimators=10, subsample=0.7; total time=   1.0s\n",
            "[CV] END learning_rate=0.001, max_depth=7, n_estimators=10, subsample=0.7; total time=   1.0s\n",
            "[CV] END learning_rate=0.001, max_depth=7, n_estimators=10, subsample=0.7; total time=   1.0s\n",
            "[CV] END learning_rate=0.001, max_depth=7, n_estimators=10, subsample=1.0; total time=   1.4s\n",
            "[CV] END learning_rate=0.001, max_depth=7, n_estimators=10, subsample=1.0; total time=   1.4s\n",
            "[CV] END learning_rate=0.001, max_depth=7, n_estimators=10, subsample=1.0; total time=   1.4s\n",
            "[CV] END learning_rate=0.001, max_depth=7, n_estimators=50, subsample=0.5; total time=   3.7s\n",
            "[CV] END learning_rate=0.001, max_depth=7, n_estimators=50, subsample=0.5; total time=   3.8s\n",
            "[CV] END learning_rate=0.001, max_depth=7, n_estimators=50, subsample=0.5; total time=   3.7s\n",
            "[CV] END learning_rate=0.001, max_depth=7, n_estimators=50, subsample=0.7; total time=   5.1s\n",
            "[CV] END learning_rate=0.001, max_depth=7, n_estimators=50, subsample=0.7; total time=   5.1s\n",
            "[CV] END learning_rate=0.001, max_depth=7, n_estimators=50, subsample=0.7; total time=   5.1s\n",
            "[CV] END learning_rate=0.001, max_depth=7, n_estimators=50, subsample=1.0; total time=   7.0s\n",
            "[CV] END learning_rate=0.001, max_depth=7, n_estimators=50, subsample=1.0; total time=   7.1s\n",
            "[CV] END learning_rate=0.001, max_depth=7, n_estimators=50, subsample=1.0; total time=   7.0s\n",
            "[CV] END learning_rate=0.001, max_depth=9, n_estimators=10, subsample=0.5; total time=   1.0s\n",
            "[CV] END learning_rate=0.001, max_depth=9, n_estimators=10, subsample=0.5; total time=   1.0s\n",
            "[CV] END learning_rate=0.001, max_depth=9, n_estimators=10, subsample=0.5; total time=   1.0s\n",
            "[CV] END learning_rate=0.001, max_depth=9, n_estimators=10, subsample=0.7; total time=   1.4s\n",
            "[CV] END learning_rate=0.001, max_depth=9, n_estimators=10, subsample=0.7; total time=   1.4s\n",
            "[CV] END learning_rate=0.001, max_depth=9, n_estimators=10, subsample=0.7; total time=   1.4s\n",
            "[CV] END learning_rate=0.001, max_depth=9, n_estimators=10, subsample=1.0; total time=   1.8s\n",
            "[CV] END learning_rate=0.001, max_depth=9, n_estimators=10, subsample=1.0; total time=   1.8s\n",
            "[CV] END learning_rate=0.001, max_depth=9, n_estimators=10, subsample=1.0; total time=   1.8s\n",
            "[CV] END learning_rate=0.001, max_depth=9, n_estimators=50, subsample=0.5; total time=   5.0s\n",
            "[CV] END learning_rate=0.001, max_depth=9, n_estimators=50, subsample=0.5; total time=   5.1s\n",
            "[CV] END learning_rate=0.001, max_depth=9, n_estimators=50, subsample=0.5; total time=   5.0s\n",
            "[CV] END learning_rate=0.001, max_depth=9, n_estimators=50, subsample=0.7; total time=   7.9s\n",
            "[CV] END learning_rate=0.001, max_depth=9, n_estimators=50, subsample=0.7; total time=   6.9s\n",
            "[CV] END learning_rate=0.001, max_depth=9, n_estimators=50, subsample=0.7; total time=   6.7s\n",
            "[CV] END learning_rate=0.001, max_depth=9, n_estimators=50, subsample=1.0; total time=   9.1s\n",
            "[CV] END learning_rate=0.001, max_depth=9, n_estimators=50, subsample=1.0; total time=   9.2s\n",
            "[CV] END learning_rate=0.001, max_depth=9, n_estimators=50, subsample=1.0; total time=   9.2s\n",
            "[CV] END learning_rate=0.01, max_depth=3, n_estimators=10, subsample=0.5; total time=   0.4s\n",
            "[CV] END learning_rate=0.01, max_depth=3, n_estimators=10, subsample=0.5; total time=   0.4s\n",
            "[CV] END learning_rate=0.01, max_depth=3, n_estimators=10, subsample=0.5; total time=   0.4s\n",
            "[CV] END learning_rate=0.01, max_depth=3, n_estimators=10, subsample=0.7; total time=   0.5s\n",
            "[CV] END learning_rate=0.01, max_depth=3, n_estimators=10, subsample=0.7; total time=   0.5s\n",
            "[CV] END learning_rate=0.01, max_depth=3, n_estimators=10, subsample=0.7; total time=   0.5s\n",
            "[CV] END learning_rate=0.01, max_depth=3, n_estimators=10, subsample=1.0; total time=   0.7s\n",
            "[CV] END learning_rate=0.01, max_depth=3, n_estimators=10, subsample=1.0; total time=   0.6s\n",
            "[CV] END learning_rate=0.01, max_depth=3, n_estimators=10, subsample=1.0; total time=   0.7s\n",
            "[CV] END learning_rate=0.01, max_depth=3, n_estimators=50, subsample=0.5; total time=   1.8s\n",
            "[CV] END learning_rate=0.01, max_depth=3, n_estimators=50, subsample=0.5; total time=   1.8s\n",
            "[CV] END learning_rate=0.01, max_depth=3, n_estimators=50, subsample=0.5; total time=   1.8s\n",
            "[CV] END learning_rate=0.01, max_depth=3, n_estimators=50, subsample=0.7; total time=   2.4s\n",
            "[CV] END learning_rate=0.01, max_depth=3, n_estimators=50, subsample=0.7; total time=   2.4s\n",
            "[CV] END learning_rate=0.01, max_depth=3, n_estimators=50, subsample=0.7; total time=   2.4s\n",
            "[CV] END learning_rate=0.01, max_depth=3, n_estimators=50, subsample=1.0; total time=   3.2s\n",
            "[CV] END learning_rate=0.01, max_depth=3, n_estimators=50, subsample=1.0; total time=   3.2s\n",
            "[CV] END learning_rate=0.01, max_depth=3, n_estimators=50, subsample=1.0; total time=   3.3s\n",
            "[CV] END learning_rate=0.01, max_depth=7, n_estimators=10, subsample=0.5; total time=   0.8s\n",
            "[CV] END learning_rate=0.01, max_depth=7, n_estimators=10, subsample=0.5; total time=   0.8s\n",
            "[CV] END learning_rate=0.01, max_depth=7, n_estimators=10, subsample=0.5; total time=   0.8s\n",
            "[CV] END learning_rate=0.01, max_depth=7, n_estimators=10, subsample=0.7; total time=   1.1s\n",
            "[CV] END learning_rate=0.01, max_depth=7, n_estimators=10, subsample=0.7; total time=   1.1s\n",
            "[CV] END learning_rate=0.01, max_depth=7, n_estimators=10, subsample=0.7; total time=   1.1s\n",
            "[CV] END learning_rate=0.01, max_depth=7, n_estimators=10, subsample=1.0; total time=   1.5s\n",
            "[CV] END learning_rate=0.01, max_depth=7, n_estimators=10, subsample=1.0; total time=   1.4s\n",
            "[CV] END learning_rate=0.01, max_depth=7, n_estimators=10, subsample=1.0; total time=   1.4s\n",
            "[CV] END learning_rate=0.01, max_depth=7, n_estimators=50, subsample=0.5; total time=   3.9s\n",
            "[CV] END learning_rate=0.01, max_depth=7, n_estimators=50, subsample=0.5; total time=   3.8s\n",
            "[CV] END learning_rate=0.01, max_depth=7, n_estimators=50, subsample=0.5; total time=   3.8s\n",
            "[CV] END learning_rate=0.01, max_depth=7, n_estimators=50, subsample=0.7; total time=   5.2s\n",
            "[CV] END learning_rate=0.01, max_depth=7, n_estimators=50, subsample=0.7; total time=   5.2s\n",
            "[CV] END learning_rate=0.01, max_depth=7, n_estimators=50, subsample=0.7; total time=   5.2s\n",
            "[CV] END learning_rate=0.01, max_depth=7, n_estimators=50, subsample=1.0; total time=   7.2s\n",
            "[CV] END learning_rate=0.01, max_depth=7, n_estimators=50, subsample=1.0; total time=   7.2s\n",
            "[CV] END learning_rate=0.01, max_depth=7, n_estimators=50, subsample=1.0; total time=   7.2s\n",
            "[CV] END learning_rate=0.01, max_depth=9, n_estimators=10, subsample=0.5; total time=   1.0s\n",
            "[CV] END learning_rate=0.01, max_depth=9, n_estimators=10, subsample=0.5; total time=   1.0s\n",
            "[CV] END learning_rate=0.01, max_depth=9, n_estimators=10, subsample=0.5; total time=   1.0s\n",
            "[CV] END learning_rate=0.01, max_depth=9, n_estimators=10, subsample=0.7; total time=   1.4s\n",
            "[CV] END learning_rate=0.01, max_depth=9, n_estimators=10, subsample=0.7; total time=   1.4s\n",
            "[CV] END learning_rate=0.01, max_depth=9, n_estimators=10, subsample=0.7; total time=   1.4s\n",
            "[CV] END learning_rate=0.01, max_depth=9, n_estimators=10, subsample=1.0; total time=   1.9s\n",
            "[CV] END learning_rate=0.01, max_depth=9, n_estimators=10, subsample=1.0; total time=   1.9s\n",
            "[CV] END learning_rate=0.01, max_depth=9, n_estimators=10, subsample=1.0; total time=   1.9s\n",
            "[CV] END learning_rate=0.01, max_depth=9, n_estimators=50, subsample=0.5; total time=   5.1s\n",
            "[CV] END learning_rate=0.01, max_depth=9, n_estimators=50, subsample=0.5; total time=   5.1s\n",
            "[CV] END learning_rate=0.01, max_depth=9, n_estimators=50, subsample=0.5; total time=   5.1s\n",
            "[CV] END learning_rate=0.01, max_depth=9, n_estimators=50, subsample=0.7; total time=   6.8s\n",
            "[CV] END learning_rate=0.01, max_depth=9, n_estimators=50, subsample=0.7; total time=   6.9s\n",
            "[CV] END learning_rate=0.01, max_depth=9, n_estimators=50, subsample=0.7; total time=   6.8s\n",
            "[CV] END learning_rate=0.01, max_depth=9, n_estimators=50, subsample=1.0; total time=   9.3s\n",
            "[CV] END learning_rate=0.01, max_depth=9, n_estimators=50, subsample=1.0; total time=   9.3s\n",
            "[CV] END learning_rate=0.01, max_depth=9, n_estimators=50, subsample=1.0; total time=   9.1s\n",
            "[CV] END learning_rate=0.1, max_depth=3, n_estimators=10, subsample=0.5; total time=   0.4s\n",
            "[CV] END learning_rate=0.1, max_depth=3, n_estimators=10, subsample=0.5; total time=   0.4s\n",
            "[CV] END learning_rate=0.1, max_depth=3, n_estimators=10, subsample=0.5; total time=   0.4s\n",
            "[CV] END learning_rate=0.1, max_depth=3, n_estimators=10, subsample=0.7; total time=   0.5s\n",
            "[CV] END learning_rate=0.1, max_depth=3, n_estimators=10, subsample=0.7; total time=   0.5s\n",
            "[CV] END learning_rate=0.1, max_depth=3, n_estimators=10, subsample=0.7; total time=   0.5s\n",
            "[CV] END learning_rate=0.1, max_depth=3, n_estimators=10, subsample=1.0; total time=   0.6s\n",
            "[CV] END learning_rate=0.1, max_depth=3, n_estimators=10, subsample=1.0; total time=   0.6s\n",
            "[CV] END learning_rate=0.1, max_depth=3, n_estimators=10, subsample=1.0; total time=   0.6s\n",
            "[CV] END learning_rate=0.1, max_depth=3, n_estimators=50, subsample=0.5; total time=   1.7s\n",
            "[CV] END learning_rate=0.1, max_depth=3, n_estimators=50, subsample=0.5; total time=   1.7s\n",
            "[CV] END learning_rate=0.1, max_depth=3, n_estimators=50, subsample=0.5; total time=   1.7s\n",
            "[CV] END learning_rate=0.1, max_depth=3, n_estimators=50, subsample=0.7; total time=   2.4s\n",
            "[CV] END learning_rate=0.1, max_depth=3, n_estimators=50, subsample=0.7; total time=   2.3s\n",
            "[CV] END learning_rate=0.1, max_depth=3, n_estimators=50, subsample=0.7; total time=   2.4s\n",
            "[CV] END learning_rate=0.1, max_depth=3, n_estimators=50, subsample=1.0; total time=   3.1s\n",
            "[CV] END learning_rate=0.1, max_depth=3, n_estimators=50, subsample=1.0; total time=   3.2s\n",
            "[CV] END learning_rate=0.1, max_depth=3, n_estimators=50, subsample=1.0; total time=   3.2s\n",
            "[CV] END learning_rate=0.1, max_depth=7, n_estimators=10, subsample=0.5; total time=   0.8s\n",
            "[CV] END learning_rate=0.1, max_depth=7, n_estimators=10, subsample=0.5; total time=   0.8s\n",
            "[CV] END learning_rate=0.1, max_depth=7, n_estimators=10, subsample=0.5; total time=   0.8s\n",
            "[CV] END learning_rate=0.1, max_depth=7, n_estimators=10, subsample=0.7; total time=   1.0s\n",
            "[CV] END learning_rate=0.1, max_depth=7, n_estimators=10, subsample=0.7; total time=   1.0s\n",
            "[CV] END learning_rate=0.1, max_depth=7, n_estimators=10, subsample=0.7; total time=   1.0s\n",
            "[CV] END learning_rate=0.1, max_depth=7, n_estimators=10, subsample=1.0; total time=   1.4s\n",
            "[CV] END learning_rate=0.1, max_depth=7, n_estimators=10, subsample=1.0; total time=   1.4s\n",
            "[CV] END learning_rate=0.1, max_depth=7, n_estimators=10, subsample=1.0; total time=   1.4s\n",
            "[CV] END learning_rate=0.1, max_depth=7, n_estimators=50, subsample=0.5; total time=   3.7s\n",
            "[CV] END learning_rate=0.1, max_depth=7, n_estimators=50, subsample=0.5; total time=   3.8s\n",
            "[CV] END learning_rate=0.1, max_depth=7, n_estimators=50, subsample=0.5; total time=   3.8s\n",
            "[CV] END learning_rate=0.1, max_depth=7, n_estimators=50, subsample=0.7; total time=   5.1s\n",
            "[CV] END learning_rate=0.1, max_depth=7, n_estimators=50, subsample=0.7; total time=   5.1s\n",
            "[CV] END learning_rate=0.1, max_depth=7, n_estimators=50, subsample=0.7; total time=   5.1s\n",
            "[CV] END learning_rate=0.1, max_depth=7, n_estimators=50, subsample=1.0; total time=   8.2s\n",
            "[CV] END learning_rate=0.1, max_depth=7, n_estimators=50, subsample=1.0; total time=   7.1s\n",
            "[CV] END learning_rate=0.1, max_depth=7, n_estimators=50, subsample=1.0; total time=   7.1s\n",
            "[CV] END learning_rate=0.1, max_depth=9, n_estimators=10, subsample=0.5; total time=   1.0s\n",
            "[CV] END learning_rate=0.1, max_depth=9, n_estimators=10, subsample=0.5; total time=   1.0s\n",
            "[CV] END learning_rate=0.1, max_depth=9, n_estimators=10, subsample=0.5; total time=   1.0s\n",
            "[CV] END learning_rate=0.1, max_depth=9, n_estimators=10, subsample=0.7; total time=   1.4s\n",
            "[CV] END learning_rate=0.1, max_depth=9, n_estimators=10, subsample=0.7; total time=   1.4s\n",
            "[CV] END learning_rate=0.1, max_depth=9, n_estimators=10, subsample=0.7; total time=   1.3s\n",
            "[CV] END learning_rate=0.1, max_depth=9, n_estimators=10, subsample=1.0; total time=   1.9s\n",
            "[CV] END learning_rate=0.1, max_depth=9, n_estimators=10, subsample=1.0; total time=   1.8s\n",
            "[CV] END learning_rate=0.1, max_depth=9, n_estimators=10, subsample=1.0; total time=   1.8s\n",
            "[CV] END learning_rate=0.1, max_depth=9, n_estimators=50, subsample=0.5; total time=   4.9s\n",
            "[CV] END learning_rate=0.1, max_depth=9, n_estimators=50, subsample=0.5; total time=   4.9s\n",
            "[CV] END learning_rate=0.1, max_depth=9, n_estimators=50, subsample=0.5; total time=   4.9s\n",
            "[CV] END learning_rate=0.1, max_depth=9, n_estimators=50, subsample=0.7; total time=   6.7s\n",
            "[CV] END learning_rate=0.1, max_depth=9, n_estimators=50, subsample=0.7; total time=   6.7s\n",
            "[CV] END learning_rate=0.1, max_depth=9, n_estimators=50, subsample=0.7; total time=   6.7s\n",
            "[CV] END learning_rate=0.1, max_depth=9, n_estimators=50, subsample=1.0; total time=   9.3s\n",
            "[CV] END learning_rate=0.1, max_depth=9, n_estimators=50, subsample=1.0; total time=   9.3s\n",
            "[CV] END learning_rate=0.1, max_depth=9, n_estimators=50, subsample=1.0; total time=   9.2s\n"
          ]
        },
        {
          "output_type": "execute_result",
          "data": {
            "text/plain": [
              "GridSearchCV(cv=3, estimator=GradientBoostingClassifier(),\n",
              "             param_grid={'learning_rate': [0.001, 0.01, 0.1],\n",
              "                         'max_depth': [3, 7, 9], 'n_estimators': [10, 50],\n",
              "                         'subsample': [0.5, 0.7, 1.0]},\n",
              "             verbose=2)"
            ]
          },
          "metadata": {},
          "execution_count": 127
        }
      ]
    },
    {
      "cell_type": "code",
      "source": [
        "gbc_model.best_params_"
      ],
      "metadata": {
        "colab": {
          "base_uri": "https://localhost:8080/"
        },
        "id": "Su0hZxdLyjNw",
        "outputId": "c5367196-3511-4374-ec3a-f5dc76e8e038"
      },
      "execution_count": null,
      "outputs": [
        {
          "output_type": "execute_result",
          "data": {
            "text/plain": [
              "{'learning_rate': 0.1, 'max_depth': 3, 'n_estimators': 50, 'subsample': 0.5}"
            ]
          },
          "metadata": {},
          "execution_count": 128
        }
      ]
    },
    {
      "cell_type": "code",
      "source": [
        "gbc_model = gbc_model.best_estimator_"
      ],
      "metadata": {
        "id": "DXLp29s8yqP2"
      },
      "execution_count": null,
      "outputs": []
    },
    {
      "cell_type": "code",
      "source": [
        "gbc_model.fit(X_train, Y_train)"
      ],
      "metadata": {
        "colab": {
          "base_uri": "https://localhost:8080/"
        },
        "id": "Ql-6YqG8ytiW",
        "outputId": "63d9434a-32f3-44a9-ac8d-b116bebaf9e2"
      },
      "execution_count": null,
      "outputs": [
        {
          "output_type": "execute_result",
          "data": {
            "text/plain": [
              "GradientBoostingClassifier(n_estimators=50, subsample=0.5)"
            ]
          },
          "metadata": {},
          "execution_count": 130
        }
      ]
    },
    {
      "cell_type": "code",
      "source": [
        "y_pred = gbc_model.predict(X_test)"
      ],
      "metadata": {
        "id": "f2U4npOyyzJN"
      },
      "execution_count": null,
      "outputs": []
    },
    {
      "cell_type": "code",
      "source": [
        "print(\"Accuracy on train data: \"accuracy_score(train_class_preds,y_train))\n",
        "print(\"Accuracy on test data:\",accuracy_score(Y_test, y_pred))\n",
        "print(\"Precision:\",precision_score( Y_test, y_pred))\n",
        "print(\"Recall:\",recall_score(Y_test ,y_pred))"
      ],
      "metadata": {
        "colab": {
          "base_uri": "https://localhost:8080/"
        },
        "id": "-kwlMgedy5i8",
        "outputId": "87ab826d-7e65-40e4-d8e8-e54a9fa41642"
      },
      "execution_count": null,
      "outputs": [
        {
          "output_type": "stream",
          "name": "stdout",
          "text": [
            "Accuracy: 0.8186666666666667\n",
            "Precision: 0.665742024965326\n",
            "Recall: 0.3617181612660136\n"
          ]
        }
      ]
    },
    {
      "cell_type": "markdown",
      "source": [
        "XG BOOST"
      ],
      "metadata": {
        "id": "MJAyTBDgPwmz"
      }
    },
    {
      "cell_type": "code",
      "source": [
        "from xgboost import  XGBClassifier"
      ],
      "metadata": {
        "id": "xWbVEgMZzBV4"
      },
      "execution_count": null,
      "outputs": []
    },
    {
      "cell_type": "code",
      "source": [
        "X_train, X_test, y_train, y_test = train_test_split(X, Y, test_size=0.20, random_state=42, stratify = Y)"
      ],
      "metadata": {
        "id": "Ob0L4F3wmstM"
      },
      "execution_count": null,
      "outputs": []
    },
    {
      "cell_type": "code",
      "source": [
        "param_test1 = {\n",
        " 'max_depth':range(3,10,2),\n",
        " 'min_child_weight':range(1,6,2)\n",
        "}\n",
        "gsearch1 = GridSearchCV(estimator = XGBClassifier( learning_rate =0.1, n_estimators=140, max_depth=5,\n",
        " min_child_weight=1, gamma=0, subsample=0.8, colsample_bytree=0.8,\n",
        " objective= 'binary:logistic', nthread=4, scale_pos_weight=1, seed=27), \n",
        " param_grid = param_test1, scoring='accuracy',n_jobs=-1, cv=3, verbose = 2)\n",
        "gsearch1.fit(X_train, y_train)"
      ],
      "metadata": {
        "colab": {
          "base_uri": "https://localhost:8080/"
        },
        "id": "D5uffgsSmzxW",
        "outputId": "414216d5-164a-40da-86f5-18d97d85e847"
      },
      "execution_count": null,
      "outputs": [
        {
          "output_type": "stream",
          "name": "stdout",
          "text": [
            "Fitting 3 folds for each of 12 candidates, totalling 36 fits\n"
          ]
        },
        {
          "output_type": "execute_result",
          "data": {
            "text/plain": [
              "GridSearchCV(cv=3,\n",
              "             estimator=XGBClassifier(colsample_bytree=0.8, max_depth=5,\n",
              "                                     n_estimators=140, nthread=4, seed=27,\n",
              "                                     subsample=0.8),\n",
              "             n_jobs=-1,\n",
              "             param_grid={'max_depth': range(3, 10, 2),\n",
              "                         'min_child_weight': range(1, 6, 2)},\n",
              "             scoring='accuracy', verbose=2)"
            ]
          },
          "metadata": {},
          "execution_count": 135
        }
      ]
    },
    {
      "cell_type": "code",
      "source": [
        " gsearch1.best_score_"
      ],
      "metadata": {
        "colab": {
          "base_uri": "https://localhost:8080/"
        },
        "id": "CWaS1JLwm8gG",
        "outputId": "32b4f384-dfce-4626-d557-feae490c202f"
      },
      "execution_count": null,
      "outputs": [
        {
          "output_type": "execute_result",
          "data": {
            "text/plain": [
              "0.8215833333333333"
            ]
          },
          "metadata": {},
          "execution_count": 136
        }
      ]
    },
    {
      "cell_type": "code",
      "source": [
        "optimal_xgb = gsearch1.best_estimator_"
      ],
      "metadata": {
        "id": "la16o0ijnLep"
      },
      "execution_count": null,
      "outputs": []
    },
    {
      "cell_type": "code",
      "source": [
        "# Get the predicted classes\n",
        "train_class_preds = optimal_xgb.predict(X_train)\n",
        "test_class_preds = optimal_xgb.predict(X_test)"
      ],
      "metadata": {
        "id": "eXHXNFq6n6c6"
      },
      "execution_count": null,
      "outputs": []
    },
    {
      "cell_type": "code",
      "source": [
        "# Get the accuracy scores\n",
        "train_accuracy_xgb_tuned = accuracy_score(train_class_preds,y_train)\n",
        "test_accuracy_xgb_tuned = accuracy_score(test_class_preds,y_test)\n",
        "\n",
        "print(\"The accuracy on train data is \", train_accuracy_xgb_tuned)\n",
        "print(\"The accuracy on test data is \", test_accuracy_xgb_tuned)"
      ],
      "metadata": {
        "colab": {
          "base_uri": "https://localhost:8080/"
        },
        "id": "5NSUMS25n9ME",
        "outputId": "fec4384b-b47d-465a-b3ff-e7506868d951"
      },
      "execution_count": null,
      "outputs": [
        {
          "output_type": "stream",
          "name": "stdout",
          "text": [
            "The accuracy on train data is  0.827\n",
            "The accuracy on test data is  0.8193333333333334\n"
          ]
        }
      ]
    },
    {
      "cell_type": "code",
      "source": [
        "test_accuracy_xgb_tuned = accuracy_score(test_class_preds,y_test)\n",
        "test_precision_xgb_tuned = precision_score(test_class_preds,y_test)\n",
        "test_recall_score_xgb_tuned = recall_score(test_class_preds,y_test)\n",
        "\n",
        "\n",
        "print(\"The accuracy on test data is \", test_accuracy_xgb_tuned)\n",
        "print(\"The precision on test data is \", test_precision_xgb_tuned)\n",
        "print(\"The recall on test data is \", test_recall_score_xgb_tuned)\n"
      ],
      "metadata": {
        "colab": {
          "base_uri": "https://localhost:8080/"
        },
        "id": "8vbdRpUjn_aY",
        "outputId": "43ce7255-8ba4-45b6-f319-e660853c0527"
      },
      "execution_count": null,
      "outputs": [
        {
          "output_type": "stream",
          "name": "stdout",
          "text": [
            "The accuracy on test data is  0.8193333333333334\n",
            "The precision on test data is  0.36096458176337604\n",
            "The recall on test data is  0.66993006993007\n"
          ]
        }
      ]
    }
  ]
}